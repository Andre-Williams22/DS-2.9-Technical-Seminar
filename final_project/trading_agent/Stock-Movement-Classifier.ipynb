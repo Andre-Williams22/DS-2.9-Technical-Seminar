{
 "cells": [
  {
   "cell_type": "code",
   "execution_count": 1,
   "metadata": {
    "scrolled": true
   },
   "outputs": [
    {
     "name": "stdout",
     "output_type": "stream",
     "text": [
      "Requirement already satisfied: backtesting in /Users/andrewilliams/Documents/Dev/DS-2.9-Technical-Seminar/my_env/lib/python3.8/site-packages (0.3.1)\n",
      "Requirement already satisfied: yfinance in /Users/andrewilliams/Documents/Dev/DS-2.9-Technical-Seminar/my_env/lib/python3.8/site-packages (0.1.59)\n",
      "Requirement already satisfied: pandas!=0.25.0,>=0.25.0 in /Users/andrewilliams/Documents/Dev/DS-2.9-Technical-Seminar/my_env/lib/python3.8/site-packages (from backtesting) (1.0.5)\n",
      "Requirement already satisfied: numpy in /Users/andrewilliams/Documents/Dev/DS-2.9-Technical-Seminar/my_env/lib/python3.8/site-packages (from backtesting) (1.19.1)\n",
      "Requirement already satisfied: bokeh>=1.4.0 in /Users/andrewilliams/Documents/Dev/DS-2.9-Technical-Seminar/my_env/lib/python3.8/site-packages (from backtesting) (2.3.1)\n",
      "Requirement already satisfied: Jinja2>=2.7 in /Users/andrewilliams/Documents/Dev/DS-2.9-Technical-Seminar/my_env/lib/python3.8/site-packages (from bokeh>=1.4.0->backtesting) (2.11.3)\n",
      "Requirement already satisfied: tornado>=5.1 in /Users/andrewilliams/Documents/Dev/DS-2.9-Technical-Seminar/my_env/lib/python3.8/site-packages (from bokeh>=1.4.0->backtesting) (6.1)\n",
      "Requirement already satisfied: PyYAML>=3.10 in /Users/andrewilliams/Documents/Dev/DS-2.9-Technical-Seminar/my_env/lib/python3.8/site-packages (from bokeh>=1.4.0->backtesting) (5.3.1)\n",
      "Requirement already satisfied: pillow>=7.1.0 in /Users/andrewilliams/Documents/Dev/DS-2.9-Technical-Seminar/my_env/lib/python3.8/site-packages (from bokeh>=1.4.0->backtesting) (8.1.2)\n",
      "Requirement already satisfied: packaging>=16.8 in /Users/andrewilliams/Documents/Dev/DS-2.9-Technical-Seminar/my_env/lib/python3.8/site-packages (from bokeh>=1.4.0->backtesting) (20.9)\n",
      "Requirement already satisfied: typing-extensions>=3.7.4 in /Users/andrewilliams/Documents/Dev/DS-2.9-Technical-Seminar/my_env/lib/python3.8/site-packages (from bokeh>=1.4.0->backtesting) (3.7.4.3)\n",
      "Requirement already satisfied: python-dateutil>=2.1 in /Users/andrewilliams/Documents/Dev/DS-2.9-Technical-Seminar/my_env/lib/python3.8/site-packages (from bokeh>=1.4.0->backtesting) (2.8.1)\n",
      "Requirement already satisfied: MarkupSafe>=0.23 in /Users/andrewilliams/Documents/Dev/DS-2.9-Technical-Seminar/my_env/lib/python3.8/site-packages (from Jinja2>=2.7->bokeh>=1.4.0->backtesting) (1.1.1)\n",
      "Requirement already satisfied: pyparsing>=2.0.2 in /Users/andrewilliams/Documents/Dev/DS-2.9-Technical-Seminar/my_env/lib/python3.8/site-packages (from packaging>=16.8->bokeh>=1.4.0->backtesting) (2.4.7)\n",
      "Requirement already satisfied: pytz>=2017.2 in /Users/andrewilliams/Documents/Dev/DS-2.9-Technical-Seminar/my_env/lib/python3.8/site-packages (from pandas!=0.25.0,>=0.25.0->backtesting) (2021.1)\n",
      "Requirement already satisfied: six>=1.5 in /Users/andrewilliams/Documents/Dev/DS-2.9-Technical-Seminar/my_env/lib/python3.8/site-packages (from python-dateutil>=2.1->bokeh>=1.4.0->backtesting) (1.15.0)\n",
      "Requirement already satisfied: requests>=2.20 in /Users/andrewilliams/Documents/Dev/DS-2.9-Technical-Seminar/my_env/lib/python3.8/site-packages (from yfinance) (2.25.1)\n",
      "Requirement already satisfied: multitasking>=0.0.7 in /Users/andrewilliams/Documents/Dev/DS-2.9-Technical-Seminar/my_env/lib/python3.8/site-packages (from yfinance) (0.0.9)\n",
      "Requirement already satisfied: lxml>=4.5.1 in /Users/andrewilliams/Documents/Dev/DS-2.9-Technical-Seminar/my_env/lib/python3.8/site-packages (from yfinance) (4.6.3)\n",
      "Requirement already satisfied: idna<3,>=2.5 in /Users/andrewilliams/Documents/Dev/DS-2.9-Technical-Seminar/my_env/lib/python3.8/site-packages (from requests>=2.20->yfinance) (2.10)\n",
      "Requirement already satisfied: urllib3<1.27,>=1.21.1 in /Users/andrewilliams/Documents/Dev/DS-2.9-Technical-Seminar/my_env/lib/python3.8/site-packages (from requests>=2.20->yfinance) (1.26.4)\n",
      "Requirement already satisfied: certifi>=2017.4.17 in /Users/andrewilliams/Documents/Dev/DS-2.9-Technical-Seminar/my_env/lib/python3.8/site-packages (from requests>=2.20->yfinance) (2020.12.5)\n",
      "Requirement already satisfied: chardet<5,>=3.0.2 in /Users/andrewilliams/Documents/Dev/DS-2.9-Technical-Seminar/my_env/lib/python3.8/site-packages (from requests>=2.20->yfinance) (4.0.0)\n",
      "\u001b[33mWARNING: You are using pip version 21.0.1; however, version 21.1.1 is available.\n",
      "You should consider upgrading via the '/Users/andrewilliams/Documents/Dev/DS-2.9-Technical-Seminar/my_env/bin/python3 -m pip install --upgrade pip' command.\u001b[0m\n"
     ]
    }
   ],
   "source": [
    "import sys\n",
    "!{sys.executable} -m pip install backtesting yfinance "
   ]
  },
  {
   "cell_type": "code",
   "execution_count": 2,
   "metadata": {},
   "outputs": [],
   "source": [
    "import pandas as pd \n",
    "import numpy as np \n",
    "import matplotlib.pyplot as plt \n",
    "import seaborn as sns \n",
    "\n",
    "# models \n",
    "from sklearn import svm\n",
    "from sklearn.linear_model import LogisticRegression\n",
    "from sklearn.ensemble import RandomForestClassifier\n",
    "from sklearn.neighbors import KNeighborsClassifier\n",
    "from sklearn.ensemble import GradientBoostingClassifier\n",
    "from sklearn.linear_model import SGDClassifier\n",
    "\n",
    "from yahoofinancials import YahooFinancials as yf\n",
    "from sklearn.model_selection import train_test_split\n",
    "from sklearn.metrics import accuracy_score, plot_confusion_matrix\n",
    "from sklearn.preprocessing import MinMaxScaler\n",
    "from sklearn.model_selection import RandomizedSearchCV, GridSearchCV\n",
    "%matplotlib inline"
   ]
  },
  {
   "cell_type": "code",
   "execution_count": 3,
   "metadata": {},
   "outputs": [
    {
     "name": "stdout",
     "output_type": "stream",
     "text": [
      "Requirement already satisfied: alpha_vantage in /Users/andrewilliams/Documents/Dev/DS-2.9-Technical-Seminar/my_env/lib/python3.8/site-packages (2.3.1)\n",
      "Requirement already satisfied: requests in /Users/andrewilliams/Documents/Dev/DS-2.9-Technical-Seminar/my_env/lib/python3.8/site-packages (from alpha_vantage) (2.25.1)\n",
      "Requirement already satisfied: aiohttp in /Users/andrewilliams/Documents/Dev/DS-2.9-Technical-Seminar/my_env/lib/python3.8/site-packages (from alpha_vantage) (3.7.4.post0)\n",
      "Requirement already satisfied: multidict<7.0,>=4.5 in /Users/andrewilliams/Documents/Dev/DS-2.9-Technical-Seminar/my_env/lib/python3.8/site-packages (from aiohttp->alpha_vantage) (5.1.0)\n",
      "Requirement already satisfied: async-timeout<4.0,>=3.0 in /Users/andrewilliams/Documents/Dev/DS-2.9-Technical-Seminar/my_env/lib/python3.8/site-packages (from aiohttp->alpha_vantage) (3.0.1)\n",
      "Requirement already satisfied: yarl<2.0,>=1.0 in /Users/andrewilliams/Documents/Dev/DS-2.9-Technical-Seminar/my_env/lib/python3.8/site-packages (from aiohttp->alpha_vantage) (1.6.3)\n",
      "Requirement already satisfied: attrs>=17.3.0 in /Users/andrewilliams/Documents/Dev/DS-2.9-Technical-Seminar/my_env/lib/python3.8/site-packages (from aiohttp->alpha_vantage) (20.3.0)\n",
      "Requirement already satisfied: chardet<5.0,>=2.0 in /Users/andrewilliams/Documents/Dev/DS-2.9-Technical-Seminar/my_env/lib/python3.8/site-packages (from aiohttp->alpha_vantage) (4.0.0)\n",
      "Requirement already satisfied: typing-extensions>=3.6.5 in /Users/andrewilliams/Documents/Dev/DS-2.9-Technical-Seminar/my_env/lib/python3.8/site-packages (from aiohttp->alpha_vantage) (3.7.4.3)\n",
      "Requirement already satisfied: idna>=2.0 in /Users/andrewilliams/Documents/Dev/DS-2.9-Technical-Seminar/my_env/lib/python3.8/site-packages (from yarl<2.0,>=1.0->aiohttp->alpha_vantage) (2.10)\n",
      "Requirement already satisfied: urllib3<1.27,>=1.21.1 in /Users/andrewilliams/Documents/Dev/DS-2.9-Technical-Seminar/my_env/lib/python3.8/site-packages (from requests->alpha_vantage) (1.26.4)\n",
      "Requirement already satisfied: certifi>=2017.4.17 in /Users/andrewilliams/Documents/Dev/DS-2.9-Technical-Seminar/my_env/lib/python3.8/site-packages (from requests->alpha_vantage) (2020.12.5)\n",
      "\u001b[33mWARNING: You are using pip version 21.0.1; however, version 21.1.1 is available.\n",
      "You should consider upgrading via the '/Users/andrewilliams/Documents/Dev/DS-2.9-Technical-Seminar/my_env/bin/python3 -m pip install --upgrade pip' command.\u001b[0m\n"
     ]
    }
   ],
   "source": [
    "# Install a pip package in the current Jupyter kernel\n",
    "import sys\n",
    "!{sys.executable} -m pip install alpha_vantage"
   ]
  },
  {
   "cell_type": "markdown",
   "metadata": {},
   "source": [
    "## Alphavantage Intraday Data up to 2 years "
   ]
  },
  {
   "cell_type": "code",
   "execution_count": 4,
   "metadata": {},
   "outputs": [],
   "source": [
    "from alpha_vantage.timeseries import TimeSeries\n",
    "import pandas as pd\n",
    "from functools import reduce\n",
    "\n",
    "def alpha_vantage_data(symbol, interval):\n",
    "    apiKey = 'IOLIXAXKGPI3A4QM'\n",
    "\n",
    "    ts = TimeSeries(key = apiKey, output_format = 'csv')\n",
    "\n",
    "    data_frames = []\n",
    "\n",
    "    #download the csv\n",
    "    month_one = ts.get_intraday_extended(symbol = symbol , interval = interval , slice ='year1month1')\n",
    "    one = pd.DataFrame(list(month_one[0]))\n",
    "    data_frames.append(one)\n",
    "\n",
    "    month_two = ts.get_intraday_extended(symbol = symbol, interval = interval, slice ='year1month2')\n",
    "    month_two = pd.DataFrame(list(month_two[0]))\n",
    "    data_frames.append(month_two)\n",
    "    \n",
    "    month_three = ts.get_intraday_extended(symbol = symbol, interval = interval, slice ='year1month3')\n",
    "    month_three = pd.DataFrame(list(month_three[0]))\n",
    "    data_frames.append(month_three)\n",
    "    \n",
    "    month_four = ts.get_intraday_extended(symbol = symbol, interval = interval, slice ='year1month4')\n",
    "    month_four = pd.DataFrame(list(month_four[0]))\n",
    "    data_frames.append(month_four)\n",
    "    \n",
    "    month_five = ts.get_intraday_extended(symbol = symbol, interval = interval, slice ='year1month5')\n",
    "    month_five = pd.DataFrame(list(month_five[0]))\n",
    "    data_frames.append(month_five)\n",
    "    \n",
    "#     month_six = ts.get_intraday_extended(symbol = symbol, interval = interval, slice ='year1month6')\n",
    "#     month_six = pd.DataFrame(list(month_six[0]))\n",
    "#     data_frames.append(month_six)\n",
    "    \n",
    "#     month_seven = ts.get_intraday_extended(symbol = symbol, interval = interval, slice ='year1month7')\n",
    "#     month_seven = pd.DataFrame(list(month_seven[0]))\n",
    "#     data_frames.append(month_seven)\n",
    "    \n",
    "    \n",
    "#     month_eight = ts.get_intraday_extended(symbol = symbol, interval = interval, slice ='year1month8')\n",
    "#     month_eight = pd.DataFrame(list(month_eight[0]))\n",
    "#     data_frames.append(month_eight)\n",
    "\n",
    "#     month_nine = ts.get_intraday_extended(symbol = symbol, interval = interval, slice ='year1month9')\n",
    "#     month_nine = pd.DataFrame(list(month_nine[0]))\n",
    "#     data_frames.append(month_nine)\n",
    "    \n",
    "#     month_ten = ts.get_intraday_extended(symbol = symbol, interval = interval, slice ='year1month10')\n",
    "#     month_ten = pd.DataFrame(list(month_ten[0]))\n",
    "#     data_frames.append(month_ten)\n",
    "    \n",
    "#     month_eleven = ts.get_intraday_extended(symbol = symbol, interval = interval, slice ='year1month11')\n",
    "#     month_eleven = pd.DataFrame(list(month_eleven[0]))\n",
    "#     data_frames.append(month_eleven) \n",
    "    \n",
    "#     month_twelve = ts.get_intraday_extended(symbol = symbol, interval = interval, slice ='year1month12')\n",
    "#     month_twelve = pd.DataFrame(list(month_twelve[0]))\n",
    "#     data_frames.append(month_twelve)\n",
    "    \n",
    "    df = pd.concat(data_frames)\n",
    "    \n",
    "#     #df_merged = reduce(lambda  left,right: pd.merge(left,right,on=['DATE'], how='outer'), data_frames).fillna('void')\n",
    "\n",
    "    #csv --> dataframe\n",
    "#     df = pd.DataFrame(list(df_merged[0]))\n",
    "\n",
    "    # print(df)\n",
    "\n",
    "    #setup of column and index\n",
    "    header_row=0\n",
    "    df.columns = df.iloc[header_row]\n",
    "    df = df.drop(header_row)\n",
    "    df['time'] = pd.to_datetime(df['time'])\n",
    "    df.set_index('time', inplace=True)\n",
    "    df = df.drop_duplicates()\n",
    "\n",
    "    #show output\n",
    "    return df "
   ]
  },
  {
   "cell_type": "code",
   "execution_count": 5,
   "metadata": {},
   "outputs": [
    {
     "data": {
      "text/html": [
       "<div>\n",
       "<style scoped>\n",
       "    .dataframe tbody tr th:only-of-type {\n",
       "        vertical-align: middle;\n",
       "    }\n",
       "\n",
       "    .dataframe tbody tr th {\n",
       "        vertical-align: top;\n",
       "    }\n",
       "\n",
       "    .dataframe thead th {\n",
       "        text-align: right;\n",
       "    }\n",
       "</style>\n",
       "<table border=\"1\" class=\"dataframe\">\n",
       "  <thead>\n",
       "    <tr style=\"text-align: right;\">\n",
       "      <th></th>\n",
       "      <th>open</th>\n",
       "      <th>high</th>\n",
       "      <th>low</th>\n",
       "      <th>close</th>\n",
       "      <th>volume</th>\n",
       "    </tr>\n",
       "    <tr>\n",
       "      <th>time</th>\n",
       "      <th></th>\n",
       "      <th></th>\n",
       "      <th></th>\n",
       "      <th></th>\n",
       "      <th></th>\n",
       "    </tr>\n",
       "  </thead>\n",
       "  <tbody>\n",
       "    <tr>\n",
       "      <th>2020-12-15 05:15:00</th>\n",
       "      <td>27.47</td>\n",
       "      <td>27.47</td>\n",
       "      <td>27.42</td>\n",
       "      <td>27.47</td>\n",
       "      <td>630</td>\n",
       "    </tr>\n",
       "    <tr>\n",
       "      <th>2020-12-15 05:00:00</th>\n",
       "      <td>27.38</td>\n",
       "      <td>27.48</td>\n",
       "      <td>27.38</td>\n",
       "      <td>27.48</td>\n",
       "      <td>4365</td>\n",
       "    </tr>\n",
       "    <tr>\n",
       "      <th>2020-12-15 04:45:00</th>\n",
       "      <td>27.35</td>\n",
       "      <td>27.5</td>\n",
       "      <td>27.35</td>\n",
       "      <td>27.44</td>\n",
       "      <td>4168</td>\n",
       "    </tr>\n",
       "    <tr>\n",
       "      <th>2020-12-15 04:30:00</th>\n",
       "      <td>27.48</td>\n",
       "      <td>27.5</td>\n",
       "      <td>27.3</td>\n",
       "      <td>27.39</td>\n",
       "      <td>4136</td>\n",
       "    </tr>\n",
       "    <tr>\n",
       "      <th>2020-12-15 04:15:00</th>\n",
       "      <td>27.23</td>\n",
       "      <td>27.47</td>\n",
       "      <td>27.23</td>\n",
       "      <td>27.47</td>\n",
       "      <td>2118</td>\n",
       "    </tr>\n",
       "  </tbody>\n",
       "</table>\n",
       "</div>"
      ],
      "text/plain": [
       "0                     open   high    low  close volume\n",
       "time                                                  \n",
       "2020-12-15 05:15:00  27.47  27.47  27.42  27.47    630\n",
       "2020-12-15 05:00:00  27.38  27.48  27.38  27.48   4365\n",
       "2020-12-15 04:45:00  27.35   27.5  27.35  27.44   4168\n",
       "2020-12-15 04:30:00  27.48   27.5   27.3  27.39   4136\n",
       "2020-12-15 04:15:00  27.23  27.47  27.23  27.47   2118"
      ]
     },
     "execution_count": 5,
     "metadata": {},
     "output_type": "execute_result"
    }
   ],
   "source": [
    "df = alpha_vantage_data('PLTR', '15min')\n",
    "\n",
    "df.tail()\n",
    "## combine dataframes "
   ]
  },
  {
   "cell_type": "code",
   "execution_count": 6,
   "metadata": {},
   "outputs": [
    {
     "name": "stdout",
     "output_type": "stream",
     "text": [
      "<class 'pandas.core.frame.DataFrame'>\n",
      "DatetimeIndex: 6569 entries, 2021-05-13 20:00:00 to 2020-12-15 04:15:00\n",
      "Data columns (total 5 columns):\n",
      " #   Column  Non-Null Count  Dtype  \n",
      "---  ------  --------------  -----  \n",
      " 0   open    6569 non-null   float64\n",
      " 1   high    6569 non-null   float64\n",
      " 2   low     6569 non-null   float64\n",
      " 3   close   6569 non-null   float64\n",
      " 4   volume  6569 non-null   int64  \n",
      "dtypes: float64(4), int64(1)\n",
      "memory usage: 307.9 KB\n"
     ]
    }
   ],
   "source": [
    "df = df.apply(pd.to_numeric)\n",
    "df.info()"
   ]
  },
  {
   "cell_type": "code",
   "execution_count": 7,
   "metadata": {},
   "outputs": [
    {
     "data": {
      "text/plain": [
       "6569"
      ]
     },
     "execution_count": 7,
     "metadata": {},
     "output_type": "execute_result"
    }
   ],
   "source": [
    "len(df)"
   ]
  },
  {
   "cell_type": "markdown",
   "metadata": {},
   "source": [
    "## Yahoo Finance Data "
   ]
  },
  {
   "cell_type": "code",
   "execution_count": 8,
   "metadata": {},
   "outputs": [],
   "source": [
    "# Picking the stock to predict and get historical data\n",
    "import yfinance as yf\n",
    "import datetime\n",
    "\n",
    "def get_stock_data(tickers, start_date='', end_date='', freq='daily'):\n",
    "    '''This function takes the list of stock ticker and get historical OHLC data\n",
    "    \n",
    "    Parameters\n",
    "    ----------\n",
    "    tickers : list/iterable\n",
    "        Iterable object containing ticker symbols as strings\n",
    "    start_date : str, optional\n",
    "        Takes start date of data, format = 'yyyy-mm-dd'\n",
    "    end_date : str, optional\n",
    "        Takes end date of data, format = 'yyyy-mm-dd'\n",
    "        \n",
    "    Returns\n",
    "    -------\n",
    "    pandas DataFrame containing pricing data and list containing tickers whose data was not found\n",
    "    \n",
    "    '''\n",
    "\n",
    "#     ticker_not_found=[]\n",
    "#     for ticker in tickers:\n",
    "#         yf_engine = yf(ticker)\n",
    "#         price = yf_engine.get_historical_price_data(start_date,end_date,freq)\n",
    "#         #store the data in DataFrame\n",
    "#         try:\n",
    "#             ticker_data = pd.DataFrame(price[ticker]['prices'])\n",
    "#             ticker_data = ticker_data.drop('date', axis=1) # We will use formatted_date columns instead\n",
    "#         except:\n",
    "#             ticker_not_found.append(ticker)\n",
    "#             continue\n",
    "            \n",
    "#     return ticker_data, ticker_not_found\n",
    "\n",
    "\n",
    "\n",
    "    # import mplfinance as mpf\n",
    "    # from datetime import datetime\n",
    "    \n",
    "    start_date = datetime.datetime.now() - datetime.timedelta(59)\n",
    "    current_date = datetime.datetime.today()\n",
    "    # sd = datetime(2021, 2, 5)\n",
    "    # ed = datetime(2021, 4, 2)\n",
    "    for ticker in tickers:\n",
    "        data = yf.download(tickers=ticker, start=start_date, end=current_date, interval=\"15m\")\n",
    "    # mpf.plot(df,type='candle',mav=(3,6,9),volume=True)\n",
    "    return data"
   ]
  },
  {
   "cell_type": "code",
   "execution_count": 9,
   "metadata": {},
   "outputs": [
    {
     "name": "stdout",
     "output_type": "stream",
     "text": [
      "[*********************100%***********************]  1 of 1 completed\n"
     ]
    },
    {
     "data": {
      "text/html": [
       "<div>\n",
       "<style scoped>\n",
       "    .dataframe tbody tr th:only-of-type {\n",
       "        vertical-align: middle;\n",
       "    }\n",
       "\n",
       "    .dataframe tbody tr th {\n",
       "        vertical-align: top;\n",
       "    }\n",
       "\n",
       "    .dataframe thead th {\n",
       "        text-align: right;\n",
       "    }\n",
       "</style>\n",
       "<table border=\"1\" class=\"dataframe\">\n",
       "  <thead>\n",
       "    <tr style=\"text-align: right;\">\n",
       "      <th></th>\n",
       "      <th>Open</th>\n",
       "      <th>High</th>\n",
       "      <th>Low</th>\n",
       "      <th>Close</th>\n",
       "      <th>Adj Close</th>\n",
       "      <th>Volume</th>\n",
       "    </tr>\n",
       "    <tr>\n",
       "      <th>Datetime</th>\n",
       "      <th></th>\n",
       "      <th></th>\n",
       "      <th></th>\n",
       "      <th></th>\n",
       "      <th></th>\n",
       "      <th></th>\n",
       "    </tr>\n",
       "  </thead>\n",
       "  <tbody>\n",
       "    <tr>\n",
       "      <th>2021-03-16 11:00:00-04:00</th>\n",
       "      <td>48.549999</td>\n",
       "      <td>48.730000</td>\n",
       "      <td>48.500000</td>\n",
       "      <td>48.652401</td>\n",
       "      <td>48.652401</td>\n",
       "      <td>49541</td>\n",
       "    </tr>\n",
       "    <tr>\n",
       "      <th>2021-03-16 11:15:00-04:00</th>\n",
       "      <td>48.639999</td>\n",
       "      <td>48.880001</td>\n",
       "      <td>48.630001</td>\n",
       "      <td>48.659302</td>\n",
       "      <td>48.659302</td>\n",
       "      <td>51063</td>\n",
       "    </tr>\n",
       "    <tr>\n",
       "      <th>2021-03-16 11:30:00-04:00</th>\n",
       "      <td>48.709999</td>\n",
       "      <td>48.990002</td>\n",
       "      <td>48.685001</td>\n",
       "      <td>48.990002</td>\n",
       "      <td>48.990002</td>\n",
       "      <td>55297</td>\n",
       "    </tr>\n",
       "    <tr>\n",
       "      <th>2021-03-16 11:45:00-04:00</th>\n",
       "      <td>48.983799</td>\n",
       "      <td>49.270000</td>\n",
       "      <td>48.919998</td>\n",
       "      <td>49.255001</td>\n",
       "      <td>49.255001</td>\n",
       "      <td>51065</td>\n",
       "    </tr>\n",
       "    <tr>\n",
       "      <th>2021-03-16 12:00:00-04:00</th>\n",
       "      <td>49.220001</td>\n",
       "      <td>49.470001</td>\n",
       "      <td>49.189999</td>\n",
       "      <td>49.419998</td>\n",
       "      <td>49.419998</td>\n",
       "      <td>67652</td>\n",
       "    </tr>\n",
       "  </tbody>\n",
       "</table>\n",
       "</div>"
      ],
      "text/plain": [
       "                                Open       High        Low      Close  \\\n",
       "Datetime                                                                \n",
       "2021-03-16 11:00:00-04:00  48.549999  48.730000  48.500000  48.652401   \n",
       "2021-03-16 11:15:00-04:00  48.639999  48.880001  48.630001  48.659302   \n",
       "2021-03-16 11:30:00-04:00  48.709999  48.990002  48.685001  48.990002   \n",
       "2021-03-16 11:45:00-04:00  48.983799  49.270000  48.919998  49.255001   \n",
       "2021-03-16 12:00:00-04:00  49.220001  49.470001  49.189999  49.419998   \n",
       "\n",
       "                           Adj Close  Volume  \n",
       "Datetime                                      \n",
       "2021-03-16 11:00:00-04:00  48.652401   49541  \n",
       "2021-03-16 11:15:00-04:00  48.659302   51063  \n",
       "2021-03-16 11:30:00-04:00  48.990002   55297  \n",
       "2021-03-16 11:45:00-04:00  49.255001   51065  \n",
       "2021-03-16 12:00:00-04:00  49.419998   67652  "
      ]
     },
     "execution_count": 9,
     "metadata": {},
     "output_type": "execute_result"
    }
   ],
   "source": [
    "import datetime\n",
    "start_date = datetime.datetime.now() - datetime.timedelta(59)\n",
    "current_date = datetime.datetime.today()\n",
    "#We will use Google stock ticker to predict its prices\n",
    "ticker = ['CF']\n",
    "# start_date = '2020-09-01'\n",
    "# end_date = '2021-4-02'\n",
    "\n",
    "# df, ticker_not_found = get_stock_data(ticker, start_date, end_date)\n",
    "\n",
    "df = get_stock_data(ticker)\n",
    "df.head()"
   ]
  },
  {
   "cell_type": "code",
   "execution_count": 10,
   "metadata": {},
   "outputs": [
    {
     "data": {
      "text/html": [
       "<div>\n",
       "<style scoped>\n",
       "    .dataframe tbody tr th:only-of-type {\n",
       "        vertical-align: middle;\n",
       "    }\n",
       "\n",
       "    .dataframe tbody tr th {\n",
       "        vertical-align: top;\n",
       "    }\n",
       "\n",
       "    .dataframe thead th {\n",
       "        text-align: right;\n",
       "    }\n",
       "</style>\n",
       "<table border=\"1\" class=\"dataframe\">\n",
       "  <thead>\n",
       "    <tr style=\"text-align: right;\">\n",
       "      <th></th>\n",
       "      <th>Open</th>\n",
       "      <th>High</th>\n",
       "      <th>Low</th>\n",
       "      <th>Close</th>\n",
       "      <th>Adj Close</th>\n",
       "      <th>Volume</th>\n",
       "    </tr>\n",
       "    <tr>\n",
       "      <th>Datetime</th>\n",
       "      <th></th>\n",
       "      <th></th>\n",
       "      <th></th>\n",
       "      <th></th>\n",
       "      <th></th>\n",
       "      <th></th>\n",
       "    </tr>\n",
       "  </thead>\n",
       "  <tbody>\n",
       "    <tr>\n",
       "      <th>2021-05-14 10:15:00-04:00</th>\n",
       "      <td>54.189999</td>\n",
       "      <td>54.244999</td>\n",
       "      <td>54.000000</td>\n",
       "      <td>54.009998</td>\n",
       "      <td>54.009998</td>\n",
       "      <td>28777</td>\n",
       "    </tr>\n",
       "    <tr>\n",
       "      <th>2021-05-14 10:30:00-04:00</th>\n",
       "      <td>54.040001</td>\n",
       "      <td>54.290001</td>\n",
       "      <td>53.990002</td>\n",
       "      <td>53.990002</td>\n",
       "      <td>53.990002</td>\n",
       "      <td>78894</td>\n",
       "    </tr>\n",
       "    <tr>\n",
       "      <th>2021-05-14 10:45:00-04:00</th>\n",
       "      <td>54.029999</td>\n",
       "      <td>54.180000</td>\n",
       "      <td>53.939999</td>\n",
       "      <td>53.950001</td>\n",
       "      <td>53.950001</td>\n",
       "      <td>17874</td>\n",
       "    </tr>\n",
       "    <tr>\n",
       "      <th>2021-05-14 11:00:00-04:00</th>\n",
       "      <td>53.959999</td>\n",
       "      <td>54.000000</td>\n",
       "      <td>53.889999</td>\n",
       "      <td>53.930000</td>\n",
       "      <td>53.930000</td>\n",
       "      <td>6933</td>\n",
       "    </tr>\n",
       "    <tr>\n",
       "      <th>2021-05-14 11:03:42-04:00</th>\n",
       "      <td>53.950001</td>\n",
       "      <td>53.950001</td>\n",
       "      <td>53.950001</td>\n",
       "      <td>53.950001</td>\n",
       "      <td>53.950001</td>\n",
       "      <td>0</td>\n",
       "    </tr>\n",
       "  </tbody>\n",
       "</table>\n",
       "</div>"
      ],
      "text/plain": [
       "                                Open       High        Low      Close  \\\n",
       "Datetime                                                                \n",
       "2021-05-14 10:15:00-04:00  54.189999  54.244999  54.000000  54.009998   \n",
       "2021-05-14 10:30:00-04:00  54.040001  54.290001  53.990002  53.990002   \n",
       "2021-05-14 10:45:00-04:00  54.029999  54.180000  53.939999  53.950001   \n",
       "2021-05-14 11:00:00-04:00  53.959999  54.000000  53.889999  53.930000   \n",
       "2021-05-14 11:03:42-04:00  53.950001  53.950001  53.950001  53.950001   \n",
       "\n",
       "                           Adj Close  Volume  \n",
       "Datetime                                      \n",
       "2021-05-14 10:15:00-04:00  54.009998   28777  \n",
       "2021-05-14 10:30:00-04:00  53.990002   78894  \n",
       "2021-05-14 10:45:00-04:00  53.950001   17874  \n",
       "2021-05-14 11:00:00-04:00  53.930000    6933  \n",
       "2021-05-14 11:03:42-04:00  53.950001       0  "
      ]
     },
     "execution_count": 10,
     "metadata": {},
     "output_type": "execute_result"
    }
   ],
   "source": [
    "df.tail()"
   ]
  },
  {
   "cell_type": "code",
   "execution_count": 11,
   "metadata": {},
   "outputs": [
    {
     "data": {
      "text/plain": [
       "1094"
      ]
     },
     "execution_count": 11,
     "metadata": {},
     "output_type": "execute_result"
    }
   ],
   "source": [
    "len(df)"
   ]
  },
  {
   "cell_type": "markdown",
   "metadata": {},
   "source": [
    "## Grab Alpaca Intraday Data"
   ]
  },
  {
   "cell_type": "code",
   "execution_count": 12,
   "metadata": {},
   "outputs": [],
   "source": [
    "# Install a pip package in the current Jupyter kernel\n",
    "# import sys\n",
    "# !{sys.executable} -m pip install alpaca-trade-api"
   ]
  },
  {
   "cell_type": "code",
   "execution_count": 13,
   "metadata": {},
   "outputs": [],
   "source": [
    "import alpaca_trade_api as tradeapi\n",
    "import requests\n",
    "from datetime import datetime"
   ]
  },
  {
   "cell_type": "code",
   "execution_count": 14,
   "metadata": {},
   "outputs": [],
   "source": [
    "# ## Grab alpaca intraday data \n",
    "# # import alpaca_trade_api as tradeapi\n",
    "\n",
    "# endpoint = \"https://data.alpaca.markets/v1\"\n",
    "# headers = {\n",
    "#     \"APCA-API-KEY-ID\": \"PKHOA1VIMFOC6P6YFNS8\",\n",
    "#     \"APCA-API-SECRET-KEY\": \"BIZJBuginzyMC3JpPdBvRqTWVkb1Xol6FjSuaFZN\"\n",
    "# }\n",
    "\n",
    "# #json.loads(open(\"account.json\",'r').read())\n",
    "# api = tradeapi.REST(headers[\"APCA-API-KEY-ID\"], headers[\"APCA-API-SECRET-KEY\"], base_url='https://paper-api.alpaca.markets')\n",
    "\n",
    "# def hist_data(symbol, dataframe, timeframe=\"15Min\", limit=1000, start=\"\", end=\"\", after=\"\", until=\"\"):\n",
    "#     '''Returns the historical bar data for a group of stocks '''\n",
    "#     df_data = {}\n",
    "#     # Get Requests for Bar Data\n",
    "#     bar_url = endpoint + \"/bars/{}\".format(timeframe)\n",
    "\n",
    "\n",
    "#     params = {\n",
    "#         \"symbols\": symbol,\n",
    "#         \"start\": start,\n",
    "#         \"end\": end,\n",
    "#         \"limit\": limit,\n",
    "#         \"timeframe\": timeframe\n",
    "#     }\n",
    "\n",
    "#     r = requests.get(bar_url, headers=headers, params=params)\n",
    "\n",
    "#     json_dump = r.json()\n",
    "#     # loop through stock data\n",
    "#     for symbol in json_dump:\n",
    "#         # convert json into pandas dataframe\n",
    "#         temp = pd.DataFrame(json_dump[symbol])\n",
    "#         temp.rename({\"t\":\"datadate\", \"o\": \"open\", 'h':'high', 'l':'low', \"c\":\"close\", 'v':'volume'}, axis=1, inplace=True)\n",
    "\n",
    "#         temp['tic'] = symbol\n",
    "\n",
    "#         dataframe = pd.concat([dataframe, temp])\n",
    "\n",
    "#     return dataframe\n"
   ]
  },
  {
   "cell_type": "code",
   "execution_count": 15,
   "metadata": {},
   "outputs": [],
   "source": [
    "# #limit = 2 \n",
    "# def getData(tickers, start=\"\", end=\"\", limit=20):\n",
    "#     dataframes = dict()\n",
    "#     for symbol in tickers:\n",
    "#         dataframes[symbol] = pd.DataFrame()#columns = [symbol])\n",
    "\n",
    "#     # time is in seconds\n",
    "\n",
    "#     # starttime = time.time()\n",
    "#     # # will go for 8 hours\n",
    "#     # # timeout = starttime + 60 * 5 # 8 hrs 60 * 8\n",
    "#     # timeout = starttime + 1\n",
    "\n",
    "#     # while time.time() <= timeout:\n",
    "#     # print(\"****************************************************\")\n",
    "#     for company in tickers:\n",
    "#         # print(\"printing data for {} at {}\".format(company, time.time()))\n",
    "#         dataframes[company] = hist_data(company, dataframes[company], '15Min', start=start, end=end)\n",
    "\n",
    "#     final_prices = dataframes[tickers[0]]\n",
    "# #     print(final_prices)\n",
    "    \n",
    "#     for key, value in dataframes.items():\n",
    "# #         print('value',value)\n",
    "#         final_prices = pd.concat([final_prices, value])\n",
    "\n",
    "\n",
    "#     final_prices = final_prices.sort_values(by=['datadate'])\n",
    "\n",
    "# #     print('final prices: \\n',final_prices)\n",
    "\n",
    "# #     for index, row in final_prices.iterrows():\n",
    "# #         year = str(datetime.fromtimestamp(int(row['datadate'])).year)\n",
    "# #         month = str(datetime.fromtimestamp(int(row['datadate'])).month)\n",
    "# #         #minute = str(datetime.fromtimestamp(int(row['datadate'])).minute)\n",
    "        \n",
    "# #         if len(month) == 1:\n",
    "# #             month = \"0\" + month\n",
    "# #         day = str(datetime.fromtimestamp(int(row['datadate'])).day)\n",
    "# #         if len(day) == 1:\n",
    "# #             day = \"0\" + day\n",
    "# #         # print(year+month+day)\n",
    "# #         # row['datadate'] = year+month+day\n",
    "# #         final_prices.at[index, 'datadate'] = year+month+day#+minute\n",
    "\n",
    "# #     final_prices = final_prices.reset_index()\n",
    "# #     final_prices = final_prices.drop([\"index\"], axis=1)\n",
    "# #     final_prices = final_prices.drop_duplicates()\n",
    "    \n",
    "#     print('final prices: \\n',final_prices)\n",
    "    \n",
    "#     return final_prices"
   ]
  },
  {
   "cell_type": "code",
   "execution_count": 16,
   "metadata": {},
   "outputs": [
    {
     "data": {
      "text/html": [
       "<div>\n",
       "<style scoped>\n",
       "    .dataframe tbody tr th:only-of-type {\n",
       "        vertical-align: middle;\n",
       "    }\n",
       "\n",
       "    .dataframe tbody tr th {\n",
       "        vertical-align: top;\n",
       "    }\n",
       "\n",
       "    .dataframe thead th {\n",
       "        text-align: right;\n",
       "    }\n",
       "</style>\n",
       "<table border=\"1\" class=\"dataframe\">\n",
       "  <thead>\n",
       "    <tr style=\"text-align: right;\">\n",
       "      <th></th>\n",
       "      <th>Open</th>\n",
       "      <th>High</th>\n",
       "      <th>Low</th>\n",
       "      <th>Close</th>\n",
       "      <th>Adj Close</th>\n",
       "      <th>Volume</th>\n",
       "    </tr>\n",
       "    <tr>\n",
       "      <th>Datetime</th>\n",
       "      <th></th>\n",
       "      <th></th>\n",
       "      <th></th>\n",
       "      <th></th>\n",
       "      <th></th>\n",
       "      <th></th>\n",
       "    </tr>\n",
       "  </thead>\n",
       "  <tbody>\n",
       "    <tr>\n",
       "      <th>2021-03-16 11:00:00-04:00</th>\n",
       "      <td>48.549999</td>\n",
       "      <td>48.73</td>\n",
       "      <td>48.5</td>\n",
       "      <td>48.652401</td>\n",
       "      <td>48.652401</td>\n",
       "      <td>49541</td>\n",
       "    </tr>\n",
       "  </tbody>\n",
       "</table>\n",
       "</div>"
      ],
      "text/plain": [
       "                                Open   High   Low      Close  Adj Close  \\\n",
       "Datetime                                                                  \n",
       "2021-03-16 11:00:00-04:00  48.549999  48.73  48.5  48.652401  48.652401   \n",
       "\n",
       "                           Volume  \n",
       "Datetime                           \n",
       "2021-03-16 11:00:00-04:00   49541  "
      ]
     },
     "execution_count": 16,
     "metadata": {},
     "output_type": "execute_result"
    }
   ],
   "source": [
    "# df = getData(['PLTR','AAPL'])\n",
    "\n",
    "# df.head()\n",
    "\n",
    "# df['adjclose'] = df['close']\n",
    "\n",
    "df.head(1)"
   ]
  },
  {
   "cell_type": "code",
   "execution_count": 100,
   "metadata": {},
   "outputs": [
    {
     "data": {
      "text/plain": [
       "(1094, 6)"
      ]
     },
     "execution_count": 100,
     "metadata": {},
     "output_type": "execute_result"
    }
   ],
   "source": [
    "df.shape"
   ]
  },
  {
   "cell_type": "code",
   "execution_count": 17,
   "metadata": {},
   "outputs": [],
   "source": [
    "# df['date'] = pd.to_datetime(df['formatted_date'])\n",
    "# df = df.set_index(pd.DatetimeIndex(df['date'])) \n",
    "# df.drop(df.columns[-1], axis=1, inplace=True)\n",
    "# df.head()\n",
    "\n",
    "\n",
    "\n",
    "\n",
    "df.columns = ['open', 'high', 'low', 'close', 'volume', 'adjclose']"
   ]
  },
  {
   "cell_type": "markdown",
   "metadata": {},
   "source": [
    "## Data Cleaning "
   ]
  },
  {
   "cell_type": "code",
   "execution_count": 18,
   "metadata": {},
   "outputs": [
    {
     "name": "stdout",
     "output_type": "stream",
     "text": [
      "<class 'pandas.core.frame.DataFrame'>\n",
      "DatetimeIndex: 1094 entries, 2021-03-16 11:00:00-04:00 to 2021-05-14 11:03:42-04:00\n",
      "Data columns (total 6 columns):\n",
      " #   Column    Non-Null Count  Dtype  \n",
      "---  ------    --------------  -----  \n",
      " 0   open      1094 non-null   float64\n",
      " 1   high      1094 non-null   float64\n",
      " 2   low       1094 non-null   float64\n",
      " 3   close     1094 non-null   float64\n",
      " 4   volume    1094 non-null   float64\n",
      " 5   adjclose  1094 non-null   int64  \n",
      "dtypes: float64(5), int64(1)\n",
      "memory usage: 59.8 KB\n"
     ]
    }
   ],
   "source": [
    "df.info()"
   ]
  },
  {
   "cell_type": "code",
   "execution_count": 19,
   "metadata": {},
   "outputs": [
    {
     "data": {
      "text/html": [
       "<div>\n",
       "<style scoped>\n",
       "    .dataframe tbody tr th:only-of-type {\n",
       "        vertical-align: middle;\n",
       "    }\n",
       "\n",
       "    .dataframe tbody tr th {\n",
       "        vertical-align: top;\n",
       "    }\n",
       "\n",
       "    .dataframe thead th {\n",
       "        text-align: right;\n",
       "    }\n",
       "</style>\n",
       "<table border=\"1\" class=\"dataframe\">\n",
       "  <thead>\n",
       "    <tr style=\"text-align: right;\">\n",
       "      <th></th>\n",
       "      <th>open</th>\n",
       "      <th>high</th>\n",
       "      <th>low</th>\n",
       "      <th>close</th>\n",
       "      <th>volume</th>\n",
       "      <th>adjclose</th>\n",
       "    </tr>\n",
       "  </thead>\n",
       "  <tbody>\n",
       "    <tr>\n",
       "      <th>count</th>\n",
       "      <td>1094.000000</td>\n",
       "      <td>1094.000000</td>\n",
       "      <td>1094.000000</td>\n",
       "      <td>1094.000000</td>\n",
       "      <td>1094.000000</td>\n",
       "      <td>1094.000000</td>\n",
       "    </tr>\n",
       "    <tr>\n",
       "      <th>mean</th>\n",
       "      <td>48.160625</td>\n",
       "      <td>48.298738</td>\n",
       "      <td>48.019514</td>\n",
       "      <td>48.162825</td>\n",
       "      <td>48.162825</td>\n",
       "      <td>64200.191956</td>\n",
       "    </tr>\n",
       "    <tr>\n",
       "      <th>std</th>\n",
       "      <td>2.920453</td>\n",
       "      <td>2.934392</td>\n",
       "      <td>2.906655</td>\n",
       "      <td>2.927505</td>\n",
       "      <td>2.927505</td>\n",
       "      <td>57882.043022</td>\n",
       "    </tr>\n",
       "    <tr>\n",
       "      <th>min</th>\n",
       "      <td>43.680000</td>\n",
       "      <td>43.820000</td>\n",
       "      <td>43.369999</td>\n",
       "      <td>43.669998</td>\n",
       "      <td>43.669998</td>\n",
       "      <td>0.000000</td>\n",
       "    </tr>\n",
       "    <tr>\n",
       "      <th>25%</th>\n",
       "      <td>45.736251</td>\n",
       "      <td>45.851249</td>\n",
       "      <td>45.616251</td>\n",
       "      <td>45.724998</td>\n",
       "      <td>45.724998</td>\n",
       "      <td>32121.750000</td>\n",
       "    </tr>\n",
       "    <tr>\n",
       "      <th>50%</th>\n",
       "      <td>47.355000</td>\n",
       "      <td>47.459999</td>\n",
       "      <td>47.250000</td>\n",
       "      <td>47.349998</td>\n",
       "      <td>47.349998</td>\n",
       "      <td>46440.500000</td>\n",
       "    </tr>\n",
       "    <tr>\n",
       "      <th>75%</th>\n",
       "      <td>49.498750</td>\n",
       "      <td>49.630001</td>\n",
       "      <td>49.330225</td>\n",
       "      <td>49.509998</td>\n",
       "      <td>49.509998</td>\n",
       "      <td>70598.250000</td>\n",
       "    </tr>\n",
       "    <tr>\n",
       "      <th>max</th>\n",
       "      <td>55.849998</td>\n",
       "      <td>55.970001</td>\n",
       "      <td>55.619999</td>\n",
       "      <td>55.865002</td>\n",
       "      <td>55.865002</td>\n",
       "      <td>513872.000000</td>\n",
       "    </tr>\n",
       "  </tbody>\n",
       "</table>\n",
       "</div>"
      ],
      "text/plain": [
       "              open         high          low        close       volume  \\\n",
       "count  1094.000000  1094.000000  1094.000000  1094.000000  1094.000000   \n",
       "mean     48.160625    48.298738    48.019514    48.162825    48.162825   \n",
       "std       2.920453     2.934392     2.906655     2.927505     2.927505   \n",
       "min      43.680000    43.820000    43.369999    43.669998    43.669998   \n",
       "25%      45.736251    45.851249    45.616251    45.724998    45.724998   \n",
       "50%      47.355000    47.459999    47.250000    47.349998    47.349998   \n",
       "75%      49.498750    49.630001    49.330225    49.509998    49.509998   \n",
       "max      55.849998    55.970001    55.619999    55.865002    55.865002   \n",
       "\n",
       "            adjclose  \n",
       "count    1094.000000  \n",
       "mean    64200.191956  \n",
       "std     57882.043022  \n",
       "min         0.000000  \n",
       "25%     32121.750000  \n",
       "50%     46440.500000  \n",
       "75%     70598.250000  \n",
       "max    513872.000000  "
      ]
     },
     "execution_count": 19,
     "metadata": {},
     "output_type": "execute_result"
    }
   ],
   "source": [
    "df.describe()"
   ]
  },
  {
   "cell_type": "code",
   "execution_count": 20,
   "metadata": {},
   "outputs": [
    {
     "data": {
      "text/plain": [
       "0.0"
      ]
     },
     "execution_count": 20,
     "metadata": {},
     "output_type": "execute_result"
    }
   ],
   "source": [
    "df[df.isna()==True].sum().sum()"
   ]
  },
  {
   "cell_type": "code",
   "execution_count": 21,
   "metadata": {},
   "outputs": [
    {
     "data": {
      "image/png": "[encoded data removed]",
      "text/plain": [
       "<Figure size 432x288 with 1 Axes>"
      ]
     },
     "metadata": {
      "needs_background": "light"
     },
     "output_type": "display_data"
    }
   ],
   "source": [
    "df['volume'].plot(label='Volume', color='r');\n",
    "plt.legend();"
   ]
  },
  {
   "cell_type": "code",
   "execution_count": 22,
   "metadata": {},
   "outputs": [
    {
     "data": {
      "image/png": "[encoded data removed]",
      "text/plain": [
       "<Figure size 432x288 with 1 Axes>"
      ]
     },
     "metadata": {
      "needs_background": "light"
     },
     "output_type": "display_data"
    }
   ],
   "source": [
    "\n",
    "df['adjclose'].plot(label='Closing Price', color='g');\n",
    "plt.legend();"
   ]
  },
  {
   "cell_type": "markdown",
   "metadata": {},
   "source": [
    "## Feature Engineering "
   ]
  },
  {
   "cell_type": "markdown",
   "metadata": {},
   "source": [
    "We will now create certain features from the pricing data which would include:\n",
    "1. SMA_20 : Simple Moving Average of 20 day window\n",
    "2. Std_dev : Standard Deviation for 20 day window\n",
    "3. Band_1 : Bollinger band created using SMA_20 + Std_dev\n",
    "4. Band_2 : Bollinger band created using SMA_20 - Std_dev\n",
    "5. ON_returns : whether there was up or down move from prior day closing price to current day opening price\n",
    "6. dist_from_mean : How much distant stock prices are from the mean\n",
    "7. vix_data: CBOE Volatility index price from the prior day"
   ]
  },
  {
   "cell_type": "code",
   "execution_count": 23,
   "metadata": {},
   "outputs": [],
   "source": [
    "def BBANDS(data, n_lookback, n_std):\n",
    "    \"\"\"Bollinger bands indicator\"\"\"\n",
    "    hlc3 = (data.high + data.low + data.close) / 3\n",
    "    mean, std = hlc3.rolling(n_lookback).mean(), hlc3.rolling(n_lookback).std()\n",
    "    upper = mean + n_std*std\n",
    "    lower = mean - n_std*std\n",
    "    return upper, lower"
   ]
  },
  {
   "cell_type": "code",
   "execution_count": 24,
   "metadata": {},
   "outputs": [
    {
     "name": "stderr",
     "output_type": "stream",
     "text": [
      "/Users/andrewilliams/Documents/Dev/DS-2.9-Technical-Seminar/my_env/lib/python3.8/site-packages/backtesting/_plotting.py:45: UserWarning: Jupyter Notebook detected. Setting Bokeh output to notebook. This may not work in Jupyter clients without JavaScript support (e.g. PyCharm, Spyder IDE). Reset with `backtesting.set_bokeh_output(notebook=False)`.\n",
      "  warnings.warn('Jupyter Notebook detected. '\n"
     ]
    },
    {
     "data": {
      "text/html": [
       "\n",
       "    <div class=\"bk-root\">\n",
       "        <a href=\"https://bokeh.org\" target=\"_blank\" class=\"bk-logo bk-logo-small bk-logo-notebook\"></a>\n",
       "        <span id=\"1002\">Loading BokehJS ...</span>\n",
       "    </div>"
      ]
     },
     "metadata": {},
     "output_type": "display_data"
    },
    {
     "data": {
      "application/javascript": [
       "\n",
       "(function(root) {\n",
       "  function now() {\n",
       "    return new Date();\n",
       "  }\n",
       "\n",
       "  var force = true;\n",
       "\n",
       "  if (typeof root._bokeh_onload_callbacks === \"undefined\" || force === true) {\n",
       "    root._bokeh_onload_callbacks = [];\n",
       "    root._bokeh_is_loading = undefined;\n",
       "  }\n",
       "\n",
       "  var JS_MIME_TYPE = 'application/javascript';\n",
       "  var HTML_MIME_TYPE = 'text/html';\n",
       "  var EXEC_MIME_TYPE = 'application/vnd.bokehjs_exec.v0+json';\n",
       "  var CLASS_NAME = 'output_bokeh rendered_html';\n",
       "\n",
       "  /**\n",
       "   * Render data to the DOM node\n",
       "   */\n",
       "  function render(props, node) {\n",
       "    var script = document.createElement(\"script\");\n",
       "    node.appendChild(script);\n",
       "  }\n",
       "\n",
       "  /**\n",
       "   * Handle when an output is cleared or removed\n",
       "   */\n",
       "  function handleClearOutput(event, handle) {\n",
       "    var cell = handle.cell;\n",
       "\n",
       "    var id = cell.output_area._bokeh_element_id;\n",
       "    var server_id = cell.output_area._bokeh_server_id;\n",
       "    // Clean up Bokeh references\n",
       "    if (id != null && id in Bokeh.index) {\n",
       "      Bokeh.index[id].model.document.clear();\n",
       "      delete Bokeh.index[id];\n",
       "    }\n",
       "\n",
       "    if (server_id !== undefined) {\n",
       "      // Clean up Bokeh references\n",
       "      var cmd = \"from bokeh.io.state import curstate; print(curstate().uuid_to_server['\" + server_id + \"'].get_sessions()[0].document.roots[0]._id)\";\n",
       "      cell.notebook.kernel.execute(cmd, {\n",
       "        iopub: {\n",
       "          output: function(msg) {\n",
       "            var id = msg.content.text.trim();\n",
       "            if (id in Bokeh.index) {\n",
       "              Bokeh.index[id].model.document.clear();\n",
       "              delete Bokeh.index[id];\n",
       "            }\n",
       "          }\n",
       "        }\n",
       "      });\n",
       "      // Destroy server and session\n",
       "      var cmd = \"import bokeh.io.notebook as ion; ion.destroy_server('\" + server_id + \"')\";\n",
       "      cell.notebook.kernel.execute(cmd);\n",
       "    }\n",
       "  }\n",
       "\n",
       "  /**\n",
       "   * Handle when a new output is added\n",
       "   */\n",
       "  function handleAddOutput(event, handle) {\n",
       "    var output_area = handle.output_area;\n",
       "    var output = handle.output;\n",
       "\n",
       "    // limit handleAddOutput to display_data with EXEC_MIME_TYPE content only\n",
       "    if ((output.output_type != \"display_data\") || (!Object.prototype.hasOwnProperty.call(output.data, EXEC_MIME_TYPE))) {\n",
       "      return\n",
       "    }\n",
       "\n",
       "    var toinsert = output_area.element.find(\".\" + CLASS_NAME.split(' ')[0]);\n",
       "\n",
       "    if (output.metadata[EXEC_MIME_TYPE][\"id\"] !== undefined) {\n",
       "      toinsert[toinsert.length - 1].firstChild.textContent = output.data[JS_MIME_TYPE];\n",
       "      // store reference to embed id on output_area\n",
       "      output_area._bokeh_element_id = output.metadata[EXEC_MIME_TYPE][\"id\"];\n",
       "    }\n",
       "    if (output.metadata[EXEC_MIME_TYPE][\"server_id\"] !== undefined) {\n",
       "      var bk_div = document.createElement(\"div\");\n",
       "      bk_div.innerHTML = output.data[HTML_MIME_TYPE];\n",
       "      var script_attrs = bk_div.children[0].attributes;\n",
       "      for (var i = 0; i < script_attrs.length; i++) {\n",
       "        toinsert[toinsert.length - 1].firstChild.setAttribute(script_attrs[i].name, script_attrs[i].value);\n",
       "        toinsert[toinsert.length - 1].firstChild.textContent = bk_div.children[0].textContent\n",
       "      }\n",
       "      // store reference to server id on output_area\n",
       "      output_area._bokeh_server_id = output.metadata[EXEC_MIME_TYPE][\"server_id\"];\n",
       "    }\n",
       "  }\n",
       "\n",
       "  function register_renderer(events, OutputArea) {\n",
       "\n",
       "    function append_mime(data, metadata, element) {\n",
       "      // create a DOM node to render to\n",
       "      var toinsert = this.create_output_subarea(\n",
       "        metadata,\n",
       "        CLASS_NAME,\n",
       "        EXEC_MIME_TYPE\n",
       "      );\n",
       "      this.keyboard_manager.register_events(toinsert);\n",
       "      // Render to node\n",
       "      var props = {data: data, metadata: metadata[EXEC_MIME_TYPE]};\n",
       "      render(props, toinsert[toinsert.length - 1]);\n",
       "      element.append(toinsert);\n",
       "      return toinsert\n",
       "    }\n",
       "\n",
       "    /* Handle when an output is cleared or removed */\n",
       "    events.on('clear_output.CodeCell', handleClearOutput);\n",
       "    events.on('delete.Cell', handleClearOutput);\n",
       "\n",
       "    /* Handle when a new output is added */\n",
       "    events.on('output_added.OutputArea', handleAddOutput);\n",
       "\n",
       "    /**\n",
       "     * Register the mime type and append_mime function with output_area\n",
       "     */\n",
       "    OutputArea.prototype.register_mime_type(EXEC_MIME_TYPE, append_mime, {\n",
       "      /* Is output safe? */\n",
       "      safe: true,\n",
       "      /* Index of renderer in `output_area.display_order` */\n",
       "      index: 0\n",
       "    });\n",
       "  }\n",
       "\n",
       "  // register the mime type if in Jupyter Notebook environment and previously unregistered\n",
       "  if (root.Jupyter !== undefined) {\n",
       "    var events = require('base/js/events');\n",
       "    var OutputArea = require('notebook/js/outputarea').OutputArea;\n",
       "\n",
       "    if (OutputArea.prototype.mime_types().indexOf(EXEC_MIME_TYPE) == -1) {\n",
       "      register_renderer(events, OutputArea);\n",
       "    }\n",
       "  }\n",
       "\n",
       "  \n",
       "  if (typeof (root._bokeh_timeout) === \"undefined\" || force === true) {\n",
       "    root._bokeh_timeout = Date.now() + 5000;\n",
       "    root._bokeh_failed_load = false;\n",
       "  }\n",
       "\n",
       "  var NB_LOAD_WARNING = {'data': {'text/html':\n",
       "     \"<div style='background-color: #fdd'>\\n\"+\n",
       "     \"<p>\\n\"+\n",
       "     \"BokehJS does not appear to have successfully loaded. If loading BokehJS from CDN, this \\n\"+\n",
       "     \"may be due to a slow or bad network connection. Possible fixes:\\n\"+\n",
       "     \"</p>\\n\"+\n",
       "     \"<ul>\\n\"+\n",
       "     \"<li>re-rerun `output_notebook()` to attempt to load from CDN again, or</li>\\n\"+\n",
       "     \"<li>use INLINE resources instead, as so:</li>\\n\"+\n",
       "     \"</ul>\\n\"+\n",
       "     \"<code>\\n\"+\n",
       "     \"from bokeh.resources import INLINE\\n\"+\n",
       "     \"output_notebook(resources=INLINE)\\n\"+\n",
       "     \"</code>\\n\"+\n",
       "     \"</div>\"}};\n",
       "\n",
       "  function display_loaded() {\n",
       "    var el = document.getElementById(\"1002\");\n",
       "    if (el != null) {\n",
       "      el.textContent = \"BokehJS is loading...\";\n",
       "    }\n",
       "    if (root.Bokeh !== undefined) {\n",
       "      if (el != null) {\n",
       "        el.textContent = \"BokehJS \" + root.Bokeh.version + \" successfully loaded.\";\n",
       "      }\n",
       "    } else if (Date.now() < root._bokeh_timeout) {\n",
       "      setTimeout(display_loaded, 100)\n",
       "    }\n",
       "  }\n",
       "\n",
       "\n",
       "  function run_callbacks() {\n",
       "    try {\n",
       "      root._bokeh_onload_callbacks.forEach(function(callback) {\n",
       "        if (callback != null)\n",
       "          callback();\n",
       "      });\n",
       "    } finally {\n",
       "      delete root._bokeh_onload_callbacks\n",
       "    }\n",
       "    console.debug(\"Bokeh: all callbacks have finished\");\n",
       "  }\n",
       "\n",
       "  function load_libs(css_urls, js_urls, callback) {\n",
       "    if (css_urls == null) css_urls = [];\n",
       "    if (js_urls == null) js_urls = [];\n",
       "\n",
       "    root._bokeh_onload_callbacks.push(callback);\n",
       "    if (root._bokeh_is_loading > 0) {\n",
       "      console.debug(\"Bokeh: BokehJS is being loaded, scheduling callback at\", now());\n",
       "      return null;\n",
       "    }\n",
       "    if (js_urls == null || js_urls.length === 0) {\n",
       "      run_callbacks();\n",
       "      return null;\n",
       "    }\n",
       "    console.debug(\"Bokeh: BokehJS not loaded, scheduling load and callback at\", now());\n",
       "    root._bokeh_is_loading = css_urls.length + js_urls.length;\n",
       "\n",
       "    function on_load() {\n",
       "      root._bokeh_is_loading--;\n",
       "      if (root._bokeh_is_loading === 0) {\n",
       "        console.debug(\"Bokeh: all BokehJS libraries/stylesheets loaded\");\n",
       "        run_callbacks()\n",
       "      }\n",
       "    }\n",
       "\n",
       "    function on_error(url) {\n",
       "      console.error(\"failed to load \" + url);\n",
       "    }\n",
       "\n",
       "    for (let i = 0; i < css_urls.length; i++) {\n",
       "      const url = css_urls[i];\n",
       "      const element = document.createElement(\"link\");\n",
       "      element.onload = on_load;\n",
       "      element.onerror = on_error.bind(null, url);\n",
       "      element.rel = \"stylesheet\";\n",
       "      element.type = \"text/css\";\n",
       "      element.href = url;\n",
       "      console.debug(\"Bokeh: injecting link tag for BokehJS stylesheet: \", url);\n",
       "      document.body.appendChild(element);\n",
       "    }\n",
       "\n",
       "    const hashes = {\"https://cdn.bokeh.org/bokeh/release/bokeh-2.3.1.min.js\": \"YF85VygJKMVnHE+lLv2AM93Vbstr0yo2TbIu5v8se5Rq3UQAUmcuh4aaJwNlpKwa\", \"https://cdn.bokeh.org/bokeh/release/bokeh-widgets-2.3.1.min.js\": \"KKuas3gevv3PvrlkyCMzffFeaMq5we/a2QsP5AUoS3mJ0jmaCL7jirFJN3GoE/lM\", \"https://cdn.bokeh.org/bokeh/release/bokeh-tables-2.3.1.min.js\": \"MK/uFc3YT18pkvvXRl66tTHjP0/dxoSH2e/eiNMFIguKlun2+WVqaPTWmUy/zvh4\"};\n",
       "\n",
       "    for (let i = 0; i < js_urls.length; i++) {\n",
       "      const url = js_urls[i];\n",
       "      const element = document.createElement('script');\n",
       "      element.onload = on_load;\n",
       "      element.onerror = on_error.bind(null, url);\n",
       "      element.async = false;\n",
       "      element.src = url;\n",
       "      if (url in hashes) {\n",
       "        element.crossOrigin = \"anonymous\";\n",
       "        element.integrity = \"sha384-\" + hashes[url];\n",
       "      }\n",
       "      console.debug(\"Bokeh: injecting script tag for BokehJS library: \", url);\n",
       "      document.head.appendChild(element);\n",
       "    }\n",
       "  };\n",
       "\n",
       "  function inject_raw_css(css) {\n",
       "    const element = document.createElement(\"style\");\n",
       "    element.appendChild(document.createTextNode(css));\n",
       "    document.body.appendChild(element);\n",
       "  }\n",
       "\n",
       "  \n",
       "  var js_urls = [\"https://cdn.bokeh.org/bokeh/release/bokeh-2.3.1.min.js\", \"https://cdn.bokeh.org/bokeh/release/bokeh-widgets-2.3.1.min.js\", \"https://cdn.bokeh.org/bokeh/release/bokeh-tables-2.3.1.min.js\"];\n",
       "  var css_urls = [];\n",
       "  \n",
       "\n",
       "  var inline_js = [\n",
       "    function(Bokeh) {\n",
       "      Bokeh.set_log_level(\"info\");\n",
       "    },\n",
       "    function(Bokeh) {\n",
       "    \n",
       "    \n",
       "    }\n",
       "  ];\n",
       "\n",
       "  function run_inline_js() {\n",
       "    \n",
       "    if (root.Bokeh !== undefined || force === true) {\n",
       "      \n",
       "    for (var i = 0; i < inline_js.length; i++) {\n",
       "      inline_js[i].call(root, root.Bokeh);\n",
       "    }\n",
       "    if (force === true) {\n",
       "        display_loaded();\n",
       "      }} else if (Date.now() < root._bokeh_timeout) {\n",
       "      setTimeout(run_inline_js, 100);\n",
       "    } else if (!root._bokeh_failed_load) {\n",
       "      console.log(\"Bokeh: BokehJS failed to load within specified timeout.\");\n",
       "      root._bokeh_failed_load = true;\n",
       "    } else if (force !== true) {\n",
       "      var cell = $(document.getElementById(\"1002\")).parents('.cell').data().cell;\n",
       "      cell.output_area.append_execute_result(NB_LOAD_WARNING)\n",
       "    }\n",
       "\n",
       "  }\n",
       "\n",
       "  if (root._bokeh_is_loading === 0) {\n",
       "    console.debug(\"Bokeh: BokehJS loaded, going straight to plotting\");\n",
       "    run_inline_js();\n",
       "  } else {\n",
       "    load_libs(css_urls, js_urls, function() {\n",
       "      console.debug(\"Bokeh: BokehJS plotting callback run at\", now());\n",
       "      run_inline_js();\n",
       "    });\n",
       "  }\n",
       "}(window));"
      ],
      "application/vnd.bokehjs_load.v0+json": "\n(function(root) {\n  function now() {\n    return new Date();\n  }\n\n  var force = true;\n\n  if (typeof root._bokeh_onload_callbacks === \"undefined\" || force === true) {\n    root._bokeh_onload_callbacks = [];\n    root._bokeh_is_loading = undefined;\n  }\n\n  \n\n  \n  if (typeof (root._bokeh_timeout) === \"undefined\" || force === true) {\n    root._bokeh_timeout = Date.now() + 5000;\n    root._bokeh_failed_load = false;\n  }\n\n  var NB_LOAD_WARNING = {'data': {'text/html':\n     \"<div style='background-color: #fdd'>\\n\"+\n     \"<p>\\n\"+\n     \"BokehJS does not appear to have successfully loaded. If loading BokehJS from CDN, this \\n\"+\n     \"may be due to a slow or bad network connection. Possible fixes:\\n\"+\n     \"</p>\\n\"+\n     \"<ul>\\n\"+\n     \"<li>re-rerun `output_notebook()` to attempt to load from CDN again, or</li>\\n\"+\n     \"<li>use INLINE resources instead, as so:</li>\\n\"+\n     \"</ul>\\n\"+\n     \"<code>\\n\"+\n     \"from bokeh.resources import INLINE\\n\"+\n     \"output_notebook(resources=INLINE)\\n\"+\n     \"</code>\\n\"+\n     \"</div>\"}};\n\n  function display_loaded() {\n    var el = document.getElementById(\"1002\");\n    if (el != null) {\n      el.textContent = \"BokehJS is loading...\";\n    }\n    if (root.Bokeh !== undefined) {\n      if (el != null) {\n        el.textContent = \"BokehJS \" + root.Bokeh.version + \" successfully loaded.\";\n      }\n    } else if (Date.now() < root._bokeh_timeout) {\n      setTimeout(display_loaded, 100)\n    }\n  }\n\n\n  function run_callbacks() {\n    try {\n      root._bokeh_onload_callbacks.forEach(function(callback) {\n        if (callback != null)\n          callback();\n      });\n    } finally {\n      delete root._bokeh_onload_callbacks\n    }\n    console.debug(\"Bokeh: all callbacks have finished\");\n  }\n\n  function load_libs(css_urls, js_urls, callback) {\n    if (css_urls == null) css_urls = [];\n    if (js_urls == null) js_urls = [];\n\n    root._bokeh_onload_callbacks.push(callback);\n    if (root._bokeh_is_loading > 0) {\n      console.debug(\"Bokeh: BokehJS is being loaded, scheduling callback at\", now());\n      return null;\n    }\n    if (js_urls == null || js_urls.length === 0) {\n      run_callbacks();\n      return null;\n    }\n    console.debug(\"Bokeh: BokehJS not loaded, scheduling load and callback at\", now());\n    root._bokeh_is_loading = css_urls.length + js_urls.length;\n\n    function on_load() {\n      root._bokeh_is_loading--;\n      if (root._bokeh_is_loading === 0) {\n        console.debug(\"Bokeh: all BokehJS libraries/stylesheets loaded\");\n        run_callbacks()\n      }\n    }\n\n    function on_error(url) {\n      console.error(\"failed to load \" + url);\n    }\n\n    for (let i = 0; i < css_urls.length; i++) {\n      const url = css_urls[i];\n      const element = document.createElement(\"link\");\n      element.onload = on_load;\n      element.onerror = on_error.bind(null, url);\n      element.rel = \"stylesheet\";\n      element.type = \"text/css\";\n      element.href = url;\n      console.debug(\"Bokeh: injecting link tag for BokehJS stylesheet: \", url);\n      document.body.appendChild(element);\n    }\n\n    const hashes = {\"https://cdn.bokeh.org/bokeh/release/bokeh-2.3.1.min.js\": \"YF85VygJKMVnHE+lLv2AM93Vbstr0yo2TbIu5v8se5Rq3UQAUmcuh4aaJwNlpKwa\", \"https://cdn.bokeh.org/bokeh/release/bokeh-widgets-2.3.1.min.js\": \"KKuas3gevv3PvrlkyCMzffFeaMq5we/a2QsP5AUoS3mJ0jmaCL7jirFJN3GoE/lM\", \"https://cdn.bokeh.org/bokeh/release/bokeh-tables-2.3.1.min.js\": \"MK/uFc3YT18pkvvXRl66tTHjP0/dxoSH2e/eiNMFIguKlun2+WVqaPTWmUy/zvh4\"};\n\n    for (let i = 0; i < js_urls.length; i++) {\n      const url = js_urls[i];\n      const element = document.createElement('script');\n      element.onload = on_load;\n      element.onerror = on_error.bind(null, url);\n      element.async = false;\n      element.src = url;\n      if (url in hashes) {\n        element.crossOrigin = \"anonymous\";\n        element.integrity = \"sha384-\" + hashes[url];\n      }\n      console.debug(\"Bokeh: injecting script tag for BokehJS library: \", url);\n      document.head.appendChild(element);\n    }\n  };\n\n  function inject_raw_css(css) {\n    const element = document.createElement(\"style\");\n    element.appendChild(document.createTextNode(css));\n    document.body.appendChild(element);\n  }\n\n  \n  var js_urls = [\"https://cdn.bokeh.org/bokeh/release/bokeh-2.3.1.min.js\", \"https://cdn.bokeh.org/bokeh/release/bokeh-widgets-2.3.1.min.js\", \"https://cdn.bokeh.org/bokeh/release/bokeh-tables-2.3.1.min.js\"];\n  var css_urls = [];\n  \n\n  var inline_js = [\n    function(Bokeh) {\n      Bokeh.set_log_level(\"info\");\n    },\n    function(Bokeh) {\n    \n    \n    }\n  ];\n\n  function run_inline_js() {\n    \n    if (root.Bokeh !== undefined || force === true) {\n      \n    for (var i = 0; i < inline_js.length; i++) {\n      inline_js[i].call(root, root.Bokeh);\n    }\n    if (force === true) {\n        display_loaded();\n      }} else if (Date.now() < root._bokeh_timeout) {\n      setTimeout(run_inline_js, 100);\n    } else if (!root._bokeh_failed_load) {\n      console.log(\"Bokeh: BokehJS failed to load within specified timeout.\");\n      root._bokeh_failed_load = true;\n    } else if (force !== true) {\n      var cell = $(document.getElementById(\"1002\")).parents('.cell').data().cell;\n      cell.output_area.append_execute_result(NB_LOAD_WARNING)\n    }\n\n  }\n\n  if (root._bokeh_is_loading === 0) {\n    console.debug(\"Bokeh: BokehJS loaded, going straight to plotting\");\n    run_inline_js();\n  } else {\n    load_libs(css_urls, js_urls, function() {\n      console.debug(\"Bokeh: BokehJS plotting callback run at\", now());\n      run_inline_js();\n    });\n  }\n}(window));"
     },
     "metadata": {},
     "output_type": "display_data"
    }
   ],
   "source": [
    "from backtesting.test import EURUSD, SMA\n",
    "\n",
    "def get_clean_data (df, start_date=None, end_date=None):\n",
    "    '''This function takes the historical OHLC data and return features as we defined above\n",
    "    \n",
    "    Parameters\n",
    "    ----------\n",
    "    df : DataFrame\n",
    "        Dataframe containing pricing data\n",
    "    start_date : str, optional\n",
    "        Takes start date of data for vix, format = 'yyyy-mm-dd'\n",
    "    end_date : str, optional\n",
    "        Takes ebd date of data for vix, format = 'yyyy-mm-dd'\n",
    "        \n",
    "    Returns\n",
    "    -------\n",
    "    pandas DataFrame containing scaled features except categorical features\n",
    "    '''\n",
    "    \n",
    "    features = df.copy()\n",
    "    # Some datetime features for good measure\n",
    "    features['X_day'] = features.index.dayofweek\n",
    "    features['X_hour'] = features.index.hour\n",
    "#     features = features.drop(['formatted_date'], axis=1)\n",
    "    #creating features as stated above\n",
    "    features['volume'] = features['volume'].shift(1)\n",
    "    close = features.close.values\n",
    "    sma10 = SMA(features.close, 10)\n",
    "    sma20 = SMA(features.close, 20)\n",
    "    sma50 = SMA(features.close, 50)\n",
    "    sma100 = SMA(features.close, 100)\n",
    "    upper, lower = BBANDS(features, 20, 2)\n",
    "#     upper, lower = BBANDS(features, 20, 2)\n",
    "\n",
    "    # Design matrix / independent features:\n",
    "\n",
    "    # Price-derived features\n",
    "    features['X_SMA10'] = (close - sma10) / close\n",
    "    features['X_SMA20'] = (close - sma20) / close\n",
    "    features['X_SMA50'] = (close - sma50) / close\n",
    "    features['X_SMA100'] = (close - sma100) / close\n",
    "\n",
    "    features['X_DELTA_SMA10'] = (sma10 - sma20) / close\n",
    "    features['X_DELTA_SMA20'] = (sma20 - sma50) / close\n",
    "    features['X_DELTA_SMA50'] = (sma50 - sma100) / close\n",
    "\n",
    "    # Indicator features\n",
    "    features['X_MOM'] = features.close.pct_change(periods=2)\n",
    "    features['X_BB_upper'] = (upper - close) / close\n",
    "    features['X_BB_lower'] = (lower - close) / close\n",
    "    features['X_BB_width'] = (upper - lower) / close\n",
    "    \n",
    "    \n",
    "    features['SMA'] = features['adjclose'].rolling(window=20).mean().shift(1)\n",
    "    features['Std_20'] = features['adjclose'].rolling(window=20).std().shift(1)\n",
    "    features['Band_1'] = features['SMA'] - features['Std_20']\n",
    "    features['Band_2'] = features['SMA'] + features['Std_20']\n",
    "    features['ON_returns'] = features['close'] - features['open'].shift(-1)\n",
    "    features['ON_returns'] = features['ON_returns'].shift(1)\n",
    "    features['ON_returns_signal'] = np.where(features['ON_returns']<0, 'up', 'down')\n",
    "    features['dist_from_mean'] = features['adjclose'].shift(1) - features['X_SMA10']\n",
    "    \n",
    "#     print('features\\n', features.head())\n",
    "    \n",
    "#     #Obtaining Vix Data and combining with existing features of stock\n",
    "#     ticker = ['^VIX']\n",
    "#     start_date = start_date\n",
    "#     end_date = end_date\n",
    "#     vix_data, ticker_not_found = get_stock_data(ticker, start_date, end_date)\n",
    "#     vix_data = pd.DataFrame(vix_data['adjclose'].shift(1))\n",
    "#     vix_data = vix_data.rename(columns = {'adjclose':'vix_data'})\n",
    "#     comb_features = pd.concat([features,vix_data], axis=1)\n",
    "#     comb_features = comb_features.dropna() #dropping NaN values\n",
    "    comb_features = pd.get_dummies(features, columns=['ON_returns_signal']) #for categorical variables\n",
    "    comb_features = comb_features.drop('ON_returns', axis=1) #dropping original categorical column\n",
    "    comb_features = comb_features.drop('close', axis=1) #not really needed this value since we have adj close now\n",
    "    ###Create return column to predict\n",
    "    comb_features['stock_move'] = np.where(comb_features['adjclose']-\n",
    "                                           comb_features['adjclose'].shift(-1)<0, \"Buy\", \"Sell\")\n",
    "    features_clean = comb_features.dropna() #Dropping Nan values\n",
    "    features_clean = features_clean[:-1] #Drop last row which do not have any stock signal\n",
    "    features_clean.tail()\n",
    "    return features_clean"
   ]
  },
  {
   "cell_type": "code",
   "execution_count": 25,
   "metadata": {},
   "outputs": [],
   "source": [
    "features = get_clean_data(df)"
   ]
  },
  {
   "cell_type": "code",
   "execution_count": 26,
   "metadata": {
    "scrolled": true
   },
   "outputs": [
    {
     "data": {
      "text/html": [
       "<div>\n",
       "<style scoped>\n",
       "    .dataframe tbody tr th:only-of-type {\n",
       "        vertical-align: middle;\n",
       "    }\n",
       "\n",
       "    .dataframe tbody tr th {\n",
       "        vertical-align: top;\n",
       "    }\n",
       "\n",
       "    .dataframe thead th {\n",
       "        text-align: right;\n",
       "    }\n",
       "</style>\n",
       "<table border=\"1\" class=\"dataframe\">\n",
       "  <thead>\n",
       "    <tr style=\"text-align: right;\">\n",
       "      <th></th>\n",
       "      <th>open</th>\n",
       "      <th>high</th>\n",
       "      <th>low</th>\n",
       "      <th>volume</th>\n",
       "      <th>adjclose</th>\n",
       "      <th>X_day</th>\n",
       "      <th>X_hour</th>\n",
       "      <th>X_SMA10</th>\n",
       "      <th>X_SMA20</th>\n",
       "      <th>X_SMA50</th>\n",
       "      <th>...</th>\n",
       "      <th>X_BB_lower</th>\n",
       "      <th>X_BB_width</th>\n",
       "      <th>SMA</th>\n",
       "      <th>Std_20</th>\n",
       "      <th>Band_1</th>\n",
       "      <th>Band_2</th>\n",
       "      <th>dist_from_mean</th>\n",
       "      <th>ON_returns_signal_down</th>\n",
       "      <th>ON_returns_signal_up</th>\n",
       "      <th>stock_move</th>\n",
       "    </tr>\n",
       "    <tr>\n",
       "      <th>Datetime</th>\n",
       "      <th></th>\n",
       "      <th></th>\n",
       "      <th></th>\n",
       "      <th></th>\n",
       "      <th></th>\n",
       "      <th></th>\n",
       "      <th></th>\n",
       "      <th></th>\n",
       "      <th></th>\n",
       "      <th></th>\n",
       "      <th></th>\n",
       "      <th></th>\n",
       "      <th></th>\n",
       "      <th></th>\n",
       "      <th></th>\n",
       "      <th></th>\n",
       "      <th></th>\n",
       "      <th></th>\n",
       "      <th></th>\n",
       "      <th></th>\n",
       "      <th></th>\n",
       "    </tr>\n",
       "  </thead>\n",
       "  <tbody>\n",
       "    <tr>\n",
       "      <th>2021-05-14 10:00:00-04:00</th>\n",
       "      <td>54.505001</td>\n",
       "      <td>54.505001</td>\n",
       "      <td>54.174999</td>\n",
       "      <td>54.491901</td>\n",
       "      <td>42731</td>\n",
       "      <td>4</td>\n",
       "      <td>10</td>\n",
       "      <td>0.009535</td>\n",
       "      <td>0.016045</td>\n",
       "      <td>0.007539</td>\n",
       "      <td>...</td>\n",
       "      <td>-0.033368</td>\n",
       "      <td>0.033653</td>\n",
       "      <td>66240.70</td>\n",
       "      <td>39435.943150</td>\n",
       "      <td>26804.756850</td>\n",
       "      <td>105676.643150</td>\n",
       "      <td>98101.990465</td>\n",
       "      <td>0</td>\n",
       "      <td>1</td>\n",
       "      <td>Sell</td>\n",
       "    </tr>\n",
       "    <tr>\n",
       "      <th>2021-05-14 10:15:00-04:00</th>\n",
       "      <td>54.189999</td>\n",
       "      <td>54.244999</td>\n",
       "      <td>54.000000</td>\n",
       "      <td>54.200001</td>\n",
       "      <td>28777</td>\n",
       "      <td>4</td>\n",
       "      <td>10</td>\n",
       "      <td>0.004440</td>\n",
       "      <td>0.011778</td>\n",
       "      <td>0.004296</td>\n",
       "      <td>...</td>\n",
       "      <td>-0.030307</td>\n",
       "      <td>0.036089</td>\n",
       "      <td>64592.35</td>\n",
       "      <td>39707.882650</td>\n",
       "      <td>24884.467350</td>\n",
       "      <td>104300.232650</td>\n",
       "      <td>42730.995560</td>\n",
       "      <td>1</td>\n",
       "      <td>0</td>\n",
       "      <td>Buy</td>\n",
       "    </tr>\n",
       "    <tr>\n",
       "      <th>2021-05-14 10:30:00-04:00</th>\n",
       "      <td>54.040001</td>\n",
       "      <td>54.290001</td>\n",
       "      <td>53.990002</td>\n",
       "      <td>54.009998</td>\n",
       "      <td>78894</td>\n",
       "      <td>4</td>\n",
       "      <td>10</td>\n",
       "      <td>0.003034</td>\n",
       "      <td>0.010570</td>\n",
       "      <td>0.004207</td>\n",
       "      <td>...</td>\n",
       "      <td>-0.029769</td>\n",
       "      <td>0.037683</td>\n",
       "      <td>63844.05</td>\n",
       "      <td>40258.668755</td>\n",
       "      <td>23585.381245</td>\n",
       "      <td>104102.718755</td>\n",
       "      <td>28776.996966</td>\n",
       "      <td>0</td>\n",
       "      <td>1</td>\n",
       "      <td>Sell</td>\n",
       "    </tr>\n",
       "    <tr>\n",
       "      <th>2021-05-14 10:45:00-04:00</th>\n",
       "      <td>54.029999</td>\n",
       "      <td>54.180000</td>\n",
       "      <td>53.939999</td>\n",
       "      <td>53.990002</td>\n",
       "      <td>17874</td>\n",
       "      <td>4</td>\n",
       "      <td>10</td>\n",
       "      <td>0.000997</td>\n",
       "      <td>0.008919</td>\n",
       "      <td>0.003730</td>\n",
       "      <td>...</td>\n",
       "      <td>-0.028392</td>\n",
       "      <td>0.038323</td>\n",
       "      <td>65421.45</td>\n",
       "      <td>40196.228754</td>\n",
       "      <td>25225.221246</td>\n",
       "      <td>105617.678754</td>\n",
       "      <td>78893.999003</td>\n",
       "      <td>0</td>\n",
       "      <td>1</td>\n",
       "      <td>Sell</td>\n",
       "    </tr>\n",
       "    <tr>\n",
       "      <th>2021-05-14 11:00:00-04:00</th>\n",
       "      <td>53.959999</td>\n",
       "      <td>54.000000</td>\n",
       "      <td>53.889999</td>\n",
       "      <td>53.950001</td>\n",
       "      <td>6933</td>\n",
       "      <td>4</td>\n",
       "      <td>11</td>\n",
       "      <td>-0.000282</td>\n",
       "      <td>0.007624</td>\n",
       "      <td>0.003572</td>\n",
       "      <td>...</td>\n",
       "      <td>-0.027205</td>\n",
       "      <td>0.038383</td>\n",
       "      <td>64093.90</td>\n",
       "      <td>41348.111790</td>\n",
       "      <td>22745.788210</td>\n",
       "      <td>105442.011790</td>\n",
       "      <td>17874.000282</td>\n",
       "      <td>0</td>\n",
       "      <td>1</td>\n",
       "      <td>Sell</td>\n",
       "    </tr>\n",
       "  </tbody>\n",
       "</table>\n",
       "<p>5 rows × 26 columns</p>\n",
       "</div>"
      ],
      "text/plain": [
       "                                open       high        low     volume  \\\n",
       "Datetime                                                                \n",
       "2021-05-14 10:00:00-04:00  54.505001  54.505001  54.174999  54.491901   \n",
       "2021-05-14 10:15:00-04:00  54.189999  54.244999  54.000000  54.200001   \n",
       "2021-05-14 10:30:00-04:00  54.040001  54.290001  53.990002  54.009998   \n",
       "2021-05-14 10:45:00-04:00  54.029999  54.180000  53.939999  53.990002   \n",
       "2021-05-14 11:00:00-04:00  53.959999  54.000000  53.889999  53.950001   \n",
       "\n",
       "                           adjclose  X_day  X_hour   X_SMA10   X_SMA20  \\\n",
       "Datetime                                                                 \n",
       "2021-05-14 10:00:00-04:00     42731      4      10  0.009535  0.016045   \n",
       "2021-05-14 10:15:00-04:00     28777      4      10  0.004440  0.011778   \n",
       "2021-05-14 10:30:00-04:00     78894      4      10  0.003034  0.010570   \n",
       "2021-05-14 10:45:00-04:00     17874      4      10  0.000997  0.008919   \n",
       "2021-05-14 11:00:00-04:00      6933      4      11 -0.000282  0.007624   \n",
       "\n",
       "                            X_SMA50  ...  X_BB_lower  X_BB_width       SMA  \\\n",
       "Datetime                             ...                                     \n",
       "2021-05-14 10:00:00-04:00  0.007539  ...   -0.033368    0.033653  66240.70   \n",
       "2021-05-14 10:15:00-04:00  0.004296  ...   -0.030307    0.036089  64592.35   \n",
       "2021-05-14 10:30:00-04:00  0.004207  ...   -0.029769    0.037683  63844.05   \n",
       "2021-05-14 10:45:00-04:00  0.003730  ...   -0.028392    0.038323  65421.45   \n",
       "2021-05-14 11:00:00-04:00  0.003572  ...   -0.027205    0.038383  64093.90   \n",
       "\n",
       "                                 Std_20        Band_1         Band_2  \\\n",
       "Datetime                                                               \n",
       "2021-05-14 10:00:00-04:00  39435.943150  26804.756850  105676.643150   \n",
       "2021-05-14 10:15:00-04:00  39707.882650  24884.467350  104300.232650   \n",
       "2021-05-14 10:30:00-04:00  40258.668755  23585.381245  104102.718755   \n",
       "2021-05-14 10:45:00-04:00  40196.228754  25225.221246  105617.678754   \n",
       "2021-05-14 11:00:00-04:00  41348.111790  22745.788210  105442.011790   \n",
       "\n",
       "                           dist_from_mean  ON_returns_signal_down  \\\n",
       "Datetime                                                            \n",
       "2021-05-14 10:00:00-04:00    98101.990465                       0   \n",
       "2021-05-14 10:15:00-04:00    42730.995560                       1   \n",
       "2021-05-14 10:30:00-04:00    28776.996966                       0   \n",
       "2021-05-14 10:45:00-04:00    78893.999003                       0   \n",
       "2021-05-14 11:00:00-04:00    17874.000282                       0   \n",
       "\n",
       "                           ON_returns_signal_up  stock_move  \n",
       "Datetime                                                     \n",
       "2021-05-14 10:00:00-04:00                     1        Sell  \n",
       "2021-05-14 10:15:00-04:00                     0         Buy  \n",
       "2021-05-14 10:30:00-04:00                     1        Sell  \n",
       "2021-05-14 10:45:00-04:00                     1        Sell  \n",
       "2021-05-14 11:00:00-04:00                     1        Sell  \n",
       "\n",
       "[5 rows x 26 columns]"
      ]
     },
     "execution_count": 26,
     "metadata": {},
     "output_type": "execute_result"
    }
   ],
   "source": [
    "features.tail()"
   ]
  },
  {
   "cell_type": "code",
   "execution_count": 27,
   "metadata": {},
   "outputs": [],
   "source": [
    "features.drop(['ON_returns_signal_down','ON_returns_signal_up'], axis=1, inplace=True)\n"
   ]
  },
  {
   "cell_type": "code",
   "execution_count": null,
   "metadata": {},
   "outputs": [],
   "source": []
  },
  {
   "cell_type": "markdown",
   "metadata": {},
   "source": [
    "## Feature Correlation Matrix"
   ]
  },
  {
   "cell_type": "code",
   "execution_count": 28,
   "metadata": {},
   "outputs": [
    {
     "data": {
      "image/png": "[encoded data removed]",
      "text/plain": [
       "<Figure size 1296x432 with 2 Axes>"
      ]
     },
     "metadata": {
      "needs_background": "light"
     },
     "output_type": "display_data"
    }
   ],
   "source": [
    "\n",
    "corr_table = features.drop(['high', 'low'], axis=1).corr()\n",
    "fig, ax = plt.subplots(figsize=(18,6))\n",
    "sns.heatmap(corr_table, annot = True, ax=ax)\n",
    "plt.show()"
   ]
  },
  {
   "cell_type": "code",
   "execution_count": 29,
   "metadata": {},
   "outputs": [
    {
     "data": {
      "text/plain": [
       "(994, 24)"
      ]
     },
     "execution_count": 29,
     "metadata": {},
     "output_type": "execute_result"
    }
   ],
   "source": [
    "features.shape"
   ]
  },
  {
   "cell_type": "markdown",
   "metadata": {},
   "source": [
    "## Transforming the Data: Train-test-split "
   ]
  },
  {
   "cell_type": "code",
   "execution_count": 58,
   "metadata": {},
   "outputs": [],
   "source": [
    "import numpy as np\n",
    "\n",
    "def get_X(data):\n",
    "    \"\"\"Return model design matrix X\"\"\"\n",
    "#     print('before',data)\n",
    "    \n",
    "    new_data = data.filter(like='X').values\n",
    "    print('after',new_data)\n",
    "    \n",
    "    return new_data\n",
    "\n",
    "\n",
    "def get_y(data):\n",
    "    \"\"\"Return dependent variable y\"\"\"\n",
    "    y = data.adjclose.pct_change(48).shift(-48)  # Returns after roughly two days\n",
    "    y[y.between(-.004, .004)] = 0             # Devalue returns smaller than 0.4%\n",
    "    y[y > 0] = 1\n",
    "    y[y < 0] = -1\n",
    "    return y\n",
    "\n",
    "\n",
    "def get_clean_Xy(df):\n",
    "    \"\"\"Return (X, y) cleaned of NaN values\"\"\"\n",
    "    X = get_X(df)\n",
    "    \n",
    "#     print('X',X)\n",
    "    \n",
    "    y = get_y(df).values\n",
    "    isnan = np.isnan(y)\n",
    "    X = X[~isnan]\n",
    "    y = y[~isnan]\n",
    "    return X, y"
   ]
  },
  {
   "cell_type": "code",
   "execution_count": 59,
   "metadata": {},
   "outputs": [
    {
     "data": {
      "text/plain": [
       "24"
      ]
     },
     "execution_count": 59,
     "metadata": {},
     "output_type": "execute_result"
    }
   ],
   "source": [
    "len(features.columns)"
   ]
  },
  {
   "cell_type": "code",
   "execution_count": null,
   "metadata": {},
   "outputs": [],
   "source": []
  },
  {
   "cell_type": "code",
   "execution_count": 60,
   "metadata": {},
   "outputs": [
    {
     "name": "stdout",
     "output_type": "stream",
     "text": [
      "after [[ 0.00000000e+00  9.00000000e+00 -1.51365599e-02 ...  3.16196907e-02\n",
      "   8.06738030e-03  2.35523104e-02]\n",
      " [ 0.00000000e+00  1.00000000e+01 -2.00293319e-02 ...  4.28876817e-02\n",
      "   9.82745687e-03  3.30602248e-02]\n",
      " [ 0.00000000e+00  1.00000000e+01 -1.78495241e-02 ...  4.57786064e-02\n",
      "   5.76999503e-03  4.00086114e-02]\n",
      " ...\n",
      " [ 4.00000000e+00  1.00000000e+01  3.03410794e-03 ...  7.91407271e-03\n",
      "  -2.97688582e-02  3.76829309e-02]\n",
      " [ 4.00000000e+00  1.00000000e+01  9.97414279e-04 ...  9.93115342e-03\n",
      "  -2.83915421e-02  3.83226955e-02]\n",
      " [ 4.00000000e+00  1.10000000e+01 -2.81663720e-04 ...  1.11788053e-02\n",
      "  -2.72045891e-02  3.83833944e-02]]\n"
     ]
    }
   ],
   "source": [
    "np.random.seed(40)\n",
    "\n",
    "X, y = get_clean_Xy(features)\n",
    "X_train, X_test, y_train, y_test = train_test_split(X, y, test_size=.5, random_state=0)\n"
   ]
  },
  {
   "cell_type": "code",
   "execution_count": 61,
   "metadata": {},
   "outputs": [
    {
     "data": {
      "text/plain": [
       "(946, 13)"
      ]
     },
     "execution_count": 61,
     "metadata": {},
     "output_type": "execute_result"
    }
   ],
   "source": [
    "X.shape"
   ]
  },
  {
   "cell_type": "code",
   "execution_count": 62,
   "metadata": {},
   "outputs": [
    {
     "data": {
      "text/plain": [
       "(473, 13)"
      ]
     },
     "execution_count": 62,
     "metadata": {},
     "output_type": "execute_result"
    }
   ],
   "source": [
    "X_train.shape"
   ]
  },
  {
   "cell_type": "code",
   "execution_count": 63,
   "metadata": {
    "scrolled": true
   },
   "outputs": [],
   "source": [
    "# ## Load in model \n",
    "# import pickle\n",
    "# with open('Optimized-Extra-Classifier-89', 'rb') as file:\n",
    "#     oec = pickle.load(file)\n",
    "    \n",
    "\n",
    "# # print(\"Test score: {0:.2f} %\".format(100 * score))\n",
    "# y_predict = oec.predict(X)\n",
    "\n",
    "# y_predict"
   ]
  },
  {
   "cell_type": "markdown",
   "metadata": {},
   "source": [
    "## Prediction Classifier "
   ]
  },
  {
   "cell_type": "code",
   "execution_count": 64,
   "metadata": {},
   "outputs": [],
   "source": [
    "from sklearn.preprocessing import LabelEncoder \n",
    "labelencoder= LabelEncoder() #initializing an object of class LabelEncoder\n",
    "features['stock_move'] = labelencoder.fit_transform(features['stock_move']) "
   ]
  },
  {
   "cell_type": "code",
   "execution_count": 65,
   "metadata": {},
   "outputs": [],
   "source": [
    "X = features.drop(['stock_move'], axis=1)\n",
    "y = features['stock_move']"
   ]
  },
  {
   "cell_type": "code",
   "execution_count": 66,
   "metadata": {},
   "outputs": [
    {
     "data": {
      "text/plain": [
       "Datetime\n",
       "2021-03-22 09:45:00-04:00    0\n",
       "2021-03-22 10:00:00-04:00    1\n",
       "2021-03-22 10:15:00-04:00    1\n",
       "2021-03-22 10:30:00-04:00    0\n",
       "2021-03-22 10:45:00-04:00    1\n",
       "                            ..\n",
       "2021-05-14 10:00:00-04:00    1\n",
       "2021-05-14 10:15:00-04:00    0\n",
       "2021-05-14 10:30:00-04:00    1\n",
       "2021-05-14 10:45:00-04:00    1\n",
       "2021-05-14 11:00:00-04:00    1\n",
       "Name: stock_move, Length: 994, dtype: int64"
      ]
     },
     "execution_count": 66,
     "metadata": {},
     "output_type": "execute_result"
    }
   ],
   "source": [
    "y"
   ]
  },
  {
   "cell_type": "code",
   "execution_count": 67,
   "metadata": {},
   "outputs": [
    {
     "data": {
      "text/html": [
       "<div>\n",
       "<style scoped>\n",
       "    .dataframe tbody tr th:only-of-type {\n",
       "        vertical-align: middle;\n",
       "    }\n",
       "\n",
       "    .dataframe tbody tr th {\n",
       "        vertical-align: top;\n",
       "    }\n",
       "\n",
       "    .dataframe thead th {\n",
       "        text-align: right;\n",
       "    }\n",
       "</style>\n",
       "<table border=\"1\" class=\"dataframe\">\n",
       "  <thead>\n",
       "    <tr style=\"text-align: right;\">\n",
       "      <th></th>\n",
       "      <th>open</th>\n",
       "      <th>high</th>\n",
       "      <th>low</th>\n",
       "      <th>volume</th>\n",
       "      <th>adjclose</th>\n",
       "      <th>X_day</th>\n",
       "      <th>X_hour</th>\n",
       "      <th>X_SMA10</th>\n",
       "      <th>X_SMA20</th>\n",
       "      <th>X_SMA50</th>\n",
       "      <th>...</th>\n",
       "      <th>X_MOM</th>\n",
       "      <th>X_BB_upper</th>\n",
       "      <th>X_BB_lower</th>\n",
       "      <th>X_BB_width</th>\n",
       "      <th>SMA</th>\n",
       "      <th>Std_20</th>\n",
       "      <th>Band_1</th>\n",
       "      <th>Band_2</th>\n",
       "      <th>dist_from_mean</th>\n",
       "      <th>stock_move</th>\n",
       "    </tr>\n",
       "    <tr>\n",
       "      <th>Datetime</th>\n",
       "      <th></th>\n",
       "      <th></th>\n",
       "      <th></th>\n",
       "      <th></th>\n",
       "      <th></th>\n",
       "      <th></th>\n",
       "      <th></th>\n",
       "      <th></th>\n",
       "      <th></th>\n",
       "      <th></th>\n",
       "      <th></th>\n",
       "      <th></th>\n",
       "      <th></th>\n",
       "      <th></th>\n",
       "      <th></th>\n",
       "      <th></th>\n",
       "      <th></th>\n",
       "      <th></th>\n",
       "      <th></th>\n",
       "      <th></th>\n",
       "      <th></th>\n",
       "    </tr>\n",
       "  </thead>\n",
       "  <tbody>\n",
       "    <tr>\n",
       "      <th>2021-03-22 09:45:00-04:00</th>\n",
       "      <td>47.730000</td>\n",
       "      <td>48.119999</td>\n",
       "      <td>47.389999</td>\n",
       "      <td>47.680000</td>\n",
       "      <td>99593</td>\n",
       "      <td>0</td>\n",
       "      <td>9</td>\n",
       "      <td>-0.015137</td>\n",
       "      <td>-0.019369</td>\n",
       "      <td>-0.027977</td>\n",
       "      <td>...</td>\n",
       "      <td>-0.014125</td>\n",
       "      <td>0.031620</td>\n",
       "      <td>0.008067</td>\n",
       "      <td>0.023552</td>\n",
       "      <td>65024.20</td>\n",
       "      <td>98754.864847</td>\n",
       "      <td>-33730.664847</td>\n",
       "      <td>163779.064847</td>\n",
       "      <td>126387.015137</td>\n",
       "      <td>0</td>\n",
       "    </tr>\n",
       "    <tr>\n",
       "      <th>2021-03-22 10:00:00-04:00</th>\n",
       "      <td>47.459999</td>\n",
       "      <td>47.520000</td>\n",
       "      <td>46.950001</td>\n",
       "      <td>47.459999</td>\n",
       "      <td>115536</td>\n",
       "      <td>0</td>\n",
       "      <td>10</td>\n",
       "      <td>-0.020029</td>\n",
       "      <td>-0.025696</td>\n",
       "      <td>-0.034654</td>\n",
       "      <td>...</td>\n",
       "      <td>-0.012164</td>\n",
       "      <td>0.042888</td>\n",
       "      <td>0.009827</td>\n",
       "      <td>0.033060</td>\n",
       "      <td>68799.80</td>\n",
       "      <td>98550.413625</td>\n",
       "      <td>-29750.613625</td>\n",
       "      <td>167350.213625</td>\n",
       "      <td>99593.020029</td>\n",
       "      <td>1</td>\n",
       "    </tr>\n",
       "    <tr>\n",
       "      <th>2021-03-22 10:15:00-04:00</th>\n",
       "      <td>47.040001</td>\n",
       "      <td>47.340000</td>\n",
       "      <td>47.009998</td>\n",
       "      <td>47.099998</td>\n",
       "      <td>58151</td>\n",
       "      <td>0</td>\n",
       "      <td>10</td>\n",
       "      <td>-0.017850</td>\n",
       "      <td>-0.025101</td>\n",
       "      <td>-0.034395</td>\n",
       "      <td>...</td>\n",
       "      <td>-0.008428</td>\n",
       "      <td>0.045779</td>\n",
       "      <td>0.005770</td>\n",
       "      <td>0.040009</td>\n",
       "      <td>73593.90</td>\n",
       "      <td>98365.802606</td>\n",
       "      <td>-24771.902606</td>\n",
       "      <td>171959.702606</td>\n",
       "      <td>115536.017850</td>\n",
       "      <td>1</td>\n",
       "    </tr>\n",
       "    <tr>\n",
       "      <th>2021-03-22 10:30:00-04:00</th>\n",
       "      <td>47.055000</td>\n",
       "      <td>47.480000</td>\n",
       "      <td>47.000000</td>\n",
       "      <td>47.060001</td>\n",
       "      <td>31032</td>\n",
       "      <td>0</td>\n",
       "      <td>10</td>\n",
       "      <td>-0.007397</td>\n",
       "      <td>-0.015569</td>\n",
       "      <td>-0.024721</td>\n",
       "      <td>...</td>\n",
       "      <td>0.007431</td>\n",
       "      <td>0.037792</td>\n",
       "      <td>-0.005567</td>\n",
       "      <td>0.043359</td>\n",
       "      <td>75521.55</td>\n",
       "      <td>97626.948550</td>\n",
       "      <td>-22105.398550</td>\n",
       "      <td>173148.498550</td>\n",
       "      <td>58151.007397</td>\n",
       "      <td>0</td>\n",
       "    </tr>\n",
       "    <tr>\n",
       "      <th>2021-03-22 10:45:00-04:00</th>\n",
       "      <td>47.480000</td>\n",
       "      <td>47.540001</td>\n",
       "      <td>47.119999</td>\n",
       "      <td>47.450001</td>\n",
       "      <td>35987</td>\n",
       "      <td>0</td>\n",
       "      <td>10</td>\n",
       "      <td>-0.010621</td>\n",
       "      <td>-0.019997</td>\n",
       "      <td>-0.029536</td>\n",
       "      <td>...</td>\n",
       "      <td>0.002337</td>\n",
       "      <td>0.043721</td>\n",
       "      <td>-0.002366</td>\n",
       "      <td>0.046087</td>\n",
       "      <td>75866.15</td>\n",
       "      <td>97448.037969</td>\n",
       "      <td>-21581.887969</td>\n",
       "      <td>173314.187969</td>\n",
       "      <td>31032.010621</td>\n",
       "      <td>1</td>\n",
       "    </tr>\n",
       "  </tbody>\n",
       "</table>\n",
       "<p>5 rows × 24 columns</p>\n",
       "</div>"
      ],
      "text/plain": [
       "                                open       high        low     volume  \\\n",
       "Datetime                                                                \n",
       "2021-03-22 09:45:00-04:00  47.730000  48.119999  47.389999  47.680000   \n",
       "2021-03-22 10:00:00-04:00  47.459999  47.520000  46.950001  47.459999   \n",
       "2021-03-22 10:15:00-04:00  47.040001  47.340000  47.009998  47.099998   \n",
       "2021-03-22 10:30:00-04:00  47.055000  47.480000  47.000000  47.060001   \n",
       "2021-03-22 10:45:00-04:00  47.480000  47.540001  47.119999  47.450001   \n",
       "\n",
       "                           adjclose  X_day  X_hour   X_SMA10   X_SMA20  \\\n",
       "Datetime                                                                 \n",
       "2021-03-22 09:45:00-04:00     99593      0       9 -0.015137 -0.019369   \n",
       "2021-03-22 10:00:00-04:00    115536      0      10 -0.020029 -0.025696   \n",
       "2021-03-22 10:15:00-04:00     58151      0      10 -0.017850 -0.025101   \n",
       "2021-03-22 10:30:00-04:00     31032      0      10 -0.007397 -0.015569   \n",
       "2021-03-22 10:45:00-04:00     35987      0      10 -0.010621 -0.019997   \n",
       "\n",
       "                            X_SMA50  ...     X_MOM  X_BB_upper  X_BB_lower  \\\n",
       "Datetime                             ...                                     \n",
       "2021-03-22 09:45:00-04:00 -0.027977  ... -0.014125    0.031620    0.008067   \n",
       "2021-03-22 10:00:00-04:00 -0.034654  ... -0.012164    0.042888    0.009827   \n",
       "2021-03-22 10:15:00-04:00 -0.034395  ... -0.008428    0.045779    0.005770   \n",
       "2021-03-22 10:30:00-04:00 -0.024721  ...  0.007431    0.037792   -0.005567   \n",
       "2021-03-22 10:45:00-04:00 -0.029536  ...  0.002337    0.043721   -0.002366   \n",
       "\n",
       "                           X_BB_width       SMA        Std_20        Band_1  \\\n",
       "Datetime                                                                      \n",
       "2021-03-22 09:45:00-04:00    0.023552  65024.20  98754.864847 -33730.664847   \n",
       "2021-03-22 10:00:00-04:00    0.033060  68799.80  98550.413625 -29750.613625   \n",
       "2021-03-22 10:15:00-04:00    0.040009  73593.90  98365.802606 -24771.902606   \n",
       "2021-03-22 10:30:00-04:00    0.043359  75521.55  97626.948550 -22105.398550   \n",
       "2021-03-22 10:45:00-04:00    0.046087  75866.15  97448.037969 -21581.887969   \n",
       "\n",
       "                                  Band_2  dist_from_mean  stock_move  \n",
       "Datetime                                                              \n",
       "2021-03-22 09:45:00-04:00  163779.064847   126387.015137           0  \n",
       "2021-03-22 10:00:00-04:00  167350.213625    99593.020029           1  \n",
       "2021-03-22 10:15:00-04:00  171959.702606   115536.017850           1  \n",
       "2021-03-22 10:30:00-04:00  173148.498550    58151.007397           0  \n",
       "2021-03-22 10:45:00-04:00  173314.187969    31032.010621           1  \n",
       "\n",
       "[5 rows x 24 columns]"
      ]
     },
     "execution_count": 67,
     "metadata": {},
     "output_type": "execute_result"
    }
   ],
   "source": [
    "features.head()"
   ]
  },
  {
   "cell_type": "markdown",
   "metadata": {},
   "source": [
    "Since predictions are somewhat evenly distributed so there is lesser chance of bias in our predictor model. Having \"Buy\" signals more than sell signal kind of makes sense since Jan, stock price has risen.\n"
   ]
  },
  {
   "cell_type": "markdown",
   "metadata": {},
   "source": [
    "## Split Data "
   ]
  },
  {
   "cell_type": "code",
   "execution_count": 68,
   "metadata": {},
   "outputs": [],
   "source": [
    "#test train split\n",
    "# X_train, X_test, y_train, y_test = train_test_split(X, y, test_size=0.5)"
   ]
  },
  {
   "cell_type": "code",
   "execution_count": null,
   "metadata": {},
   "outputs": [],
   "source": []
  },
  {
   "cell_type": "markdown",
   "metadata": {},
   "source": [
    "## Transforming Data "
   ]
  },
  {
   "cell_type": "code",
   "execution_count": 73,
   "metadata": {},
   "outputs": [],
   "source": [
    "\n",
    "# #Scale the features\n",
    "scaler = MinMaxScaler()\n",
    "X_train = scaler.fit_transform(X_train)\n",
    "X_test = scaler.transform(X_test)"
   ]
  },
  {
   "cell_type": "code",
   "execution_count": 74,
   "metadata": {},
   "outputs": [],
   "source": [
    "# X_train"
   ]
  },
  {
   "cell_type": "markdown",
   "metadata": {},
   "source": [
    "## Training the models"
   ]
  },
  {
   "cell_type": "code",
   "execution_count": 75,
   "metadata": {},
   "outputs": [],
   "source": [
    "# Put models in a dictionary\n",
    "models = {\"KNN\": KNeighborsClassifier(),\n",
    "          \"Logistic Regression\": LogisticRegression(), \n",
    "          \"Random Forest\": RandomForestClassifier(),\n",
    "          \"SGD Classifier\": SGDClassifier(), \n",
    "         \"SVM\": svm.SVC(kernel = 'rbf')}\n",
    "\n",
    "# Create function to fit and score models\n",
    "def fit_and_score(models, X_train, X_test, y_train, y_test):\n",
    "    \"\"\"\n",
    "    Fits and evaluates given machine learning models.\n",
    "    models : a dict of different Scikit-Learn machine learning models\n",
    "    X_train : training data\n",
    "    X_test : testing data\n",
    "    y_train : labels assosciated with training data\n",
    "    y_test : labels assosciated with test data\n",
    "    \"\"\"\n",
    "    # Random seed for reproducible results\n",
    "    np.random.seed(42)\n",
    "    # Make a list to keep model scores\n",
    "    model_scores = {}\n",
    "    # Loop through models\n",
    "    for name, model in models.items():\n",
    "        # Fit the model to the data\n",
    "        model.fit(X_train, y_train)\n",
    "        # Evaluate the model and append its score to model_scores\n",
    "        model_scores[name] = model.score(X_test, y_test)\n",
    "    \n",
    "    print('classification Accuracy')\n",
    "    return model_scores"
   ]
  },
  {
   "cell_type": "markdown",
   "metadata": {},
   "source": [
    "## Model Comparison "
   ]
  },
  {
   "cell_type": "code",
   "execution_count": 76,
   "metadata": {},
   "outputs": [
    {
     "name": "stdout",
     "output_type": "stream",
     "text": [
      "classification Accuracy\n"
     ]
    },
    {
     "data": {
      "text/plain": [
       "{'KNN': 0.6765327695560254,\n",
       " 'Logistic Regression': 0.6448202959830867,\n",
       " 'Random Forest': 0.693446088794926,\n",
       " 'SGD Classifier': 0.5243128964059197,\n",
       " 'SVM': 0.6596194503171248}"
      ]
     },
     "execution_count": 76,
     "metadata": {},
     "output_type": "execute_result"
    }
   ],
   "source": [
    "model_scores = fit_and_score(models=models,\n",
    "                             X_train=X_train,\n",
    "                             X_test=X_test,\n",
    "                             y_train=y_train,\n",
    "                             y_test=y_test)\n",
    "model_scores"
   ]
  },
  {
   "cell_type": "code",
   "execution_count": 77,
   "metadata": {},
   "outputs": [
    {
     "data": {
      "image/png": "[encoded data removed]",
      "text/plain": [
       "<Figure size 432x288 with 1 Axes>"
      ]
     },
     "metadata": {
      "needs_background": "light"
     },
     "output_type": "display_data"
    }
   ],
   "source": [
    "model_compare = pd.DataFrame(model_scores, index=['accuracy'])\n",
    "model_compare.T.plot.bar();"
   ]
  },
  {
   "cell_type": "markdown",
   "metadata": {},
   "source": [
    "## Hyperparameter Tuning "
   ]
  },
  {
   "cell_type": "code",
   "execution_count": 78,
   "metadata": {},
   "outputs": [],
   "source": [
    "# Different LogisticRegression hyperparameters\n",
    "log_reg_grid = {\"C\": np.logspace(-4, 4, 20),\n",
    "                \"solver\": [\"liblinear\"], \n",
    "               \"max_iter\": np.arange(10, 200, 10)}\n",
    "\n",
    "# Different RandomForestClassifier hyperparameters\n",
    "rf_grid = {\"n_estimators\": np.arange(10, 1000, 50),\n",
    "           \"max_depth\": [None, 3, 5, 10],\n",
    "           \"min_samples_split\": np.arange(2, 20, 2),\n",
    "           \"min_samples_leaf\": np.arange(1, 20, 2)}\n",
    "\n",
    "# Different KNN hyperparameters\n",
    "knn_grid = { \"n_neighbors\": np.arange(1, 29, 1), \n",
    "           \"leaf_size\": np.arange(30, 200, 10),\n",
    "           \"weights\": [\"uniform\", \"distance\"],\n",
    "           \"algorithm\": ['auto', 'ball_tree', 'kd_tree', 'brute']}\n",
    "\n"
   ]
  },
  {
   "cell_type": "code",
   "execution_count": 80,
   "metadata": {
    "scrolled": true
   },
   "outputs": [
    {
     "name": "stdout",
     "output_type": "stream",
     "text": [
      "Fitting 5 folds for each of 20 candidates, totalling 100 fits\n"
     ]
    },
    {
     "name": "stderr",
     "output_type": "stream",
     "text": [
      "/Users/andrewilliams/Documents/Dev/DS-2.9-Technical-Seminar/my_env/lib/python3.8/site-packages/sklearn/model_selection/_split.py:670: UserWarning: The least populated class in y has only 4 members, which is less than n_splits=5.\n",
      "  warnings.warn((\"The least populated class in y has only %d\"\n",
      "[Parallel(n_jobs=-1)]: Using backend LokyBackend with 16 concurrent workers.\n",
      "[Parallel(n_jobs=-1)]: Done  18 tasks      | elapsed:    0.9s\n",
      "[Parallel(n_jobs=-1)]: Done  69 out of 100 | elapsed:    1.0s remaining:    0.4s\n",
      "[Parallel(n_jobs=-1)]: Done 100 out of 100 | elapsed:    1.0s finished\n",
      "/Users/andrewilliams/Documents/Dev/DS-2.9-Technical-Seminar/my_env/lib/python3.8/site-packages/sklearn/svm/_base.py:976: ConvergenceWarning: Liblinear failed to converge, increase the number of iterations.\n",
      "  warnings.warn(\"Liblinear failed to converge, increase \"\n"
     ]
    }
   ],
   "source": [
    "# Setup random seed\n",
    "np.random.seed(42)\n",
    "\n",
    "# Setup random hyperparameter search for LogisticRegression\n",
    "rs_log_reg = RandomizedSearchCV(LogisticRegression(),\n",
    "                                param_distributions=log_reg_grid,\n",
    "                                cv=5,\n",
    "                                n_iter=20,\n",
    "                                verbose=True,\n",
    "                               n_jobs=-1)\n",
    "\n",
    "# Fit random hyperparameter search model\n",
    "rs_log_reg.fit(X_train, y_train);"
   ]
  },
  {
   "cell_type": "code",
   "execution_count": 81,
   "metadata": {},
   "outputs": [
    {
     "name": "stdout",
     "output_type": "stream",
     "text": [
      "Fitting 5 folds for each of 50 candidates, totalling 250 fits\n"
     ]
    },
    {
     "name": "stderr",
     "output_type": "stream",
     "text": [
      "/Users/andrewilliams/Documents/Dev/DS-2.9-Technical-Seminar/my_env/lib/python3.8/site-packages/sklearn/model_selection/_split.py:670: UserWarning: The least populated class in y has only 4 members, which is less than n_splits=5.\n",
      "  warnings.warn((\"The least populated class in y has only %d\"\n",
      "[Parallel(n_jobs=1)]: Using backend SequentialBackend with 1 concurrent workers.\n",
      "[Parallel(n_jobs=1)]: Done 250 out of 250 | elapsed:  2.4min finished\n"
     ]
    }
   ],
   "source": [
    "# Setup random seed\n",
    "np.random.seed(42)\n",
    "\n",
    "# Setup random hyperparameter search for RandomForestClassifier\n",
    "rfc = RandomizedSearchCV(RandomForestClassifier(),\n",
    "                           param_distributions=rf_grid,\n",
    "                           cv=5,\n",
    "                           n_iter=50,\n",
    "                           verbose=True)\n",
    "\n",
    "# accuracy ={}\n",
    "# for i in range(1,300):\n",
    "#     classifier = RandomForestClassifier(n_estimators=i, random_state=15)\n",
    "#     classifier.fit(X_train, y_train)\n",
    "#     y_pred_ev = classifier.predict(X_test)\n",
    "#     accuracy[i] = accuracy_score(y_test, y_pred_ev)\n",
    "\n",
    "# Fit random hyperparameter search model\n",
    "rfc.fit(X_train, y_train);"
   ]
  },
  {
   "cell_type": "code",
   "execution_count": 82,
   "metadata": {},
   "outputs": [
    {
     "name": "stdout",
     "output_type": "stream",
     "text": [
      "Fitting 5 folds for each of 100 candidates, totalling 500 fits\n"
     ]
    },
    {
     "name": "stderr",
     "output_type": "stream",
     "text": [
      "/Users/andrewilliams/Documents/Dev/DS-2.9-Technical-Seminar/my_env/lib/python3.8/site-packages/sklearn/model_selection/_split.py:670: UserWarning: The least populated class in y has only 4 members, which is less than n_splits=5.\n",
      "  warnings.warn((\"The least populated class in y has only %d\"\n",
      "[Parallel(n_jobs=1)]: Using backend SequentialBackend with 1 concurrent workers.\n",
      "[Parallel(n_jobs=1)]: Done 500 out of 500 | elapsed:    1.4s finished\n"
     ]
    }
   ],
   "source": [
    "# Setup random seed\n",
    "np.random.seed(42)\n",
    "\n",
    "# Setup random hyperparameter search for KNN\n",
    "rs_knn = RandomizedSearchCV(KNeighborsClassifier(),\n",
    "                                param_distributions=knn_grid,\n",
    "                                cv=5,\n",
    "                                n_iter=100,\n",
    "                                verbose=True)\n",
    "\n",
    "# Fit random hyperparameter search model\n",
    "rs_knn.fit(X_train, y_train);"
   ]
  },
  {
   "cell_type": "code",
   "execution_count": 83,
   "metadata": {},
   "outputs": [
    {
     "data": {
      "text/plain": [
       "{'solver': 'liblinear', 'max_iter': 10, 'C': 78.47599703514607}"
      ]
     },
     "execution_count": 83,
     "metadata": {},
     "output_type": "execute_result"
    }
   ],
   "source": [
    "# Find the best parameters\n",
    "rs_log_reg.best_params_"
   ]
  },
  {
   "cell_type": "code",
   "execution_count": 84,
   "metadata": {},
   "outputs": [
    {
     "data": {
      "text/plain": [
       "{'n_estimators': 860,\n",
       " 'min_samples_split': 16,\n",
       " 'min_samples_leaf': 5,\n",
       " 'max_depth': 5}"
      ]
     },
     "execution_count": 84,
     "metadata": {},
     "output_type": "execute_result"
    }
   ],
   "source": [
    "# Find the best parameters\n",
    "rfc.best_params_"
   ]
  },
  {
   "cell_type": "code",
   "execution_count": 85,
   "metadata": {},
   "outputs": [
    {
     "data": {
      "text/plain": [
       "{'weights': 'distance',\n",
       " 'n_neighbors': 11,\n",
       " 'leaf_size': 170,\n",
       " 'algorithm': 'brute'}"
      ]
     },
     "execution_count": 85,
     "metadata": {},
     "output_type": "execute_result"
    }
   ],
   "source": [
    "rs_knn.best_params_"
   ]
  },
  {
   "cell_type": "markdown",
   "metadata": {},
   "source": [
    "## Score New Models "
   ]
  },
  {
   "cell_type": "code",
   "execution_count": 86,
   "metadata": {
    "scrolled": true
   },
   "outputs": [
    {
     "data": {
      "text/plain": [
       "0.6617336152219874"
      ]
     },
     "execution_count": 86,
     "metadata": {},
     "output_type": "execute_result"
    }
   ],
   "source": [
    "# randomized search random forest model\n",
    "rfc.score(X_test, y_test)"
   ]
  },
  {
   "cell_type": "code",
   "execution_count": 87,
   "metadata": {},
   "outputs": [
    {
     "data": {
      "text/plain": [
       "0.6342494714587738"
      ]
     },
     "execution_count": 87,
     "metadata": {},
     "output_type": "execute_result"
    }
   ],
   "source": [
    "rs_log_reg.score(X_test, y_test)"
   ]
  },
  {
   "cell_type": "code",
   "execution_count": 88,
   "metadata": {},
   "outputs": [
    {
     "data": {
      "text/plain": [
       "0.6913319238900634"
      ]
     },
     "execution_count": 88,
     "metadata": {},
     "output_type": "execute_result"
    }
   ],
   "source": [
    "rs_knn.score(X_test, y_test)"
   ]
  },
  {
   "cell_type": "code",
   "execution_count": null,
   "metadata": {},
   "outputs": [],
   "source": []
  },
  {
   "cell_type": "code",
   "execution_count": 89,
   "metadata": {},
   "outputs": [
    {
     "data": {
      "image/png": "[encoded data removed]",
      "text/plain": [
       "<Figure size 432x288 with 1 Axes>"
      ]
     },
     "metadata": {
      "needs_background": "light"
     },
     "output_type": "display_data"
    }
   ],
   "source": [
    "y_pred = rfc.predict(X_test)\n",
    "plt.hist(y_pred, bins=2);"
   ]
  },
  {
   "cell_type": "code",
   "execution_count": 153,
   "metadata": {},
   "outputs": [
    {
     "data": {
      "image/png": "[encoded data removed]",
      "text/plain": [
       "<Figure size 432x288 with 1 Axes>"
      ]
     },
     "metadata": {
      "needs_background": "light"
     },
     "output_type": "display_data"
    }
   ],
   "source": [
    "y_test.hist(bins=2);"
   ]
  },
  {
   "cell_type": "code",
   "execution_count": 154,
   "metadata": {},
   "outputs": [
    {
     "name": "stdout",
     "output_type": "stream",
     "text": [
      "Accuracy score of the model is:  0.7157258064516129\n"
     ]
    },
    {
     "data": {
      "image/png": "[encoded data removed]",
      "text/plain": [
       "<Figure size 432x288 with 2 Axes>"
      ]
     },
     "metadata": {
      "needs_background": "light"
     },
     "output_type": "display_data"
    }
   ],
   "source": [
    "print (\"Accuracy score of the model is: \", accuracy_score(y_test, y_pred))\n",
    "plot_confusion_matrix(rfc, X_test, y_test);\n"
   ]
  },
  {
   "cell_type": "code",
   "execution_count": 155,
   "metadata": {
    "scrolled": true
   },
   "outputs": [],
   "source": [
    "# plt.figure(figsize=(11 , 6))\n",
    "# plt.plot(list(accuracy.keys()), list(accuracy.values()))\n",
    "# plt.title('Accuracy based on different tree sizes in the forest')\n",
    "# plt.xlabel('Epochs')\n",
    "# plt.ylabel('Accuracy Score')\n",
    "# plt.show();\n"
   ]
  },
  {
   "cell_type": "code",
   "execution_count": 156,
   "metadata": {},
   "outputs": [],
   "source": [
    "## Save rfc \n",
    "## Serialize Optimized Random Forest \n",
    "import pickle \n",
    "pickle.dump(rfc, open('rf-72', 'wb'))\n",
    "\n",
    "\n"
   ]
  },
  {
   "cell_type": "code",
   "execution_count": null,
   "metadata": {},
   "outputs": [],
   "source": []
  },
  {
   "cell_type": "code",
   "execution_count": null,
   "metadata": {},
   "outputs": [],
   "source": []
  },
  {
   "cell_type": "code",
   "execution_count": null,
   "metadata": {},
   "outputs": [],
   "source": []
  },
  {
   "cell_type": "markdown",
   "metadata": {},
   "source": [
    "# Super Learner Algorithm "
   ]
  },
  {
   "cell_type": "code",
   "execution_count": 95,
   "metadata": {},
   "outputs": [
    {
     "name": "stdout",
     "output_type": "stream",
     "text": [
      "Requirement already satisfied: lightgbm in /Users/andrewilliams/Documents/Dev/DS-2.9-Technical-Seminar/my_env/lib/python3.8/site-packages (2.3.1)\n",
      "Requirement already satisfied: scipy in /Users/andrewilliams/Documents/Dev/DS-2.9-Technical-Seminar/my_env/lib/python3.8/site-packages (from lightgbm) (1.5.4)\n",
      "Requirement already satisfied: numpy in /Users/andrewilliams/Documents/Dev/DS-2.9-Technical-Seminar/my_env/lib/python3.8/site-packages (from lightgbm) (1.19.1)\n",
      "Requirement already satisfied: scikit-learn in /Users/andrewilliams/Documents/Dev/DS-2.9-Technical-Seminar/my_env/lib/python3.8/site-packages (from lightgbm) (0.23.1)\n",
      "Requirement already satisfied: joblib>=0.11 in /Users/andrewilliams/Documents/Dev/DS-2.9-Technical-Seminar/my_env/lib/python3.8/site-packages (from scikit-learn->lightgbm) (1.0.0)\n",
      "Requirement already satisfied: threadpoolctl>=2.0.0 in /Users/andrewilliams/Documents/Dev/DS-2.9-Technical-Seminar/my_env/lib/python3.8/site-packages (from scikit-learn->lightgbm) (2.1.0)\n",
      "\u001b[33mWARNING: You are using pip version 21.0.1; however, version 21.1.1 is available.\n",
      "You should consider upgrading via the '/Users/andrewilliams/Documents/Dev/DS-2.9-Technical-Seminar/my_env/bin/python3 -m pip install --upgrade pip' command.\u001b[0m\n"
     ]
    }
   ],
   "source": [
    "import sys\n",
    "!{sys.executable} -m pip install lightgbm #xgboost #optuna"
   ]
  },
  {
   "cell_type": "code",
   "execution_count": 96,
   "metadata": {},
   "outputs": [
    {
     "name": "stderr",
     "output_type": "stream",
     "text": [
      "[MLENS] backend: threading\n"
     ]
    }
   ],
   "source": [
    "from mlens.ensemble import SuperLearner\n",
    "import optuna\n",
    "from optuna.samplers import TPESampler\n",
    "\n",
    "from xgboost import XGBClassifier\n",
    "from lightgbm import LGBMClassifier\n",
    "\n",
    "from sklearn.model_selection import train_test_split\n",
    "from sklearn.metrics import accuracy_score, f1_score\n",
    "from sklearn.tree import DecisionTreeClassifier\n",
    "from sklearn.neighbors import KNeighborsClassifier\n",
    "from sklearn.neural_network import MLPClassifier\n",
    "from sklearn.ensemble import GradientBoostingClassifier, ExtraTreesClassifier, AdaBoostClassifier, RandomForestClassifier, BaggingClassifier\n",
    "from sklearn.linear_model import RidgeClassifier, Perceptron, PassiveAggressiveClassifier, LogisticRegression, SGDClassifier"
   ]
  },
  {
   "cell_type": "markdown",
   "metadata": {},
   "source": [
    "## Single Model Training"
   ]
  },
  {
   "cell_type": "code",
   "execution_count": 97,
   "metadata": {},
   "outputs": [],
   "source": [
    "class Optimizer:\n",
    "    def __init__(self, metric, trials=30):\n",
    "        self.metric = metric\n",
    "        self.trials = trials\n",
    "        self.sampler = TPESampler(seed=666)\n",
    "        \n",
    "    def objective(self, trial):\n",
    "        model = create_model(trial)\n",
    "        model.fit(X_train, y_train)\n",
    "        preds = model.predict(X_test)\n",
    "        if self.metric == 'acc':\n",
    "            return accuracy_score(y_test, preds)\n",
    "        else:\n",
    "            return f1_score(y_test, preds)\n",
    "            \n",
    "    def optimize(self):\n",
    "        study = optuna.create_study(direction=\"maximize\", sampler=self.sampler)\n",
    "        study.optimize(self.objective, n_trials=self.trials)\n",
    "        return study.best_params"
   ]
  },
  {
   "cell_type": "code",
   "execution_count": 98,
   "metadata": {
    "scrolled": true
   },
   "outputs": [
    {
     "name": "stderr",
     "output_type": "stream",
     "text": [
      "\u001b[32m[I 2021-05-14 10:11:53,985]\u001b[0m A new study created in memory with name: no-name-72f5eb8d-681c-4248-9de5-cb6cbb1cbe72\u001b[0m\n",
      "\u001b[32m[I 2021-05-14 10:11:54,154]\u001b[0m Trial 0 finished with value: 0.6553911205073996 and parameters: {'max_depth': 5, 'n_estimators': 127, 'min_samples_leaf': 7}. Best is trial 0 with value: 0.6553911205073996.\u001b[0m\n"
     ]
    },
    {
     "name": "stdout",
     "output_type": "stream",
     "text": [
      "Random Forest accuracy:  0.6892177589852009\n"
     ]
    },
    {
     "name": "stderr",
     "output_type": "stream",
     "text": [
      "\u001b[32m[I 2021-05-14 10:11:54,350]\u001b[0m Trial 1 finished with value: 0.6638477801268499 and parameters: {'max_depth': 5, 'n_estimators': 143, 'min_samples_leaf': 1}. Best is trial 1 with value: 0.6638477801268499.\u001b[0m\n",
      "\u001b[32m[I 2021-05-14 10:11:54,366]\u001b[0m Trial 2 finished with value: 0.6448202959830867 and parameters: {'max_depth': 4, 'n_estimators': 9, 'min_samples_leaf': 1}. Best is trial 1 with value: 0.6638477801268499.\u001b[0m\n",
      "\u001b[32m[I 2021-05-14 10:11:54,412]\u001b[0m Trial 3 finished with value: 0.642706131078224 and parameters: {'max_depth': 4, 'n_estimators': 31, 'min_samples_leaf': 8}. Best is trial 1 with value: 0.6638477801268499.\u001b[0m\n",
      "\u001b[32m[I 2021-05-14 10:11:54,549]\u001b[0m Trial 4 finished with value: 0.638477801268499 and parameters: {'max_depth': 2, 'n_estimators': 106, 'min_samples_leaf': 3}. Best is trial 1 with value: 0.6638477801268499.\u001b[0m\n",
      "\u001b[32m[I 2021-05-14 10:11:54,555]\u001b[0m Trial 5 finished with value: 0.5856236786469344 and parameters: {'max_depth': 5, 'n_estimators': 2, 'min_samples_leaf': 2}. Best is trial 1 with value: 0.6638477801268499.\u001b[0m\n",
      "\u001b[32m[I 2021-05-14 10:11:54,606]\u001b[0m Trial 6 finished with value: 0.6342494714587738 and parameters: {'max_depth': 2, 'n_estimators': 38, 'min_samples_leaf': 1}. Best is trial 1 with value: 0.6638477801268499.\u001b[0m\n",
      "\u001b[32m[I 2021-05-14 10:11:54,684]\u001b[0m Trial 7 finished with value: 0.6490486257928119 and parameters: {'max_depth': 5, 'n_estimators': 52, 'min_samples_leaf': 2}. Best is trial 1 with value: 0.6638477801268499.\u001b[0m\n",
      "\u001b[32m[I 2021-05-14 10:11:54,892]\u001b[0m Trial 8 finished with value: 0.6659619450317125 and parameters: {'max_depth': 6, 'n_estimators': 147, 'min_samples_leaf': 6}. Best is trial 8 with value: 0.6659619450317125.\u001b[0m\n",
      "\u001b[32m[I 2021-05-14 10:11:55,014]\u001b[0m Trial 9 finished with value: 0.6469344608879493 and parameters: {'max_depth': 3, 'n_estimators': 88, 'min_samples_leaf': 4}. Best is trial 8 with value: 0.6659619450317125.\u001b[0m\n",
      "\u001b[32m[I 2021-05-14 10:11:55,246]\u001b[0m Trial 10 finished with value: 0.6680761099365751 and parameters: {'max_depth': 6, 'n_estimators': 150, 'min_samples_leaf': 5}. Best is trial 10 with value: 0.6680761099365751.\u001b[0m\n",
      "\u001b[32m[I 2021-05-14 10:11:55,477]\u001b[0m Trial 11 finished with value: 0.6680761099365751 and parameters: {'max_depth': 6, 'n_estimators': 148, 'min_samples_leaf': 6}. Best is trial 10 with value: 0.6680761099365751.\u001b[0m\n",
      "\u001b[32m[I 2021-05-14 10:11:55,646]\u001b[0m Trial 12 finished with value: 0.6701902748414377 and parameters: {'max_depth': 6, 'n_estimators': 122, 'min_samples_leaf': 5}. Best is trial 12 with value: 0.6701902748414377.\u001b[0m\n",
      "\u001b[32m[I 2021-05-14 10:11:55,814]\u001b[0m Trial 13 finished with value: 0.6553911205073996 and parameters: {'max_depth': 6, 'n_estimators': 111, 'min_samples_leaf': 4}. Best is trial 12 with value: 0.6701902748414377.\u001b[0m\n",
      "\u001b[32m[I 2021-05-14 10:11:55,997]\u001b[0m Trial 14 finished with value: 0.6744186046511628 and parameters: {'max_depth': 6, 'n_estimators': 124, 'min_samples_leaf': 10}. Best is trial 14 with value: 0.6744186046511628.\u001b[0m\n",
      "\u001b[32m[I 2021-05-14 10:11:56,131]\u001b[0m Trial 15 finished with value: 0.6596194503171248 and parameters: {'max_depth': 6, 'n_estimators': 86, 'min_samples_leaf': 10}. Best is trial 14 with value: 0.6744186046511628.\u001b[0m\n",
      "\u001b[32m[I 2021-05-14 10:11:56,306]\u001b[0m Trial 16 finished with value: 0.6638477801268499 and parameters: {'max_depth': 5, 'n_estimators': 122, 'min_samples_leaf': 10}. Best is trial 14 with value: 0.6744186046511628.\u001b[0m\n",
      "\u001b[32m[I 2021-05-14 10:11:56,401]\u001b[0m Trial 17 finished with value: 0.6511627906976745 and parameters: {'max_depth': 3, 'n_estimators': 69, 'min_samples_leaf': 9}. Best is trial 14 with value: 0.6744186046511628.\u001b[0m\n",
      "\u001b[32m[I 2021-05-14 10:11:56,605]\u001b[0m Trial 18 finished with value: 0.6723044397463002 and parameters: {'max_depth': 6, 'n_estimators': 129, 'min_samples_leaf': 7}. Best is trial 14 with value: 0.6744186046511628.\u001b[0m\n",
      "\u001b[32m[I 2021-05-14 10:11:56,753]\u001b[0m Trial 19 finished with value: 0.6596194503171248 and parameters: {'max_depth': 4, 'n_estimators': 98, 'min_samples_leaf': 8}. Best is trial 14 with value: 0.6744186046511628.\u001b[0m\n",
      "\u001b[32m[I 2021-05-14 10:11:56,955]\u001b[0m Trial 20 finished with value: 0.6659619450317125 and parameters: {'max_depth': 5, 'n_estimators': 135, 'min_samples_leaf': 8}. Best is trial 14 with value: 0.6744186046511628.\u001b[0m\n",
      "\u001b[32m[I 2021-05-14 10:11:57,145]\u001b[0m Trial 21 finished with value: 0.6659619450317125 and parameters: {'max_depth': 6, 'n_estimators': 117, 'min_samples_leaf': 5}. Best is trial 14 with value: 0.6744186046511628.\u001b[0m\n",
      "\u001b[32m[I 2021-05-14 10:11:57,352]\u001b[0m Trial 22 finished with value: 0.6765327695560254 and parameters: {'max_depth': 6, 'n_estimators': 131, 'min_samples_leaf': 7}. Best is trial 22 with value: 0.6765327695560254.\u001b[0m\n",
      "\u001b[32m[I 2021-05-14 10:11:57,541]\u001b[0m Trial 23 finished with value: 0.6744186046511628 and parameters: {'max_depth': 6, 'n_estimators': 134, 'min_samples_leaf': 7}. Best is trial 22 with value: 0.6765327695560254.\u001b[0m\n",
      "\u001b[32m[I 2021-05-14 10:11:57,724]\u001b[0m Trial 24 finished with value: 0.6553911205073996 and parameters: {'max_depth': 5, 'n_estimators': 139, 'min_samples_leaf': 9}. Best is trial 22 with value: 0.6765327695560254.\u001b[0m\n",
      "\u001b[32m[I 2021-05-14 10:11:57,884]\u001b[0m Trial 25 finished with value: 0.6744186046511628 and parameters: {'max_depth': 6, 'n_estimators': 103, 'min_samples_leaf': 7}. Best is trial 22 with value: 0.6765327695560254.\u001b[0m\n",
      "\u001b[32m[I 2021-05-14 10:11:58,040]\u001b[0m Trial 26 finished with value: 0.6723044397463002 and parameters: {'max_depth': 6, 'n_estimators': 101, 'min_samples_leaf': 7}. Best is trial 22 with value: 0.6765327695560254.\u001b[0m\n",
      "\u001b[32m[I 2021-05-14 10:11:58,174]\u001b[0m Trial 27 finished with value: 0.6638477801268499 and parameters: {'max_depth': 5, 'n_estimators': 88, 'min_samples_leaf': 9}. Best is trial 22 with value: 0.6765327695560254.\u001b[0m\n",
      "\u001b[32m[I 2021-05-14 10:11:58,273]\u001b[0m Trial 28 finished with value: 0.653276955602537 and parameters: {'max_depth': 3, 'n_estimators': 65, 'min_samples_leaf': 10}. Best is trial 22 with value: 0.6765327695560254.\u001b[0m\n",
      "\u001b[32m[I 2021-05-14 10:11:58,463]\u001b[0m Trial 29 finished with value: 0.6617336152219874 and parameters: {'max_depth': 5, 'n_estimators': 131, 'min_samples_leaf': 6}. Best is trial 22 with value: 0.6765327695560254.\u001b[0m\n"
     ]
    },
    {
     "name": "stdout",
     "output_type": "stream",
     "text": [
      "Optimized on accuracy\n",
      "Optimized Random Forest:  0.6765327695560254\n"
     ]
    }
   ],
   "source": [
    "rf = RandomForestClassifier(\n",
    "    random_state=666\n",
    ")\n",
    "rf.fit(X_train, y_train)\n",
    "preds = rf.predict(X_test)\n",
    "\n",
    "print('Random Forest accuracy: ', accuracy_score(y_test, preds))\n",
    "# print('Random Forest f1-score: ', f1_score(y_test, preds))\n",
    "\n",
    "def create_model(trial):\n",
    "    max_depth = trial.suggest_int(\"max_depth\", 2, 6)\n",
    "    n_estimators = trial.suggest_int(\"n_estimators\", 2, 150)\n",
    "    min_samples_leaf = trial.suggest_int(\"min_samples_leaf\", 1, 10)\n",
    "    model = RandomForestClassifier(\n",
    "        min_samples_leaf=min_samples_leaf, \n",
    "        n_estimators=n_estimators, \n",
    "        max_depth=max_depth, \n",
    "        random_state=666\n",
    "    )\n",
    "    return model\n",
    "\n",
    "# optimizer = Optimizer('f1')\n",
    "# rf_f1_params = optimizer.optimize()\n",
    "# rf_f1_params['random_state'] = 666\n",
    "# rf_f1 = RandomForestClassifier(\n",
    "#     **rf_f1_params\n",
    "# )\n",
    "# rf_f1.fit(X_train, y_train)\n",
    "# preds = rf_f1.predict(X_test)\n",
    "\n",
    "# print('Optimized on F1 score')\n",
    "# print('Optimized Random Forest: ', accuracy_score(y_test, preds))\n",
    "# print('Optimized Random Forest f1-score: ', f1_score(y_test, preds))\n",
    "\n",
    "optimizer = Optimizer('acc')\n",
    "rf_acc_params = optimizer.optimize()\n",
    "rf_acc_params['random_state'] = 666\n",
    "rf_acc = RandomForestClassifier(\n",
    "    **rf_acc_params\n",
    ")\n",
    "rf_acc.fit(X_train, y_train);\n",
    "preds = rf_acc.predict(X_test)\n",
    "\n",
    "print('Optimized on accuracy')\n",
    "print('Optimized Random Forest: ', accuracy_score(y_test, preds))\n",
    "# print('Optimized Random Forest f1-score: ', f1_score(y_test, preds))"
   ]
  },
  {
   "cell_type": "code",
   "execution_count": 99,
   "metadata": {},
   "outputs": [],
   "source": [
    "## Serialize Optimized Random Forest \n",
    "# import pickle \n",
    "# pickle.dump(rf_acc, open('optimized-rfc', 'wb'))\n",
    "\n"
   ]
  },
  {
   "cell_type": "code",
   "execution_count": null,
   "metadata": {},
   "outputs": [],
   "source": []
  },
  {
   "cell_type": "code",
   "execution_count": null,
   "metadata": {},
   "outputs": [],
   "source": []
  },
  {
   "cell_type": "code",
   "execution_count": 411,
   "metadata": {},
   "outputs": [],
   "source": [
    "X_val = X_test\n",
    "y_val = y_test\n",
    "X = X_train \n",
    "y = y_train "
   ]
  },
  {
   "cell_type": "code",
   "execution_count": 412,
   "metadata": {},
   "outputs": [
    {
     "name": "stderr",
     "output_type": "stream",
     "text": [
      "/Users/andrewilliams/Documents/Dev/DS-2.9-Technical-Seminar/my_env/lib/python3.8/site-packages/xgboost/sklearn.py:1146: UserWarning: The use of label encoder in XGBClassifier is deprecated and will be removed in a future release. To remove this warning, do the following: 1) Pass option use_label_encoder=False when constructing XGBClassifier object; and 2) Encode your labels (y) as integers starting with 0, i.e. 0, 1, 2, ..., [num_class - 1].\n",
      "  warnings.warn(label_encoder_deprecation_msg, UserWarning)\n"
     ]
    },
    {
     "name": "stdout",
     "output_type": "stream",
     "text": [
      "[13:16:09] WARNING: /Users/travis/build/dmlc/xgboost/src/learner.cc:1095: Starting in XGBoost 1.3.0, the default evaluation metric used with the objective 'multi:softprob' was changed from 'merror' to 'mlogloss'. Explicitly set eval_metric if you'd like to restore the old behavior.\n"
     ]
    },
    {
     "name": "stderr",
     "output_type": "stream",
     "text": [
      "\u001b[32m[I 2021-04-22 13:16:10,314]\u001b[0m A new study created in memory with name: no-name-de0ce192-e01a-4d22-b4d3-98c9eb4b7402\u001b[0m\n"
     ]
    },
    {
     "name": "stdout",
     "output_type": "stream",
     "text": [
      "XGBoost accuracy:  0.7615433270082227\n",
      "[13:16:10] WARNING: /Users/travis/build/dmlc/xgboost/src/learner.cc:1095: Starting in XGBoost 1.3.0, the default evaluation metric used with the objective 'multi:softprob' was changed from 'merror' to 'mlogloss'. Explicitly set eval_metric if you'd like to restore the old behavior.\n"
     ]
    },
    {
     "name": "stderr",
     "output_type": "stream",
     "text": [
      "/Users/andrewilliams/Documents/Dev/DS-2.9-Technical-Seminar/my_env/lib/python3.8/site-packages/xgboost/sklearn.py:1146: UserWarning: The use of label encoder in XGBClassifier is deprecated and will be removed in a future release. To remove this warning, do the following: 1) Pass option use_label_encoder=False when constructing XGBClassifier object; and 2) Encode your labels (y) as integers starting with 0, i.e. 0, 1, 2, ..., [num_class - 1].\n",
      "  warnings.warn(label_encoder_deprecation_msg, UserWarning)\n",
      "\u001b[32m[I 2021-04-22 13:16:11,160]\u001b[0m Trial 0 finished with value: 0.7375079063883618 and parameters: {'max_depth': 5, 'n_estimators': 127, 'learning_rate': 0.6765143682861918, 'gamma': 0.7278580844622691, 'subsample': 0.9514628116505947}. Best is trial 0 with value: 0.7375079063883618.\u001b[0m\n",
      "/Users/andrewilliams/Documents/Dev/DS-2.9-Technical-Seminar/my_env/lib/python3.8/site-packages/xgboost/sklearn.py:1146: UserWarning: The use of label encoder in XGBClassifier is deprecated and will be removed in a future release. To remove this warning, do the following: 1) Pass option use_label_encoder=False when constructing XGBClassifier object; and 2) Encode your labels (y) as integers starting with 0, i.e. 0, 1, 2, ..., [num_class - 1].\n",
      "  warnings.warn(label_encoder_deprecation_msg, UserWarning)\n",
      "\u001b[32m[I 2021-04-22 13:16:11,327]\u001b[0m Trial 1 finished with value: 0.5866540164452878 and parameters: {'max_depth': 2, 'n_estimators': 63, 'learning_rate': 0.048812888918720654, 'gamma': 0.0999286513283553, 'subsample': 0.5081154991364298}. Best is trial 0 with value: 0.7375079063883618.\u001b[0m\n",
      "/Users/andrewilliams/Documents/Dev/DS-2.9-Technical-Seminar/my_env/lib/python3.8/site-packages/xgboost/sklearn.py:1146: UserWarning: The use of label encoder in XGBClassifier is deprecated and will be removed in a future release. To remove this warning, do the following: 1) Pass option use_label_encoder=False when constructing XGBClassifier object; and 2) Encode your labels (y) as integers starting with 0, i.e. 0, 1, 2, ..., [num_class - 1].\n",
      "  warnings.warn(label_encoder_deprecation_msg, UserWarning)\n"
     ]
    },
    {
     "name": "stdout",
     "output_type": "stream",
     "text": [
      "[13:16:11] WARNING: /Users/travis/build/dmlc/xgboost/src/learner.cc:1095: Starting in XGBoost 1.3.0, the default evaluation metric used with the objective 'multi:softprob' was changed from 'merror' to 'mlogloss'. Explicitly set eval_metric if you'd like to restore the old behavior.\n",
      "[13:16:11] WARNING: /Users/travis/build/dmlc/xgboost/src/learner.cc:1095: Starting in XGBoost 1.3.0, the default evaluation metric used with the objective 'multi:softprob' was changed from 'merror' to 'mlogloss'. Explicitly set eval_metric if you'd like to restore the old behavior.\n"
     ]
    },
    {
     "name": "stderr",
     "output_type": "stream",
     "text": [
      "\u001b[32m[I 2021-04-22 13:16:11,665]\u001b[0m Trial 2 finished with value: 0.640101201771031 and parameters: {'max_depth': 3, 'n_estimators': 112, 'learning_rate': 0.19289208375138345, 'gamma': 0.700844782081506, 'subsample': 0.29329878305864704}. Best is trial 0 with value: 0.7375079063883618.\u001b[0m\n",
      "/Users/andrewilliams/Documents/Dev/DS-2.9-Technical-Seminar/my_env/lib/python3.8/site-packages/xgboost/sklearn.py:1146: UserWarning: The use of label encoder in XGBClassifier is deprecated and will be removed in a future release. To remove this warning, do the following: 1) Pass option use_label_encoder=False when constructing XGBClassifier object; and 2) Encode your labels (y) as integers starting with 0, i.e. 0, 1, 2, ..., [num_class - 1].\n",
      "  warnings.warn(label_encoder_deprecation_msg, UserWarning)\n",
      "\u001b[32m[I 2021-04-22 13:16:11,680]\u001b[0m Trial 3 finished with value: 0.5616698292220114 and parameters: {'max_depth': 5, 'n_estimators': 1, 'learning_rate': 0.1128577423459426, 'gamma': 0.11095376089207946, 'subsample': 0.24774346187216073}. Best is trial 0 with value: 0.7375079063883618.\u001b[0m\n",
      "/Users/andrewilliams/Documents/Dev/DS-2.9-Technical-Seminar/my_env/lib/python3.8/site-packages/xgboost/sklearn.py:1146: UserWarning: The use of label encoder in XGBClassifier is deprecated and will be removed in a future release. To remove this warning, do the following: 1) Pass option use_label_encoder=False when constructing XGBClassifier object; and 2) Encode your labels (y) as integers starting with 0, i.e. 0, 1, 2, ..., [num_class - 1].\n",
      "  warnings.warn(label_encoder_deprecation_msg, UserWarning)\n"
     ]
    },
    {
     "name": "stdout",
     "output_type": "stream",
     "text": [
      "[13:16:11] WARNING: /Users/travis/build/dmlc/xgboost/src/learner.cc:1095: Starting in XGBoost 1.3.0, the default evaluation metric used with the objective 'multi:softprob' was changed from 'merror' to 'mlogloss'. Explicitly set eval_metric if you'd like to restore the old behavior.\n",
      "[13:16:11] WARNING: /Users/travis/build/dmlc/xgboost/src/learner.cc:1095: Starting in XGBoost 1.3.0, the default evaluation metric used with the objective 'multi:softprob' was changed from 'merror' to 'mlogloss'. Explicitly set eval_metric if you'd like to restore the old behavior.\n"
     ]
    },
    {
     "name": "stderr",
     "output_type": "stream",
     "text": [
      "\u001b[32m[I 2021-04-22 13:16:12,024]\u001b[0m Trial 4 finished with value: 0.6318785578747628 and parameters: {'max_depth': 2, 'n_estimators': 110, 'learning_rate': 0.34003500795113273, 'gamma': 0.19750323664268268, 'subsample': 0.9091886748803036}. Best is trial 0 with value: 0.7375079063883618.\u001b[0m\n",
      "/Users/andrewilliams/Documents/Dev/DS-2.9-Technical-Seminar/my_env/lib/python3.8/site-packages/xgboost/sklearn.py:1146: UserWarning: The use of label encoder in XGBClassifier is deprecated and will be removed in a future release. To remove this warning, do the following: 1) Pass option use_label_encoder=False when constructing XGBClassifier object; and 2) Encode your labels (y) as integers starting with 0, i.e. 0, 1, 2, ..., [num_class - 1].\n",
      "  warnings.warn(label_encoder_deprecation_msg, UserWarning)\n"
     ]
    },
    {
     "name": "stdout",
     "output_type": "stream",
     "text": [
      "[13:16:12] WARNING: /Users/travis/build/dmlc/xgboost/src/learner.cc:1095: Starting in XGBoost 1.3.0, the default evaluation metric used with the objective 'multi:softprob' was changed from 'merror' to 'mlogloss'. Explicitly set eval_metric if you'd like to restore the old behavior.\n"
     ]
    },
    {
     "name": "stderr",
     "output_type": "stream",
     "text": [
      "\u001b[32m[I 2021-04-22 13:16:12,674]\u001b[0m Trial 5 finished with value: 0.706831119544592 and parameters: {'max_depth': 6, 'n_estimators': 80, 'learning_rate': 0.2591319234557709, 'gamma': 0.5838126604440433, 'subsample': 0.3257580838683153}. Best is trial 0 with value: 0.7375079063883618.\u001b[0m\n",
      "/Users/andrewilliams/Documents/Dev/DS-2.9-Technical-Seminar/my_env/lib/python3.8/site-packages/xgboost/sklearn.py:1146: UserWarning: The use of label encoder in XGBClassifier is deprecated and will be removed in a future release. To remove this warning, do the following: 1) Pass option use_label_encoder=False when constructing XGBClassifier object; and 2) Encode your labels (y) as integers starting with 0, i.e. 0, 1, 2, ..., [num_class - 1].\n",
      "  warnings.warn(label_encoder_deprecation_msg, UserWarning)\n"
     ]
    },
    {
     "name": "stdout",
     "output_type": "stream",
     "text": [
      "[13:16:12] WARNING: /Users/travis/build/dmlc/xgboost/src/learner.cc:1095: Starting in XGBoost 1.3.0, the default evaluation metric used with the objective 'multi:softprob' was changed from 'merror' to 'mlogloss'. Explicitly set eval_metric if you'd like to restore the old behavior.\n"
     ]
    },
    {
     "name": "stderr",
     "output_type": "stream",
     "text": [
      "\u001b[32m[I 2021-04-22 13:16:13,329]\u001b[0m Trial 6 finished with value: 0.6998734977862112 and parameters: {'max_depth': 6, 'n_estimators': 94, 'learning_rate': 0.8188737086904494, 'gamma': 0.5473454656384197, 'subsample': 0.41677033473305986}. Best is trial 0 with value: 0.7375079063883618.\u001b[0m\n",
      "/Users/andrewilliams/Documents/Dev/DS-2.9-Technical-Seminar/my_env/lib/python3.8/site-packages/xgboost/sklearn.py:1146: UserWarning: The use of label encoder in XGBClassifier is deprecated and will be removed in a future release. To remove this warning, do the following: 1) Pass option use_label_encoder=False when constructing XGBClassifier object; and 2) Encode your labels (y) as integers starting with 0, i.e. 0, 1, 2, ..., [num_class - 1].\n",
      "  warnings.warn(label_encoder_deprecation_msg, UserWarning)\n"
     ]
    },
    {
     "name": "stdout",
     "output_type": "stream",
     "text": [
      "[13:16:13] WARNING: /Users/travis/build/dmlc/xgboost/src/learner.cc:1095: Starting in XGBoost 1.3.0, the default evaluation metric used with the objective 'multi:softprob' was changed from 'merror' to 'mlogloss'. Explicitly set eval_metric if you'd like to restore the old behavior.\n"
     ]
    },
    {
     "name": "stderr",
     "output_type": "stream",
     "text": [
      "\u001b[32m[I 2021-04-22 13:16:13,678]\u001b[0m Trial 7 finished with value: 0.6502213788741303 and parameters: {'max_depth': 5, 'n_estimators': 56, 'learning_rate': 0.0751666364305374, 'gamma': 0.7751930009328656, 'subsample': 0.2194873035183015}. Best is trial 0 with value: 0.7375079063883618.\u001b[0m\n",
      "/Users/andrewilliams/Documents/Dev/DS-2.9-Technical-Seminar/my_env/lib/python3.8/site-packages/xgboost/sklearn.py:1146: UserWarning: The use of label encoder in XGBClassifier is deprecated and will be removed in a future release. To remove this warning, do the following: 1) Pass option use_label_encoder=False when constructing XGBClassifier object; and 2) Encode your labels (y) as integers starting with 0, i.e. 0, 1, 2, ..., [num_class - 1].\n",
      "  warnings.warn(label_encoder_deprecation_msg, UserWarning)\n",
      "\u001b[32m[I 2021-04-22 13:16:13,861]\u001b[0m Trial 8 finished with value: 0.5942441492726123 and parameters: {'max_depth': 2, 'n_estimators': 74, 'learning_rate': 0.15367398663261667, 'gamma': 0.8284651504059493, 'subsample': 0.19144943108120346}. Best is trial 0 with value: 0.7375079063883618.\u001b[0m\n",
      "/Users/andrewilliams/Documents/Dev/DS-2.9-Technical-Seminar/my_env/lib/python3.8/site-packages/xgboost/sklearn.py:1146: UserWarning: The use of label encoder in XGBClassifier is deprecated and will be removed in a future release. To remove this warning, do the following: 1) Pass option use_label_encoder=False when constructing XGBClassifier object; and 2) Encode your labels (y) as integers starting with 0, i.e. 0, 1, 2, ..., [num_class - 1].\n",
      "  warnings.warn(label_encoder_deprecation_msg, UserWarning)\n"
     ]
    },
    {
     "name": "stdout",
     "output_type": "stream",
     "text": [
      "[13:16:13] WARNING: /Users/travis/build/dmlc/xgboost/src/learner.cc:1095: Starting in XGBoost 1.3.0, the default evaluation metric used with the objective 'multi:softprob' was changed from 'merror' to 'mlogloss'. Explicitly set eval_metric if you'd like to restore the old behavior.\n",
      "[13:16:13] WARNING: /Users/travis/build/dmlc/xgboost/src/learner.cc:1095: Starting in XGBoost 1.3.0, the default evaluation metric used with the objective 'multi:softprob' was changed from 'merror' to 'mlogloss'. Explicitly set eval_metric if you'd like to restore the old behavior.\n"
     ]
    },
    {
     "name": "stderr",
     "output_type": "stream",
     "text": [
      "\u001b[32m[I 2021-04-22 13:16:14,158]\u001b[0m Trial 9 finished with value: 0.6448450347881088 and parameters: {'max_depth': 3, 'n_estimators': 85, 'learning_rate': 0.9023803996540212, 'gamma': 0.851788356584257, 'subsample': 0.4181401523901378}. Best is trial 0 with value: 0.7375079063883618.\u001b[0m\n",
      "/Users/andrewilliams/Documents/Dev/DS-2.9-Technical-Seminar/my_env/lib/python3.8/site-packages/xgboost/sklearn.py:1146: UserWarning: The use of label encoder in XGBClassifier is deprecated and will be removed in a future release. To remove this warning, do the following: 1) Pass option use_label_encoder=False when constructing XGBClassifier object; and 2) Encode your labels (y) as integers starting with 0, i.e. 0, 1, 2, ..., [num_class - 1].\n",
      "  warnings.warn(label_encoder_deprecation_msg, UserWarning)\n"
     ]
    },
    {
     "name": "stdout",
     "output_type": "stream",
     "text": [
      "[13:16:14] WARNING: /Users/travis/build/dmlc/xgboost/src/learner.cc:1095: Starting in XGBoost 1.3.0, the default evaluation metric used with the objective 'multi:softprob' was changed from 'merror' to 'mlogloss'. Explicitly set eval_metric if you'd like to restore the old behavior.\n"
     ]
    },
    {
     "name": "stderr",
     "output_type": "stream",
     "text": [
      "\u001b[32m[I 2021-04-22 13:16:15,016]\u001b[0m Trial 10 finished with value: 0.7286527514231499 and parameters: {'max_depth': 4, 'n_estimators': 150, 'learning_rate': 0.6502310988771591, 'gamma': 0.3436433301007432, 'subsample': 0.9776081334747528}. Best is trial 0 with value: 0.7375079063883618.\u001b[0m\n",
      "/Users/andrewilliams/Documents/Dev/DS-2.9-Technical-Seminar/my_env/lib/python3.8/site-packages/xgboost/sklearn.py:1146: UserWarning: The use of label encoder in XGBClassifier is deprecated and will be removed in a future release. To remove this warning, do the following: 1) Pass option use_label_encoder=False when constructing XGBClassifier object; and 2) Encode your labels (y) as integers starting with 0, i.e. 0, 1, 2, ..., [num_class - 1].\n",
      "  warnings.warn(label_encoder_deprecation_msg, UserWarning)\n"
     ]
    },
    {
     "name": "stdout",
     "output_type": "stream",
     "text": [
      "[13:16:15] WARNING: /Users/travis/build/dmlc/xgboost/src/learner.cc:1095: Starting in XGBoost 1.3.0, the default evaluation metric used with the objective 'multi:softprob' was changed from 'merror' to 'mlogloss'. Explicitly set eval_metric if you'd like to restore the old behavior.\n"
     ]
    },
    {
     "name": "stderr",
     "output_type": "stream",
     "text": [
      "\u001b[32m[I 2021-04-22 13:16:15,752]\u001b[0m Trial 11 finished with value: 0.7311827956989247 and parameters: {'max_depth': 4, 'n_estimators': 147, 'learning_rate': 0.6377276431264177, 'gamma': 0.3179553747132384, 'subsample': 0.9839509574531247}. Best is trial 0 with value: 0.7375079063883618.\u001b[0m\n",
      "/Users/andrewilliams/Documents/Dev/DS-2.9-Technical-Seminar/my_env/lib/python3.8/site-packages/xgboost/sklearn.py:1146: UserWarning: The use of label encoder in XGBClassifier is deprecated and will be removed in a future release. To remove this warning, do the following: 1) Pass option use_label_encoder=False when constructing XGBClassifier object; and 2) Encode your labels (y) as integers starting with 0, i.e. 0, 1, 2, ..., [num_class - 1].\n",
      "  warnings.warn(label_encoder_deprecation_msg, UserWarning)\n"
     ]
    },
    {
     "name": "stdout",
     "output_type": "stream",
     "text": [
      "[13:16:15] WARNING: /Users/travis/build/dmlc/xgboost/src/learner.cc:1095: Starting in XGBoost 1.3.0, the default evaluation metric used with the objective 'multi:softprob' was changed from 'merror' to 'mlogloss'. Explicitly set eval_metric if you'd like to restore the old behavior.\n"
     ]
    },
    {
     "name": "stderr",
     "output_type": "stream",
     "text": [
      "\u001b[32m[I 2021-04-22 13:16:16,495]\u001b[0m Trial 12 finished with value: 0.7239089184060721 and parameters: {'max_depth': 4, 'n_estimators': 149, 'learning_rate': 0.5571306163724984, 'gamma': 0.37314707678320724, 'subsample': 0.7876624135529685}. Best is trial 0 with value: 0.7375079063883618.\u001b[0m\n",
      "/Users/andrewilliams/Documents/Dev/DS-2.9-Technical-Seminar/my_env/lib/python3.8/site-packages/xgboost/sklearn.py:1146: UserWarning: The use of label encoder in XGBClassifier is deprecated and will be removed in a future release. To remove this warning, do the following: 1) Pass option use_label_encoder=False when constructing XGBClassifier object; and 2) Encode your labels (y) as integers starting with 0, i.e. 0, 1, 2, ..., [num_class - 1].\n",
      "  warnings.warn(label_encoder_deprecation_msg, UserWarning)\n"
     ]
    },
    {
     "name": "stdout",
     "output_type": "stream",
     "text": [
      "[13:16:16] WARNING: /Users/travis/build/dmlc/xgboost/src/learner.cc:1095: Starting in XGBoost 1.3.0, the default evaluation metric used with the objective 'multi:softprob' was changed from 'merror' to 'mlogloss'. Explicitly set eval_metric if you'd like to restore the old behavior.\n"
     ]
    },
    {
     "name": "stderr",
     "output_type": "stream",
     "text": [
      "\u001b[32m[I 2021-04-22 13:16:17,298]\u001b[0m Trial 13 finished with value: 0.7235926628716003 and parameters: {'max_depth': 5, 'n_estimators': 130, 'learning_rate': 0.7091039397790568, 'gamma': 0.9683903574368246, 'subsample': 0.7082435065629176}. Best is trial 0 with value: 0.7375079063883618.\u001b[0m\n",
      "/Users/andrewilliams/Documents/Dev/DS-2.9-Technical-Seminar/my_env/lib/python3.8/site-packages/xgboost/sklearn.py:1146: UserWarning: The use of label encoder in XGBClassifier is deprecated and will be removed in a future release. To remove this warning, do the following: 1) Pass option use_label_encoder=False when constructing XGBClassifier object; and 2) Encode your labels (y) as integers starting with 0, i.e. 0, 1, 2, ..., [num_class - 1].\n",
      "  warnings.warn(label_encoder_deprecation_msg, UserWarning)\n"
     ]
    },
    {
     "name": "stdout",
     "output_type": "stream",
     "text": [
      "[13:16:17] WARNING: /Users/travis/build/dmlc/xgboost/src/learner.cc:1095: Starting in XGBoost 1.3.0, the default evaluation metric used with the objective 'multi:softprob' was changed from 'merror' to 'mlogloss'. Explicitly set eval_metric if you'd like to restore the old behavior.\n"
     ]
    },
    {
     "name": "stderr",
     "output_type": "stream",
     "text": [
      "\u001b[32m[I 2021-04-22 13:16:17,717]\u001b[0m Trial 14 finished with value: 0.5230866540164453 and parameters: {'max_depth': 5, 'n_estimators': 133, 'learning_rate': 0.4320740818033063, 'gamma': 0.3898418247216437, 'subsample': 0.029616583038213795}. Best is trial 0 with value: 0.7375079063883618.\u001b[0m\n",
      "/Users/andrewilliams/Documents/Dev/DS-2.9-Technical-Seminar/my_env/lib/python3.8/site-packages/xgboost/sklearn.py:1146: UserWarning: The use of label encoder in XGBClassifier is deprecated and will be removed in a future release. To remove this warning, do the following: 1) Pass option use_label_encoder=False when constructing XGBClassifier object; and 2) Encode your labels (y) as integers starting with 0, i.e. 0, 1, 2, ..., [num_class - 1].\n",
      "  warnings.warn(label_encoder_deprecation_msg, UserWarning)\n",
      "\u001b[32m[I 2021-04-22 13:16:17,928]\u001b[0m Trial 15 finished with value: 0.6944971537001897 and parameters: {'max_depth': 4, 'n_estimators': 38, 'learning_rate': 0.7804340475761541, 'gamma': 0.23984808643419203, 'subsample': 0.823924978486315}. Best is trial 0 with value: 0.7375079063883618.\u001b[0m\n"
     ]
    },
    {
     "name": "stdout",
     "output_type": "stream",
     "text": [
      "[13:16:17] WARNING: /Users/travis/build/dmlc/xgboost/src/learner.cc:1095: Starting in XGBoost 1.3.0, the default evaluation metric used with the objective 'multi:softprob' was changed from 'merror' to 'mlogloss'. Explicitly set eval_metric if you'd like to restore the old behavior.\n"
     ]
    },
    {
     "name": "stderr",
     "output_type": "stream",
     "text": [
      "/Users/andrewilliams/Documents/Dev/DS-2.9-Technical-Seminar/my_env/lib/python3.8/site-packages/xgboost/sklearn.py:1146: UserWarning: The use of label encoder in XGBClassifier is deprecated and will be removed in a future release. To remove this warning, do the following: 1) Pass option use_label_encoder=False when constructing XGBClassifier object; and 2) Encode your labels (y) as integers starting with 0, i.e. 0, 1, 2, ..., [num_class - 1].\n",
      "  warnings.warn(label_encoder_deprecation_msg, UserWarning)\n"
     ]
    },
    {
     "name": "stdout",
     "output_type": "stream",
     "text": [
      "[13:16:17] WARNING: /Users/travis/build/dmlc/xgboost/src/learner.cc:1095: Starting in XGBoost 1.3.0, the default evaluation metric used with the objective 'multi:softprob' was changed from 'merror' to 'mlogloss'. Explicitly set eval_metric if you'd like to restore the old behavior.\n"
     ]
    },
    {
     "name": "stderr",
     "output_type": "stream",
     "text": [
      "\u001b[32m[I 2021-04-22 13:16:18,415]\u001b[0m Trial 16 finished with value: 0.6742567994939912 and parameters: {'max_depth': 3, 'n_estimators': 132, 'learning_rate': 0.9629569132597372, 'gamma': 0.9893273690645659, 'subsample': 0.6169933589245892}. Best is trial 0 with value: 0.7375079063883618.\u001b[0m\n",
      "/Users/andrewilliams/Documents/Dev/DS-2.9-Technical-Seminar/my_env/lib/python3.8/site-packages/xgboost/sklearn.py:1146: UserWarning: The use of label encoder in XGBClassifier is deprecated and will be removed in a future release. To remove this warning, do the following: 1) Pass option use_label_encoder=False when constructing XGBClassifier object; and 2) Encode your labels (y) as integers starting with 0, i.e. 0, 1, 2, ..., [num_class - 1].\n",
      "  warnings.warn(label_encoder_deprecation_msg, UserWarning)\n"
     ]
    },
    {
     "name": "stdout",
     "output_type": "stream",
     "text": [
      "[13:16:18] WARNING: /Users/travis/build/dmlc/xgboost/src/learner.cc:1095: Starting in XGBoost 1.3.0, the default evaluation metric used with the objective 'multi:softprob' was changed from 'merror' to 'mlogloss'. Explicitly set eval_metric if you'd like to restore the old behavior.\n"
     ]
    },
    {
     "name": "stderr",
     "output_type": "stream",
     "text": [
      "\u001b[32m[I 2021-04-22 13:16:19,270]\u001b[0m Trial 17 finished with value: 0.7536369386464263 and parameters: {'max_depth': 6, 'n_estimators': 110, 'learning_rate': 0.5909389632868929, 'gamma': 0.655235400813831, 'subsample': 0.9893744751073859}. Best is trial 17 with value: 0.7536369386464263.\u001b[0m\n",
      "/Users/andrewilliams/Documents/Dev/DS-2.9-Technical-Seminar/my_env/lib/python3.8/site-packages/xgboost/sklearn.py:1146: UserWarning: The use of label encoder in XGBClassifier is deprecated and will be removed in a future release. To remove this warning, do the following: 1) Pass option use_label_encoder=False when constructing XGBClassifier object; and 2) Encode your labels (y) as integers starting with 0, i.e. 0, 1, 2, ..., [num_class - 1].\n",
      "  warnings.warn(label_encoder_deprecation_msg, UserWarning)\n"
     ]
    },
    {
     "name": "stdout",
     "output_type": "stream",
     "text": [
      "[13:16:19] WARNING: /Users/travis/build/dmlc/xgboost/src/learner.cc:1095: Starting in XGBoost 1.3.0, the default evaluation metric used with the objective 'multi:softprob' was changed from 'merror' to 'mlogloss'. Explicitly set eval_metric if you'd like to restore the old behavior.\n"
     ]
    },
    {
     "name": "stderr",
     "output_type": "stream",
     "text": [
      "\u001b[32m[I 2021-04-22 13:16:20,311]\u001b[0m Trial 18 finished with value: 0.7615433270082227 and parameters: {'max_depth': 6, 'n_estimators': 107, 'learning_rate': 0.4687122257988131, 'gamma': 0.6394257049197503, 'subsample': 0.8843161484878157}. Best is trial 18 with value: 0.7615433270082227.\u001b[0m\n",
      "/Users/andrewilliams/Documents/Dev/DS-2.9-Technical-Seminar/my_env/lib/python3.8/site-packages/xgboost/sklearn.py:1146: UserWarning: The use of label encoder in XGBClassifier is deprecated and will be removed in a future release. To remove this warning, do the following: 1) Pass option use_label_encoder=False when constructing XGBClassifier object; and 2) Encode your labels (y) as integers starting with 0, i.e. 0, 1, 2, ..., [num_class - 1].\n",
      "  warnings.warn(label_encoder_deprecation_msg, UserWarning)\n"
     ]
    },
    {
     "name": "stdout",
     "output_type": "stream",
     "text": [
      "[13:16:20] WARNING: /Users/travis/build/dmlc/xgboost/src/learner.cc:1095: Starting in XGBoost 1.3.0, the default evaluation metric used with the objective 'multi:softprob' was changed from 'merror' to 'mlogloss'. Explicitly set eval_metric if you'd like to restore the old behavior.\n"
     ]
    },
    {
     "name": "stderr",
     "output_type": "stream",
     "text": [
      "\u001b[32m[I 2021-04-22 13:16:21,284]\u001b[0m Trial 19 finished with value: 0.7697659709044908 and parameters: {'max_depth': 6, 'n_estimators': 99, 'learning_rate': 0.47726388424495025, 'gamma': 0.6556592219046772, 'subsample': 0.8504145600313903}. Best is trial 19 with value: 0.7697659709044908.\u001b[0m\n",
      "/Users/andrewilliams/Documents/Dev/DS-2.9-Technical-Seminar/my_env/lib/python3.8/site-packages/xgboost/sklearn.py:1146: UserWarning: The use of label encoder in XGBClassifier is deprecated and will be removed in a future release. To remove this warning, do the following: 1) Pass option use_label_encoder=False when constructing XGBClassifier object; and 2) Encode your labels (y) as integers starting with 0, i.e. 0, 1, 2, ..., [num_class - 1].\n",
      "  warnings.warn(label_encoder_deprecation_msg, UserWarning)\n"
     ]
    },
    {
     "name": "stdout",
     "output_type": "stream",
     "text": [
      "[13:16:21] WARNING: /Users/travis/build/dmlc/xgboost/src/learner.cc:1095: Starting in XGBoost 1.3.0, the default evaluation metric used with the objective 'multi:softprob' was changed from 'merror' to 'mlogloss'. Explicitly set eval_metric if you'd like to restore the old behavior.\n"
     ]
    },
    {
     "name": "stderr",
     "output_type": "stream",
     "text": [
      "\u001b[32m[I 2021-04-22 13:16:21,574]\u001b[0m Trial 20 finished with value: 0.7289690069576218 and parameters: {'max_depth': 6, 'n_estimators': 29, 'learning_rate': 0.47256798790445786, 'gamma': 0.4748155000815166, 'subsample': 0.640781126405347}. Best is trial 19 with value: 0.7697659709044908.\u001b[0m\n",
      "/Users/andrewilliams/Documents/Dev/DS-2.9-Technical-Seminar/my_env/lib/python3.8/site-packages/xgboost/sklearn.py:1146: UserWarning: The use of label encoder in XGBClassifier is deprecated and will be removed in a future release. To remove this warning, do the following: 1) Pass option use_label_encoder=False when constructing XGBClassifier object; and 2) Encode your labels (y) as integers starting with 0, i.e. 0, 1, 2, ..., [num_class - 1].\n",
      "  warnings.warn(label_encoder_deprecation_msg, UserWarning)\n"
     ]
    },
    {
     "name": "stdout",
     "output_type": "stream",
     "text": [
      "[13:16:21] WARNING: /Users/travis/build/dmlc/xgboost/src/learner.cc:1095: Starting in XGBoost 1.3.0, the default evaluation metric used with the objective 'multi:softprob' was changed from 'merror' to 'mlogloss'. Explicitly set eval_metric if you'd like to restore the old behavior.\n"
     ]
    },
    {
     "name": "stderr",
     "output_type": "stream",
     "text": [
      "\u001b[32m[I 2021-04-22 13:16:22,542]\u001b[0m Trial 21 finished with value: 0.7545857052498419 and parameters: {'max_depth': 6, 'n_estimators': 102, 'learning_rate': 0.37218781011967905, 'gamma': 0.6138307806038967, 'subsample': 0.8534497666135381}. Best is trial 19 with value: 0.7697659709044908.\u001b[0m\n",
      "/Users/andrewilliams/Documents/Dev/DS-2.9-Technical-Seminar/my_env/lib/python3.8/site-packages/xgboost/sklearn.py:1146: UserWarning: The use of label encoder in XGBClassifier is deprecated and will be removed in a future release. To remove this warning, do the following: 1) Pass option use_label_encoder=False when constructing XGBClassifier object; and 2) Encode your labels (y) as integers starting with 0, i.e. 0, 1, 2, ..., [num_class - 1].\n",
      "  warnings.warn(label_encoder_deprecation_msg, UserWarning)\n"
     ]
    },
    {
     "name": "stdout",
     "output_type": "stream",
     "text": [
      "[13:16:22] WARNING: /Users/travis/build/dmlc/xgboost/src/learner.cc:1095: Starting in XGBoost 1.3.0, the default evaluation metric used with the objective 'multi:softprob' was changed from 'merror' to 'mlogloss'. Explicitly set eval_metric if you'd like to restore the old behavior.\n"
     ]
    },
    {
     "name": "stderr",
     "output_type": "stream",
     "text": [
      "\u001b[32m[I 2021-04-22 13:16:23,331]\u001b[0m Trial 22 finished with value: 0.7590132827324478 and parameters: {'max_depth': 6, 'n_estimators': 97, 'learning_rate': 0.3729352827180554, 'gamma': 0.6222031716948176, 'subsample': 0.8611349690614417}. Best is trial 19 with value: 0.7697659709044908.\u001b[0m\n",
      "/Users/andrewilliams/Documents/Dev/DS-2.9-Technical-Seminar/my_env/lib/python3.8/site-packages/xgboost/sklearn.py:1146: UserWarning: The use of label encoder in XGBClassifier is deprecated and will be removed in a future release. To remove this warning, do the following: 1) Pass option use_label_encoder=False when constructing XGBClassifier object; and 2) Encode your labels (y) as integers starting with 0, i.e. 0, 1, 2, ..., [num_class - 1].\n",
      "  warnings.warn(label_encoder_deprecation_msg, UserWarning)\n"
     ]
    },
    {
     "name": "stdout",
     "output_type": "stream",
     "text": [
      "[13:16:23] WARNING: /Users/travis/build/dmlc/xgboost/src/learner.cc:1095: Starting in XGBoost 1.3.0, the default evaluation metric used with the objective 'multi:softprob' was changed from 'merror' to 'mlogloss'. Explicitly set eval_metric if you'd like to restore the old behavior.\n"
     ]
    },
    {
     "name": "stderr",
     "output_type": "stream",
     "text": [
      "\u001b[32m[I 2021-04-22 13:16:24,073]\u001b[0m Trial 23 finished with value: 0.7507906388361796 and parameters: {'max_depth': 6, 'n_estimators': 95, 'learning_rate': 0.5199784493356745, 'gamma': 0.48023646065730063, 'subsample': 0.7379889379360859}. Best is trial 19 with value: 0.7697659709044908.\u001b[0m\n",
      "/Users/andrewilliams/Documents/Dev/DS-2.9-Technical-Seminar/my_env/lib/python3.8/site-packages/xgboost/sklearn.py:1146: UserWarning: The use of label encoder in XGBClassifier is deprecated and will be removed in a future release. To remove this warning, do the following: 1) Pass option use_label_encoder=False when constructing XGBClassifier object; and 2) Encode your labels (y) as integers starting with 0, i.e. 0, 1, 2, ..., [num_class - 1].\n",
      "  warnings.warn(label_encoder_deprecation_msg, UserWarning)\n"
     ]
    },
    {
     "name": "stdout",
     "output_type": "stream",
     "text": [
      "[13:16:24] WARNING: /Users/travis/build/dmlc/xgboost/src/learner.cc:1095: Starting in XGBoost 1.3.0, the default evaluation metric used with the objective 'multi:softprob' was changed from 'merror' to 'mlogloss'. Explicitly set eval_metric if you'd like to restore the old behavior.\n"
     ]
    },
    {
     "name": "stderr",
     "output_type": "stream",
     "text": [
      "\u001b[32m[I 2021-04-22 13:16:25,013]\u001b[0m Trial 24 finished with value: 0.7583807716635041 and parameters: {'max_depth': 6, 'n_estimators': 115, 'learning_rate': 0.3121489696373104, 'gamma': 0.8993414340012825, 'subsample': 0.8773166988951857}. Best is trial 19 with value: 0.7697659709044908.\u001b[0m\n",
      "/Users/andrewilliams/Documents/Dev/DS-2.9-Technical-Seminar/my_env/lib/python3.8/site-packages/xgboost/sklearn.py:1146: UserWarning: The use of label encoder in XGBClassifier is deprecated and will be removed in a future release. To remove this warning, do the following: 1) Pass option use_label_encoder=False when constructing XGBClassifier object; and 2) Encode your labels (y) as integers starting with 0, i.e. 0, 1, 2, ..., [num_class - 1].\n",
      "  warnings.warn(label_encoder_deprecation_msg, UserWarning)\n"
     ]
    },
    {
     "name": "stdout",
     "output_type": "stream",
     "text": [
      "[13:16:25] WARNING: /Users/travis/build/dmlc/xgboost/src/learner.cc:1095: Starting in XGBoost 1.3.0, the default evaluation metric used with the objective 'multi:softprob' was changed from 'merror' to 'mlogloss'. Explicitly set eval_metric if you'd like to restore the old behavior.\n"
     ]
    },
    {
     "name": "stderr",
     "output_type": "stream",
     "text": [
      "\u001b[32m[I 2021-04-22 13:16:25,640]\u001b[0m Trial 25 finished with value: 0.7400379506641366 and parameters: {'max_depth': 5, 'n_estimators': 90, 'learning_rate': 0.44432659851638934, 'gamma': 0.5378715520758524, 'subsample': 0.6237161563599487}. Best is trial 19 with value: 0.7697659709044908.\u001b[0m\n",
      "/Users/andrewilliams/Documents/Dev/DS-2.9-Technical-Seminar/my_env/lib/python3.8/site-packages/xgboost/sklearn.py:1146: UserWarning: The use of label encoder in XGBClassifier is deprecated and will be removed in a future release. To remove this warning, do the following: 1) Pass option use_label_encoder=False when constructing XGBClassifier object; and 2) Encode your labels (y) as integers starting with 0, i.e. 0, 1, 2, ..., [num_class - 1].\n",
      "  warnings.warn(label_encoder_deprecation_msg, UserWarning)\n"
     ]
    },
    {
     "name": "stdout",
     "output_type": "stream",
     "text": [
      "[13:16:25] WARNING: /Users/travis/build/dmlc/xgboost/src/learner.cc:1095: Starting in XGBoost 1.3.0, the default evaluation metric used with the objective 'multi:softprob' was changed from 'merror' to 'mlogloss'. Explicitly set eval_metric if you'd like to restore the old behavior.\n"
     ]
    },
    {
     "name": "stderr",
     "output_type": "stream",
     "text": [
      "\u001b[32m[I 2021-04-22 13:16:26,122]\u001b[0m Trial 26 finished with value: 0.7454142947501581 and parameters: {'max_depth': 6, 'n_estimators': 63, 'learning_rate': 0.25355668063250864, 'gamma': 0.6648078430282481, 'subsample': 0.7605588480135438}. Best is trial 19 with value: 0.7697659709044908.\u001b[0m\n",
      "/Users/andrewilliams/Documents/Dev/DS-2.9-Technical-Seminar/my_env/lib/python3.8/site-packages/xgboost/sklearn.py:1146: UserWarning: The use of label encoder in XGBClassifier is deprecated and will be removed in a future release. To remove this warning, do the following: 1) Pass option use_label_encoder=False when constructing XGBClassifier object; and 2) Encode your labels (y) as integers starting with 0, i.e. 0, 1, 2, ..., [num_class - 1].\n",
      "  warnings.warn(label_encoder_deprecation_msg, UserWarning)\n"
     ]
    },
    {
     "name": "stdout",
     "output_type": "stream",
     "text": [
      "[13:16:26] WARNING: /Users/travis/build/dmlc/xgboost/src/learner.cc:1095: Starting in XGBoost 1.3.0, the default evaluation metric used with the objective 'multi:softprob' was changed from 'merror' to 'mlogloss'. Explicitly set eval_metric if you'd like to restore the old behavior.\n"
     ]
    },
    {
     "name": "stderr",
     "output_type": "stream",
     "text": [
      "\u001b[32m[I 2021-04-22 13:16:26,824]\u001b[0m Trial 27 finished with value: 0.7463630613535737 and parameters: {'max_depth': 5, 'n_estimators': 120, 'learning_rate': 0.40097052357536467, 'gamma': 0.7764157702599557, 'subsample': 0.8992143977897817}. Best is trial 19 with value: 0.7697659709044908.\u001b[0m\n",
      "/Users/andrewilliams/Documents/Dev/DS-2.9-Technical-Seminar/my_env/lib/python3.8/site-packages/xgboost/sklearn.py:1146: UserWarning: The use of label encoder in XGBClassifier is deprecated and will be removed in a future release. To remove this warning, do the following: 1) Pass option use_label_encoder=False when constructing XGBClassifier object; and 2) Encode your labels (y) as integers starting with 0, i.e. 0, 1, 2, ..., [num_class - 1].\n",
      "  warnings.warn(label_encoder_deprecation_msg, UserWarning)\n"
     ]
    },
    {
     "name": "stdout",
     "output_type": "stream",
     "text": [
      "[13:16:26] WARNING: /Users/travis/build/dmlc/xgboost/src/learner.cc:1095: Starting in XGBoost 1.3.0, the default evaluation metric used with the objective 'multi:softprob' was changed from 'merror' to 'mlogloss'. Explicitly set eval_metric if you'd like to restore the old behavior.\n"
     ]
    },
    {
     "name": "stderr",
     "output_type": "stream",
     "text": [
      "\u001b[32m[I 2021-04-22 13:16:27,643]\u001b[0m Trial 28 finished with value: 0.7482605945604048 and parameters: {'max_depth': 6, 'n_estimators': 99, 'learning_rate': 0.5138330416194699, 'gamma': 0.43763439163326456, 'subsample': 0.6918134380951609}. Best is trial 19 with value: 0.7697659709044908.\u001b[0m\n",
      "/Users/andrewilliams/Documents/Dev/DS-2.9-Technical-Seminar/my_env/lib/python3.8/site-packages/xgboost/sklearn.py:1146: UserWarning: The use of label encoder in XGBClassifier is deprecated and will be removed in a future release. To remove this warning, do the following: 1) Pass option use_label_encoder=False when constructing XGBClassifier object; and 2) Encode your labels (y) as integers starting with 0, i.e. 0, 1, 2, ..., [num_class - 1].\n",
      "  warnings.warn(label_encoder_deprecation_msg, UserWarning)\n"
     ]
    },
    {
     "name": "stdout",
     "output_type": "stream",
     "text": [
      "[13:16:27] WARNING: /Users/travis/build/dmlc/xgboost/src/learner.cc:1095: Starting in XGBoost 1.3.0, the default evaluation metric used with the objective 'multi:softprob' was changed from 'merror' to 'mlogloss'. Explicitly set eval_metric if you'd like to restore the old behavior.\n"
     ]
    },
    {
     "name": "stderr",
     "output_type": "stream",
     "text": [
      "\u001b[32m[I 2021-04-22 13:16:28,197]\u001b[0m Trial 29 finished with value: 0.7160025300442757 and parameters: {'max_depth': 5, 'n_estimators': 74, 'learning_rate': 0.22406483930842497, 'gamma': 0.7520274017581641, 'subsample': 0.5482257865467624}. Best is trial 19 with value: 0.7697659709044908.\u001b[0m\n",
      "/Users/andrewilliams/Documents/Dev/DS-2.9-Technical-Seminar/my_env/lib/python3.8/site-packages/xgboost/sklearn.py:1146: UserWarning: The use of label encoder in XGBClassifier is deprecated and will be removed in a future release. To remove this warning, do the following: 1) Pass option use_label_encoder=False when constructing XGBClassifier object; and 2) Encode your labels (y) as integers starting with 0, i.e. 0, 1, 2, ..., [num_class - 1].\n",
      "  warnings.warn(label_encoder_deprecation_msg, UserWarning)\n"
     ]
    },
    {
     "name": "stdout",
     "output_type": "stream",
     "text": [
      "[13:16:28] WARNING: /Users/travis/build/dmlc/xgboost/src/learner.cc:1095: Starting in XGBoost 1.3.0, the default evaluation metric used with the objective 'multi:softprob' was changed from 'merror' to 'mlogloss'. Explicitly set eval_metric if you'd like to restore the old behavior.\n",
      "Optimized on accuracy\n",
      "Optimized XGBoost accuracy:  0.7697659709044908\n"
     ]
    }
   ],
   "source": [
    "xgb = XGBClassifier(\n",
    "    random_state=666\n",
    ")\n",
    "xgb.fit(X, y)\n",
    "preds = xgb.predict(X_val)\n",
    "\n",
    "print('XGBoost accuracy: ', accuracy_score(y_val, preds))\n",
    "\n",
    "\n",
    "def create_model(trial):\n",
    "    max_depth = trial.suggest_int(\"max_depth\", 2, 6)\n",
    "    n_estimators = trial.suggest_int(\"n_estimators\", 1, 150)\n",
    "    learning_rate = trial.suggest_uniform('learning_rate', 0.0000001, 1)\n",
    "    gamma = trial.suggest_uniform('gamma', 0.0000001, 1)\n",
    "    subsample = trial.suggest_uniform('subsample', 0.0001, 1.0)\n",
    "    model = XGBClassifier(\n",
    "        learning_rate=learning_rate, \n",
    "        n_estimators=n_estimators, \n",
    "        max_depth=max_depth, \n",
    "        gamma=gamma, \n",
    "        subsample=subsample,\n",
    "        random_state=666\n",
    "    )\n",
    "    return model\n",
    "\n",
    "\n",
    "optimizer = Optimizer('acc')\n",
    "xgb_acc_params = optimizer.optimize()\n",
    "xgb_acc_params['random_state'] = 666\n",
    "xgb_acc = XGBClassifier(\n",
    "    **xgb_acc_params\n",
    ")\n",
    "xgb_acc.fit(X, y)\n",
    "preds = xgb_acc.predict(X_val)\n",
    "\n",
    "print('Optimized on accuracy')\n",
    "print('Optimized XGBoost accuracy: ', accuracy_score(y_val, preds))"
   ]
  },
  {
   "cell_type": "code",
   "execution_count": 221,
   "metadata": {},
   "outputs": [],
   "source": [
    "## Serialize Optimized Random Forest \n",
    "import pickle \n",
    "pickle.dump(xgb_acc, open('optimized-XGboost-85', 'wb'))\n",
    "\n"
   ]
  },
  {
   "cell_type": "code",
   "execution_count": 414,
   "metadata": {
    "scrolled": true
   },
   "outputs": [
    {
     "name": "stderr",
     "output_type": "stream",
     "text": [
      "\u001b[32m[I 2021-04-22 13:16:44,906]\u001b[0m A new study created in memory with name: no-name-dd6e1be2-30b8-4d02-95a2-22cdd9e27e23\u001b[0m\n",
      "\u001b[32m[I 2021-04-22 13:16:45,095]\u001b[0m Trial 0 finished with value: 0.7160025300442757 and parameters: {'max_depth': 5, 'n_estimators': 127, 'learning_rate': 0.6765143682861918, 'num_leaves': 2184, 'min_child_samples': 191}. Best is trial 0 with value: 0.7160025300442757.\u001b[0m\n"
     ]
    },
    {
     "name": "stdout",
     "output_type": "stream",
     "text": [
      "LightGBM accuracy:  0.7754585705249842\n"
     ]
    },
    {
     "name": "stderr",
     "output_type": "stream",
     "text": [
      "\u001b[32m[I 2021-04-22 13:16:45,214]\u001b[0m Trial 1 finished with value: 0.5806451612903226 and parameters: {'max_depth': 2, 'n_estimators': 63, 'learning_rate': 0.048812888918720654, 'num_leaves': 301, 'min_child_samples': 103}. Best is trial 0 with value: 0.7160025300442757.\u001b[0m\n",
      "\u001b[32m[I 2021-04-22 13:16:45,421]\u001b[0m Trial 2 finished with value: 0.6593927893738141 and parameters: {'max_depth': 3, 'n_estimators': 112, 'learning_rate': 0.19289208375138345, 'num_leaves': 2103, 'min_child_samples': 61}. Best is trial 0 with value: 0.7160025300442757.\u001b[0m\n",
      "\u001b[32m[I 2021-04-22 13:16:45,432]\u001b[0m Trial 3 finished with value: 0.5262492093611638 and parameters: {'max_depth': 5, 'n_estimators': 1, 'learning_rate': 0.1128577423459426, 'num_leaves': 334, 'min_child_samples': 52}. Best is trial 0 with value: 0.7160025300442757.\u001b[0m\n",
      "\u001b[32m[I 2021-04-22 13:16:45,623]\u001b[0m Trial 4 finished with value: 0.6265022137887413 and parameters: {'max_depth': 2, 'n_estimators': 110, 'learning_rate': 0.34003500795113273, 'num_leaves': 594, 'min_child_samples': 183}. Best is trial 0 with value: 0.7160025300442757.\u001b[0m\n",
      "\u001b[32m[I 2021-04-22 13:16:45,789]\u001b[0m Trial 5 finished with value: 0.7432005060088551 and parameters: {'max_depth': 6, 'n_estimators': 80, 'learning_rate': 0.2591319234557709, 'num_leaves': 1752, 'min_child_samples': 67}. Best is trial 5 with value: 0.7432005060088551.\u001b[0m\n",
      "\u001b[32m[I 2021-04-22 13:16:46,048]\u001b[0m Trial 6 finished with value: 0.7463630613535737 and parameters: {'max_depth': 6, 'n_estimators': 94, 'learning_rate': 0.8188737086904494, 'num_leaves': 1643, 'min_child_samples': 85}. Best is trial 6 with value: 0.7463630613535737.\u001b[0m\n",
      "\u001b[32m[I 2021-04-22 13:16:46,151]\u001b[0m Trial 7 finished with value: 0.6688804554079696 and parameters: {'max_depth': 5, 'n_estimators': 56, 'learning_rate': 0.0751666364305374, 'num_leaves': 2326, 'min_child_samples': 46}. Best is trial 6 with value: 0.7463630613535737.\u001b[0m\n",
      "\u001b[32m[I 2021-04-22 13:16:46,226]\u001b[0m Trial 8 finished with value: 0.6132194813409234 and parameters: {'max_depth': 2, 'n_estimators': 74, 'learning_rate': 0.15367398663261667, 'num_leaves': 2486, 'min_child_samples': 40}. Best is trial 6 with value: 0.7463630613535737.\u001b[0m\n",
      "\u001b[32m[I 2021-04-22 13:16:46,316]\u001b[0m Trial 9 finished with value: 0.6850094876660342 and parameters: {'max_depth': 3, 'n_estimators': 85, 'learning_rate': 0.9023803996540212, 'num_leaves': 2556, 'min_child_samples': 85}. Best is trial 6 with value: 0.7463630613535737.\u001b[0m\n",
      "\u001b[32m[I 2021-04-22 13:16:46,499]\u001b[0m Trial 10 finished with value: 0.7394054395951929 and parameters: {'max_depth': 6, 'n_estimators': 150, 'learning_rate': 0.8981034626974946, 'num_leaves': 1240, 'min_child_samples': 134}. Best is trial 6 with value: 0.7463630613535737.\u001b[0m\n",
      "\u001b[32m[I 2021-04-22 13:16:46,616]\u001b[0m Trial 11 finished with value: 0.7488931056293485 and parameters: {'max_depth': 6, 'n_estimators': 34, 'learning_rate': 0.5386389306379887, 'num_leaves': 1598, 'min_child_samples': 7}. Best is trial 11 with value: 0.7488931056293485.\u001b[0m\n",
      "\u001b[32m[I 2021-04-22 13:16:46,736]\u001b[0m Trial 12 finished with value: 0.7488931056293485 and parameters: {'max_depth': 6, 'n_estimators': 31, 'learning_rate': 0.6180601732250435, 'num_leaves': 1237, 'min_child_samples': 3}. Best is trial 11 with value: 0.7488931056293485.\u001b[0m\n",
      "\u001b[32m[I 2021-04-22 13:16:46,809]\u001b[0m Trial 13 finished with value: 0.6878557874762808 and parameters: {'max_depth': 4, 'n_estimators': 26, 'learning_rate': 0.5312315172038903, 'num_leaves': 1011, 'min_child_samples': 3}. Best is trial 11 with value: 0.7488931056293485.\u001b[0m\n",
      "\u001b[32m[I 2021-04-22 13:16:46,969]\u001b[0m Trial 14 finished with value: 0.7511068943706515 and parameters: {'max_depth': 6, 'n_estimators': 32, 'learning_rate': 0.5261369153468621, 'num_leaves': 2975, 'min_child_samples': 4}. Best is trial 14 with value: 0.7511068943706515.\u001b[0m\n",
      "\u001b[32m[I 2021-04-22 13:16:47,044]\u001b[0m Trial 15 finished with value: 0.6761543327008223 and parameters: {'max_depth': 5, 'n_estimators': 9, 'learning_rate': 0.43126609023272977, 'num_leaves': 2877, 'min_child_samples': 18}. Best is trial 14 with value: 0.7511068943706515.\u001b[0m\n",
      "\u001b[32m[I 2021-04-22 13:16:47,141]\u001b[0m Trial 16 finished with value: 0.7043010752688172 and parameters: {'max_depth': 4, 'n_estimators': 41, 'learning_rate': 0.7214729268828322, 'num_leaves': 2981, 'min_child_samples': 25}. Best is trial 14 with value: 0.7511068943706515.\u001b[0m\n",
      "\u001b[32m[I 2021-04-22 13:16:47,218]\u001b[0m Trial 17 finished with value: 0.6521189120809614 and parameters: {'max_depth': 6, 'n_estimators': 16, 'learning_rate': 0.5861631738532908, 'num_leaves': 831, 'min_child_samples': 144}. Best is trial 14 with value: 0.7511068943706515.\u001b[0m\n",
      "\u001b[32m[I 2021-04-22 13:16:47,527]\u001b[0m Trial 18 finished with value: 0.7476280834914611 and parameters: {'max_depth': 5, 'n_estimators': 42, 'learning_rate': 0.4236875690931834, 'num_leaves': 40, 'min_child_samples': 4}. Best is trial 14 with value: 0.7511068943706515.\u001b[0m\n",
      "\u001b[32m[I 2021-04-22 13:16:47,707]\u001b[0m Trial 19 finished with value: 0.7675521821631879 and parameters: {'max_depth': 6, 'n_estimators': 57, 'learning_rate': 0.6608617260224647, 'num_leaves': 1332, 'min_child_samples': 29}. Best is trial 19 with value: 0.7675521821631879.\u001b[0m\n",
      "\u001b[32m[I 2021-04-22 13:16:47,848]\u001b[0m Trial 20 finished with value: 0.7160025300442757 and parameters: {'max_depth': 4, 'n_estimators': 54, 'learning_rate': 0.7528271964232384, 'num_leaves': 1900, 'min_child_samples': 25}. Best is trial 19 with value: 0.7675521821631879.\u001b[0m\n",
      "\u001b[32m[I 2021-04-22 13:16:48,123]\u001b[0m Trial 21 finished with value: 0.7280202403542062 and parameters: {'max_depth': 6, 'n_estimators': 22, 'learning_rate': 0.6274191372404058, 'num_leaves': 1314, 'min_child_samples': 3}. Best is trial 19 with value: 0.7675521821631879.\u001b[0m\n",
      "\u001b[32m[I 2021-04-22 13:16:48,246]\u001b[0m Trial 22 finished with value: 0.7485768500948766 and parameters: {'max_depth': 6, 'n_estimators': 47, 'learning_rate': 0.4410734887146177, 'num_leaves': 1355, 'min_child_samples': 34}. Best is trial 19 with value: 0.7675521821631879.\u001b[0m\n",
      "\u001b[32m[I 2021-04-22 13:16:48,342]\u001b[0m Trial 23 finished with value: 0.7239089184060721 and parameters: {'max_depth': 5, 'n_estimators': 33, 'learning_rate': 0.5124372773837862, 'num_leaves': 805, 'min_child_samples': 17}. Best is trial 19 with value: 0.7675521821631879.\u001b[0m\n",
      "\u001b[32m[I 2021-04-22 13:16:48,559]\u001b[0m Trial 24 finished with value: 0.756483238456673 and parameters: {'max_depth': 6, 'n_estimators': 65, 'learning_rate': 0.7973195120621179, 'num_leaves': 2756, 'min_child_samples': 14}. Best is trial 19 with value: 0.7675521821631879.\u001b[0m\n",
      "\u001b[32m[I 2021-04-22 13:16:48,776]\u001b[0m Trial 25 finished with value: 0.7390891840607211 and parameters: {'max_depth': 5, 'n_estimators': 70, 'learning_rate': 0.9954549432774109, 'num_leaves': 2769, 'min_child_samples': 36}. Best is trial 19 with value: 0.7675521821631879.\u001b[0m\n",
      "\u001b[32m[I 2021-04-22 13:16:48,969]\u001b[0m Trial 26 finished with value: 0.7425679949399114 and parameters: {'max_depth': 6, 'n_estimators': 62, 'learning_rate': 0.819356748452053, 'num_leaves': 2699, 'min_child_samples': 81}. Best is trial 19 with value: 0.7675521821631879.\u001b[0m\n",
      "\u001b[32m[I 2021-04-22 13:16:49,231]\u001b[0m Trial 27 finished with value: 0.7365591397849462 and parameters: {'max_depth': 6, 'n_estimators': 96, 'learning_rate': 0.7753743276224283, 'num_leaves': 2048, 'min_child_samples': 114}. Best is trial 19 with value: 0.7675521821631879.\u001b[0m\n",
      "\u001b[32m[I 2021-04-22 13:16:49,445]\u001b[0m Trial 28 finished with value: 0.7179000632511069 and parameters: {'max_depth': 5, 'n_estimators': 48, 'learning_rate': 0.9879898368003177, 'num_leaves': 2428, 'min_child_samples': 62}. Best is trial 19 with value: 0.7675521821631879.\u001b[0m\n",
      "\u001b[32m[I 2021-04-22 13:16:49,539]\u001b[0m Trial 29 finished with value: 0.6571790006325111 and parameters: {'max_depth': 3, 'n_estimators': 67, 'learning_rate': 0.6810439516395201, 'num_leaves': 1926, 'min_child_samples': 195}. Best is trial 19 with value: 0.7675521821631879.\u001b[0m\n"
     ]
    },
    {
     "name": "stdout",
     "output_type": "stream",
     "text": [
      "Optimized on accuracy\n",
      "Optimized LightGBM accuracy:  0.7675521821631879\n"
     ]
    }
   ],
   "source": [
    "lgb = LGBMClassifier(\n",
    "    random_state=666\n",
    ")\n",
    "lgb.fit(X, y)\n",
    "preds = lgb.predict(X_val)\n",
    "\n",
    "print('LightGBM accuracy: ', accuracy_score(y_val, preds))\n",
    "\n",
    "def create_model(trial):\n",
    "    max_depth = trial.suggest_int(\"max_depth\", 2, 6)\n",
    "    n_estimators = trial.suggest_int(\"n_estimators\", 1, 150)\n",
    "    learning_rate = trial.suggest_uniform('learning_rate', 0.0000001, 1)\n",
    "    num_leaves = trial.suggest_int(\"num_leaves\", 2, 3000)\n",
    "    min_child_samples = trial.suggest_int('min_child_samples', 3, 200)\n",
    "    model = LGBMClassifier(\n",
    "        learning_rate=learning_rate, \n",
    "        n_estimators=n_estimators, \n",
    "        max_depth=max_depth, \n",
    "        num_leaves=num_leaves, \n",
    "        min_child_samples=min_child_samples,\n",
    "        random_state=666\n",
    "    )\n",
    "    return model\n",
    "\n",
    "\n",
    "\n",
    "optimizer = Optimizer('acc')\n",
    "lgb_acc_params = optimizer.optimize()\n",
    "lgb_acc_params['random_state'] = 666\n",
    "lgb_acc = LGBMClassifier(\n",
    "    **lgb_acc_params\n",
    ")\n",
    "lgb_acc.fit(X, y)\n",
    "preds = lgb_acc.predict(X_val)\n",
    "\n",
    "print('Optimized on accuracy')\n",
    "print('Optimized LightGBM accuracy: ', accuracy_score(y_val, preds))"
   ]
  },
  {
   "cell_type": "code",
   "execution_count": 415,
   "metadata": {},
   "outputs": [],
   "source": [
    "## Serialize Optimized Random Forest \n",
    "import pickle \n",
    "pickle.dump(lgb_acc, open('optimized-LighGBM-86', 'wb'))"
   ]
  },
  {
   "cell_type": "code",
   "execution_count": 416,
   "metadata": {},
   "outputs": [
    {
     "name": "stdout",
     "output_type": "stream",
     "text": [
      "Logistic Regression:  0.5376344086021505\n"
     ]
    },
    {
     "name": "stderr",
     "output_type": "stream",
     "text": [
      "/Users/andrewilliams/Documents/Dev/DS-2.9-Technical-Seminar/my_env/lib/python3.8/site-packages/sklearn/linear_model/_logistic.py:763: ConvergenceWarning: lbfgs failed to converge (status=1):\n",
      "STOP: TOTAL NO. of ITERATIONS REACHED LIMIT.\n",
      "\n",
      "Increase the number of iterations (max_iter) or scale the data as shown in:\n",
      "    https://scikit-learn.org/stable/modules/preprocessing.html\n",
      "Please also refer to the documentation for alternative solver options:\n",
      "    https://scikit-learn.org/stable/modules/linear_model.html#logistic-regression\n",
      "  n_iter_i = _check_optimize_result(\n"
     ]
    }
   ],
   "source": [
    "lr = LogisticRegression(\n",
    "    random_state=666\n",
    ")\n",
    "lr.fit(X, y)\n",
    "preds = lr.predict(X_val)\n",
    "\n",
    "print('Logistic Regression: ', accuracy_score(y_val, preds))\n",
    "# print('Logistic Regression f1-score: ', f1_score(y_val, preds))"
   ]
  },
  {
   "cell_type": "code",
   "execution_count": 417,
   "metadata": {
    "scrolled": true
   },
   "outputs": [
    {
     "name": "stderr",
     "output_type": "stream",
     "text": [
      "\u001b[32m[I 2021-04-22 13:17:01,721]\u001b[0m A new study created in memory with name: no-name-5d163780-b145-496d-9653-d1d63d65fee2\u001b[0m\n",
      "\u001b[32m[I 2021-04-22 13:17:01,727]\u001b[0m Trial 0 finished with value: 0.5234029095509172 and parameters: {'max_depth': 5, 'min_samples_split': 14, 'min_weight_fraction_leaf': 0.3382571679688127, 'min_samples_leaf': 8}. Best is trial 0 with value: 0.5234029095509172.\u001b[0m\n",
      "\u001b[32m[I 2021-04-22 13:17:01,735]\u001b[0m Trial 1 finished with value: 0.5234029095509172 and parameters: {'max_depth': 6, 'min_samples_split': 2, 'min_weight_fraction_leaf': 0.20679384939326173, 'min_samples_leaf': 1}. Best is trial 0 with value: 0.5234029095509172.\u001b[0m\n",
      "\u001b[32m[I 2021-04-22 13:17:01,743]\u001b[0m Trial 2 finished with value: 0.5455407969639469 and parameters: {'max_depth': 2, 'min_samples_split': 9, 'min_weight_fraction_leaf': 0.10012376966723874, 'min_samples_leaf': 8}. Best is trial 2 with value: 0.5455407969639469.\u001b[0m\n",
      "\u001b[32m[I 2021-04-22 13:17:01,752]\u001b[0m Trial 3 finished with value: 0.5234029095509172 and parameters: {'max_depth': 2, 'min_samples_split': 12, 'min_weight_fraction_leaf': 0.146614052934617, 'min_samples_leaf': 8}. Best is trial 2 with value: 0.5455407969639469.\u001b[0m\n",
      "\u001b[32m[I 2021-04-22 13:17:01,761]\u001b[0m Trial 4 finished with value: 0.5455407969639469 and parameters: {'max_depth': 2, 'min_samples_split': 3, 'min_weight_fraction_leaf': 0.05547683599372333, 'min_samples_leaf': 3}. Best is trial 2 with value: 0.5455407969639469.\u001b[0m\n",
      "\u001b[32m[I 2021-04-22 13:17:01,770]\u001b[0m Trial 5 finished with value: 0.5234029095509172 and parameters: {'max_depth': 2, 'min_samples_split': 12, 'min_weight_fraction_leaf': 0.17001747097731346, 'min_samples_leaf': 2}. Best is trial 2 with value: 0.5455407969639469.\u001b[0m\n",
      "\u001b[32m[I 2021-04-22 13:17:01,778]\u001b[0m Trial 6 finished with value: 0.5234029095509172 and parameters: {'max_depth': 6, 'min_samples_split': 16, 'min_weight_fraction_leaf': 0.26640127205304415, 'min_samples_leaf': 3}. Best is trial 2 with value: 0.5455407969639469.\u001b[0m\n",
      "\u001b[32m[I 2021-04-22 13:17:01,784]\u001b[0m Trial 7 finished with value: 0.5069576217583808 and parameters: {'max_depth': 4, 'min_samples_split': 6, 'min_weight_fraction_leaf': 0.4444496568881546, 'min_samples_leaf': 7}. Best is trial 2 with value: 0.5455407969639469.\u001b[0m\n",
      "\u001b[32m[I 2021-04-22 13:17:01,792]\u001b[0m Trial 8 finished with value: 0.5234029095509172 and parameters: {'max_depth': 6, 'min_samples_split': 10, 'min_weight_fraction_leaf': 0.2083560029668266, 'min_samples_leaf': 8}. Best is trial 2 with value: 0.5455407969639469.\u001b[0m\n",
      "\u001b[32m[I 2021-04-22 13:17:01,798]\u001b[0m Trial 9 finished with value: 0.5173940543959519 and parameters: {'max_depth': 3, 'min_samples_split': 3, 'min_weight_fraction_leaf': 0.3875964892260817, 'min_samples_leaf': 3}. Best is trial 2 with value: 0.5455407969639469.\u001b[0m\n",
      "\u001b[32m[I 2021-04-22 13:17:01,822]\u001b[0m Trial 10 finished with value: 0.5455407969639469 and parameters: {'max_depth': 3, 'min_samples_split': 6, 'min_weight_fraction_leaf': 0.00040236773156065997, 'min_samples_leaf': 10}. Best is trial 2 with value: 0.5455407969639469.\u001b[0m\n",
      "\u001b[32m[I 2021-04-22 13:17:01,843]\u001b[0m Trial 11 finished with value: 0.5455407969639469 and parameters: {'max_depth': 2, 'min_samples_split': 7, 'min_weight_fraction_leaf': 0.01568805253644843, 'min_samples_leaf': 5}. Best is trial 2 with value: 0.5455407969639469.\u001b[0m\n",
      "\u001b[32m[I 2021-04-22 13:17:01,865]\u001b[0m Trial 12 finished with value: 0.5455407969639469 and parameters: {'max_depth': 3, 'min_samples_split': 9, 'min_weight_fraction_leaf': 0.07674537248486019, 'min_samples_leaf': 5}. Best is trial 2 with value: 0.5455407969639469.\u001b[0m\n",
      "\u001b[32m[I 2021-04-22 13:17:01,885]\u001b[0m Trial 13 finished with value: 0.5455407969639469 and parameters: {'max_depth': 2, 'min_samples_split': 4, 'min_weight_fraction_leaf': 0.08149131277376391, 'min_samples_leaf': 10}. Best is trial 2 with value: 0.5455407969639469.\u001b[0m\n",
      "\u001b[32m[I 2021-04-22 13:17:01,910]\u001b[0m Trial 14 finished with value: 0.5414294750158127 and parameters: {'max_depth': 4, 'min_samples_split': 8, 'min_weight_fraction_leaf': 0.08806873318072, 'min_samples_leaf': 6}. Best is trial 2 with value: 0.5455407969639469.\u001b[0m\n"
     ]
    },
    {
     "name": "stdout",
     "output_type": "stream",
     "text": [
      "Decision Tree accuracy:  0.7017710309930424\n"
     ]
    },
    {
     "name": "stderr",
     "output_type": "stream",
     "text": [
      "\u001b[32m[I 2021-04-22 13:17:01,934]\u001b[0m Trial 15 finished with value: 0.5455407969639469 and parameters: {'max_depth': 3, 'min_samples_split': 11, 'min_weight_fraction_leaf': 0.0031660272970367304, 'min_samples_leaf': 4}. Best is trial 2 with value: 0.5455407969639469.\u001b[0m\n",
      "\u001b[32m[I 2021-04-22 13:17:01,954]\u001b[0m Trial 16 finished with value: 0.5455407969639469 and parameters: {'max_depth': 2, 'min_samples_split': 4, 'min_weight_fraction_leaf': 0.11411675031894318, 'min_samples_leaf': 1}. Best is trial 2 with value: 0.5455407969639469.\u001b[0m\n",
      "\u001b[32m[I 2021-04-22 13:17:01,976]\u001b[0m Trial 17 finished with value: 0.5278304870335231 and parameters: {'max_depth': 3, 'min_samples_split': 5, 'min_weight_fraction_leaf': 0.14236407805723023, 'min_samples_leaf': 9}. Best is trial 2 with value: 0.5455407969639469.\u001b[0m\n",
      "\u001b[32m[I 2021-04-22 13:17:02,000]\u001b[0m Trial 18 finished with value: 0.5455407969639469 and parameters: {'max_depth': 3, 'min_samples_split': 11, 'min_weight_fraction_leaf': 0.004800673280669373, 'min_samples_leaf': 6}. Best is trial 2 with value: 0.5455407969639469.\u001b[0m\n",
      "\u001b[32m[I 2021-04-22 13:17:02,018]\u001b[0m Trial 19 finished with value: 0.5234029095509172 and parameters: {'max_depth': 4, 'min_samples_split': 14, 'min_weight_fraction_leaf': 0.2720697793556844, 'min_samples_leaf': 6}. Best is trial 2 with value: 0.5455407969639469.\u001b[0m\n",
      "\u001b[32m[I 2021-04-22 13:17:02,044]\u001b[0m Trial 20 finished with value: 0.5493358633776091 and parameters: {'max_depth': 5, 'min_samples_split': 8, 'min_weight_fraction_leaf': 0.12060088525754976, 'min_samples_leaf': 1}. Best is trial 20 with value: 0.5493358633776091.\u001b[0m\n",
      "\u001b[32m[I 2021-04-22 13:17:02,072]\u001b[0m Trial 21 finished with value: 0.5502846299810247 and parameters: {'max_depth': 5, 'min_samples_split': 13, 'min_weight_fraction_leaf': 0.034209705073744864, 'min_samples_leaf': 1}. Best is trial 21 with value: 0.5502846299810247.\u001b[0m\n",
      "\u001b[32m[I 2021-04-22 13:17:02,100]\u001b[0m Trial 22 finished with value: 0.5502846299810247 and parameters: {'max_depth': 5, 'min_samples_split': 14, 'min_weight_fraction_leaf': 0.03357019095932659, 'min_samples_leaf': 1}. Best is trial 21 with value: 0.5502846299810247.\u001b[0m\n",
      "\u001b[32m[I 2021-04-22 13:17:02,129]\u001b[0m Trial 23 finished with value: 0.5506008855154966 and parameters: {'max_depth': 5, 'min_samples_split': 16, 'min_weight_fraction_leaf': 0.04069330834546158, 'min_samples_leaf': 1}. Best is trial 23 with value: 0.5506008855154966.\u001b[0m\n",
      "\u001b[32m[I 2021-04-22 13:17:02,158]\u001b[0m Trial 24 finished with value: 0.5499683744465528 and parameters: {'max_depth': 5, 'min_samples_split': 16, 'min_weight_fraction_leaf': 0.04359457877647935, 'min_samples_leaf': 2}. Best is trial 23 with value: 0.5506008855154966.\u001b[0m\n",
      "\u001b[32m[I 2021-04-22 13:17:02,186]\u001b[0m Trial 25 finished with value: 0.5506008855154966 and parameters: {'max_depth': 5, 'min_samples_split': 14, 'min_weight_fraction_leaf': 0.04095321668479658, 'min_samples_leaf': 2}. Best is trial 23 with value: 0.5506008855154966.\u001b[0m\n",
      "\u001b[32m[I 2021-04-22 13:17:02,213]\u001b[0m Trial 26 finished with value: 0.5509171410499684 and parameters: {'max_depth': 5, 'min_samples_split': 15, 'min_weight_fraction_leaf': 0.05047952168970836, 'min_samples_leaf': 2}. Best is trial 26 with value: 0.5509171410499684.\u001b[0m\n",
      "\u001b[32m[I 2021-04-22 13:17:02,235]\u001b[0m Trial 27 finished with value: 0.5287792536369387 and parameters: {'max_depth': 5, 'min_samples_split': 16, 'min_weight_fraction_leaf': 0.18734934804813513, 'min_samples_leaf': 2}. Best is trial 26 with value: 0.5509171410499684.\u001b[0m\n",
      "\u001b[32m[I 2021-04-22 13:17:02,252]\u001b[0m Trial 28 finished with value: 0.5075901328273245 and parameters: {'max_depth': 6, 'min_samples_split': 15, 'min_weight_fraction_leaf': 0.4982097821445296, 'min_samples_leaf': 4}. Best is trial 26 with value: 0.5509171410499684.\u001b[0m\n",
      "\u001b[32m[I 2021-04-22 13:17:02,274]\u001b[0m Trial 29 finished with value: 0.5234029095509172 and parameters: {'max_depth': 5, 'min_samples_split': 15, 'min_weight_fraction_leaf': 0.2996967847485038, 'min_samples_leaf': 2}. Best is trial 26 with value: 0.5509171410499684.\u001b[0m\n"
     ]
    },
    {
     "name": "stdout",
     "output_type": "stream",
     "text": [
      "Optimized on accuracy\n",
      "Optimized Decision Tree accuracy:  0.5509171410499684\n"
     ]
    }
   ],
   "source": [
    "dt = DecisionTreeClassifier(\n",
    "    random_state=666\n",
    ")\n",
    "dt.fit(X, y)\n",
    "preds = dt.predict(X_val)\n",
    "\n",
    "print('Decision Tree accuracy: ', accuracy_score(y_val, preds))\n",
    "\n",
    "def create_model(trial):\n",
    "    max_depth = trial.suggest_int(\"max_depth\", 2, 6)\n",
    "    min_samples_split = trial.suggest_int('min_samples_split', 2, 16)\n",
    "    min_weight_fraction_leaf = trial.suggest_uniform('min_weight_fraction_leaf', 0.0, 0.5)\n",
    "    min_samples_leaf = trial.suggest_int('min_samples_leaf', 1, 10)\n",
    "    model = DecisionTreeClassifier(\n",
    "        min_samples_split=min_samples_split, \n",
    "        min_weight_fraction_leaf=min_weight_fraction_leaf, \n",
    "        max_depth=max_depth, \n",
    "        min_samples_leaf=min_samples_leaf, \n",
    "        random_state=666\n",
    "    )\n",
    "    return model\n",
    "\n",
    "\n",
    "optimizer = Optimizer('acc')\n",
    "dt_acc_params = optimizer.optimize()\n",
    "dt_acc_params['random_state'] = 666\n",
    "dt_acc = DecisionTreeClassifier(\n",
    "    **dt_acc_params\n",
    ")\n",
    "dt_acc.fit(X, y)\n",
    "preds = dt_acc.predict(X_val)\n",
    "\n",
    "print('Optimized on accuracy')\n",
    "print('Optimized Decision Tree accuracy: ', accuracy_score(y_val, preds))"
   ]
  },
  {
   "cell_type": "code",
   "execution_count": 418,
   "metadata": {
    "scrolled": true
   },
   "outputs": [
    {
     "name": "stderr",
     "output_type": "stream",
     "text": [
      "\u001b[32m[I 2021-04-22 13:17:09,247]\u001b[0m A new study created in memory with name: no-name-c795a788-6fd3-47a4-a912-2fb262dd46ff\u001b[0m\n"
     ]
    },
    {
     "name": "stdout",
     "output_type": "stream",
     "text": [
      "Bagging Classifier accuracy:  0.732764073371284\n",
      "Optimized on F1-score\n",
      "Optimized Bagging Classifier accuracy:  0.732764073371284\n"
     ]
    },
    {
     "name": "stderr",
     "output_type": "stream",
     "text": [
      "\u001b[32m[I 2021-04-22 13:17:09,597]\u001b[0m Trial 0 finished with value: 0.6116382036685643 and parameters: {'n_estimators': 141, 'max_samples': 169}. Best is trial 0 with value: 0.6116382036685643.\u001b[0m\n",
      "\u001b[32m[I 2021-04-22 13:17:09,938]\u001b[0m Trial 1 finished with value: 0.6087919038583175 and parameters: {'n_estimators': 136, 'max_samples': 146}. Best is trial 0 with value: 0.6116382036685643.\u001b[0m\n",
      "\u001b[32m[I 2021-04-22 13:17:10,247]\u001b[0m Trial 2 finished with value: 0.5069576217583808 and parameters: {'n_estimators': 191, 'max_samples': 2}. Best is trial 0 with value: 0.6116382036685643.\u001b[0m\n",
      "\u001b[32m[I 2021-04-22 13:17:10,390]\u001b[0m Trial 3 finished with value: 0.5328905755850727 and parameters: {'n_estimators': 84, 'max_samples': 9}. Best is trial 0 with value: 0.6116382036685643.\u001b[0m\n",
      "\u001b[32m[I 2021-04-22 13:17:10,437]\u001b[0m Trial 4 finished with value: 0.5426944971537002 and parameters: {'n_estimators': 21, 'max_samples': 102}. Best is trial 0 with value: 0.6116382036685643.\u001b[0m\n",
      "\u001b[32m[I 2021-04-22 13:17:10,543]\u001b[0m Trial 5 finished with value: 0.5907653383934219 and parameters: {'n_estimators': 41, 'max_samples': 149}. Best is trial 0 with value: 0.6116382036685643.\u001b[0m\n",
      "\u001b[32m[I 2021-04-22 13:17:10,648]\u001b[0m Trial 6 finished with value: 0.5828589500316256 and parameters: {'n_estimators': 40, 'max_samples': 140}. Best is trial 0 with value: 0.6116382036685643.\u001b[0m\n",
      "\u001b[32m[I 2021-04-22 13:17:10,809]\u001b[0m Trial 7 finished with value: 0.5901328273244781 and parameters: {'n_estimators': 60, 'max_samples': 155}. Best is trial 0 with value: 0.6116382036685643.\u001b[0m\n",
      "\u001b[32m[I 2021-04-22 13:17:10,817]\u001b[0m Trial 8 finished with value: 0.46900695762175837 and parameters: {'n_estimators': 3, 'max_samples': 22}. Best is trial 0 with value: 0.6116382036685643.\u001b[0m\n",
      "\u001b[32m[I 2021-04-22 13:17:10,867]\u001b[0m Trial 9 finished with value: 0.5234029095509172 and parameters: {'n_estimators': 24, 'max_samples': 49}. Best is trial 0 with value: 0.6116382036685643.\u001b[0m\n",
      "\u001b[32m[I 2021-04-22 13:17:11,295]\u001b[0m Trial 10 finished with value: 0.622707147375079 and parameters: {'n_estimators': 144, 'max_samples': 200}. Best is trial 10 with value: 0.622707147375079.\u001b[0m\n",
      "\u001b[32m[I 2021-04-22 13:17:11,675]\u001b[0m Trial 11 finished with value: 0.627134724857685 and parameters: {'n_estimators': 147, 'max_samples': 198}. Best is trial 11 with value: 0.627134724857685.\u001b[0m\n",
      "\u001b[32m[I 2021-04-22 13:17:12,169]\u001b[0m Trial 12 finished with value: 0.6290322580645161 and parameters: {'n_estimators': 176, 'max_samples': 198}. Best is trial 12 with value: 0.6290322580645161.\u001b[0m\n",
      "\u001b[32m[I 2021-04-22 13:17:12,733]\u001b[0m Trial 13 finished with value: 0.6211258697027198 and parameters: {'n_estimators': 200, 'max_samples': 193}. Best is trial 12 with value: 0.6290322580645161.\u001b[0m\n",
      "\u001b[32m[I 2021-04-22 13:17:13,190]\u001b[0m Trial 14 finished with value: 0.6287160025300442 and parameters: {'n_estimators': 172, 'max_samples': 200}. Best is trial 12 with value: 0.6290322580645161.\u001b[0m\n",
      "\u001b[32m[I 2021-04-22 13:17:13,537]\u001b[0m Trial 15 finished with value: 0.5913978494623656 and parameters: {'n_estimators': 172, 'max_samples': 106}. Best is trial 12 with value: 0.6290322580645161.\u001b[0m\n",
      "\u001b[32m[I 2021-04-22 13:17:13,969]\u001b[0m Trial 16 finished with value: 0.6296647691334598 and parameters: {'n_estimators': 174, 'max_samples': 179}. Best is trial 16 with value: 0.6296647691334598.\u001b[0m\n",
      "\u001b[32m[I 2021-04-22 13:17:14,254]\u001b[0m Trial 17 finished with value: 0.6110056925996205 and parameters: {'n_estimators': 111, 'max_samples': 175}. Best is trial 16 with value: 0.6296647691334598.\u001b[0m\n",
      "\u001b[32m[I 2021-04-22 13:17:14,594]\u001b[0m Trial 18 finished with value: 0.5774826059456041 and parameters: {'n_estimators': 175, 'max_samples': 70}. Best is trial 16 with value: 0.6296647691334598.\u001b[0m\n",
      "\u001b[32m[I 2021-04-22 13:17:14,862]\u001b[0m Trial 19 finished with value: 0.5986717267552182 and parameters: {'n_estimators': 111, 'max_samples': 123}. Best is trial 16 with value: 0.6296647691334598.\u001b[0m\n",
      "\u001b[32m[I 2021-04-22 13:17:15,372]\u001b[0m Trial 20 finished with value: 0.624920936116382 and parameters: {'n_estimators': 200, 'max_samples': 181}. Best is trial 16 with value: 0.6296647691334598.\u001b[0m\n",
      "\u001b[32m[I 2021-04-22 13:17:15,811]\u001b[0m Trial 21 finished with value: 0.6287160025300442 and parameters: {'n_estimators': 170, 'max_samples': 200}. Best is trial 16 with value: 0.6296647691334598.\u001b[0m\n",
      "\u001b[32m[I 2021-04-22 13:17:16,261]\u001b[0m Trial 22 finished with value: 0.6201771030993042 and parameters: {'n_estimators': 161, 'max_samples': 180}. Best is trial 16 with value: 0.6296647691334598.\u001b[0m\n",
      "\u001b[32m[I 2021-04-22 13:17:16,756]\u001b[0m Trial 23 finished with value: 0.6214421252371917 and parameters: {'n_estimators': 186, 'max_samples': 164}. Best is trial 16 with value: 0.6296647691334598.\u001b[0m\n",
      "\u001b[32m[I 2021-04-22 13:17:17,057]\u001b[0m Trial 24 finished with value: 0.6065781151170145 and parameters: {'n_estimators': 125, 'max_samples': 129}. Best is trial 16 with value: 0.6296647691334598.\u001b[0m\n",
      "\u001b[32m[I 2021-04-22 13:17:17,551]\u001b[0m Trial 25 finished with value: 0.6160657811511702 and parameters: {'n_estimators': 159, 'max_samples': 188}. Best is trial 16 with value: 0.6296647691334598.\u001b[0m\n",
      "\u001b[32m[I 2021-04-22 13:17:17,950]\u001b[0m Trial 26 finished with value: 0.5809614168247944 and parameters: {'n_estimators': 186, 'max_samples': 80}. Best is trial 16 with value: 0.6296647691334598.\u001b[0m\n",
      "\u001b[32m[I 2021-04-22 13:17:18,202]\u001b[0m Trial 27 finished with value: 0.6087919038583175 and parameters: {'n_estimators': 92, 'max_samples': 162}. Best is trial 16 with value: 0.6296647691334598.\u001b[0m\n",
      "\u001b[32m[I 2021-04-22 13:17:18,675]\u001b[0m Trial 28 finished with value: 0.6239721695129665 and parameters: {'n_estimators': 159, 'max_samples': 200}. Best is trial 16 with value: 0.6296647691334598.\u001b[0m\n",
      "\u001b[32m[I 2021-04-22 13:17:19,001]\u001b[0m Trial 29 finished with value: 0.6157495256166983 and parameters: {'n_estimators': 124, 'max_samples': 171}. Best is trial 16 with value: 0.6296647691334598.\u001b[0m\n"
     ]
    },
    {
     "name": "stdout",
     "output_type": "stream",
     "text": [
      "Optimized on accuracy\n",
      "Optimized Bagging Classifier accuracy:  0.6296647691334598\n"
     ]
    }
   ],
   "source": [
    "bc = BaggingClassifier(\n",
    "    random_state=666\n",
    ")\n",
    "bc.fit(X, y)\n",
    "preds = bc.predict(X_val)\n",
    "\n",
    "print('Bagging Classifier accuracy: ', accuracy_score(y_val, preds))\n",
    "\n",
    "def create_model(trial):\n",
    "    n_estimators = trial.suggest_int('n_estimators', 2, 200)\n",
    "    max_samples = trial.suggest_int('max_samples', 0, 200)\n",
    "    model = BaggingClassifier(\n",
    "        n_estimators=n_estimators, \n",
    "        max_samples=max_samples, \n",
    "        random_state=666\n",
    "    )\n",
    "    return model\n",
    "\n",
    "\n",
    "print('Optimized on F1-score')\n",
    "print('Optimized Bagging Classifier accuracy: ', accuracy_score(y_val, preds))\n",
    "\n",
    "optimizer = Optimizer('acc')\n",
    "bc_acc_params = optimizer.optimize()\n",
    "bc_acc_params['random_state'] = 666\n",
    "bc_acc = BaggingClassifier(\n",
    "    **bc_acc_params\n",
    ")\n",
    "bc_acc.fit(X, y)\n",
    "preds = bc_acc.predict(X_val)\n",
    "\n",
    "print('Optimized on accuracy')\n",
    "print('Optimized Bagging Classifier accuracy: ', accuracy_score(y_val, preds))"
   ]
  },
  {
   "cell_type": "code",
   "execution_count": 419,
   "metadata": {},
   "outputs": [
    {
     "ename": "NameError",
     "evalue": "name 'x_train' is not defined",
     "output_type": "error",
     "traceback": [
      "\u001b[0;31m---------------------------------------------------------------------------\u001b[0m",
      "\u001b[0;31mNameError\u001b[0m                                 Traceback (most recent call last)",
      "\u001b[0;32m<ipython-input-419-80784060c951>\u001b[0m in \u001b[0;36m<module>\u001b[0;34m\u001b[0m\n\u001b[0;32m----> 1\u001b[0;31m \u001b[0mx_train\u001b[0m\u001b[0;34m\u001b[0m\u001b[0;34m\u001b[0m\u001b[0m\n\u001b[0m",
      "\u001b[0;31mNameError\u001b[0m: name 'x_train' is not defined"
     ]
    }
   ],
   "source": [
    "x_train"
   ]
  },
  {
   "cell_type": "code",
   "execution_count": 52,
   "metadata": {
    "scrolled": true
   },
   "outputs": [
    {
     "name": "stderr",
     "output_type": "stream",
     "text": [
      "\u001b[32m[I 2021-01-25 21:47:08,056]\u001b[0m A new study created in memory with name: no-name-e1efe0b4-0041-4d4c-9bc1-5a517083c958\u001b[0m\n",
      "\u001b[32m[I 2021-01-25 21:47:08,059]\u001b[0m Trial 0 finished with value: 0.3888888888888889 and parameters: {'n_neighbors': 14}. Best is trial 0 with value: 0.3888888888888889.\u001b[0m\n",
      "\u001b[32m[I 2021-01-25 21:47:08,062]\u001b[0m Trial 1 finished with value: 0.5555555555555556 and parameters: {'n_neighbors': 4}. Best is trial 1 with value: 0.5555555555555556.\u001b[0m\n",
      "\u001b[32m[I 2021-01-25 21:47:08,065]\u001b[0m Trial 2 finished with value: 0.3888888888888889 and parameters: {'n_neighbors': 15}. Best is trial 1 with value: 0.5555555555555556.\u001b[0m\n",
      "\u001b[32m[I 2021-01-25 21:47:08,068]\u001b[0m Trial 3 finished with value: 0.6111111111111112 and parameters: {'n_neighbors': 8}. Best is trial 3 with value: 0.6111111111111112.\u001b[0m\n",
      "\u001b[32m[I 2021-01-25 21:47:08,071]\u001b[0m Trial 4 finished with value: 0.4444444444444444 and parameters: {'n_neighbors': 11}. Best is trial 3 with value: 0.6111111111111112.\u001b[0m\n",
      "\u001b[32m[I 2021-01-25 21:47:08,074]\u001b[0m Trial 5 finished with value: 0.5 and parameters: {'n_neighbors': 6}. Best is trial 3 with value: 0.6111111111111112.\u001b[0m\n",
      "\u001b[32m[I 2021-01-25 21:47:08,077]\u001b[0m Trial 6 finished with value: 0.3333333333333333 and parameters: {'n_neighbors': 21}. Best is trial 3 with value: 0.6111111111111112.\u001b[0m\n",
      "\u001b[32m[I 2021-01-25 21:47:08,080]\u001b[0m Trial 7 finished with value: 0.3888888888888889 and parameters: {'n_neighbors': 16}. Best is trial 3 with value: 0.6111111111111112.\u001b[0m\n",
      "\u001b[32m[I 2021-01-25 21:47:08,082]\u001b[0m Trial 8 finished with value: 0.3333333333333333 and parameters: {'n_neighbors': 3}. Best is trial 3 with value: 0.6111111111111112.\u001b[0m\n",
      "\u001b[32m[I 2021-01-25 21:47:08,085]\u001b[0m Trial 9 finished with value: 0.3888888888888889 and parameters: {'n_neighbors': 18}. Best is trial 3 with value: 0.6111111111111112.\u001b[0m\n",
      "\u001b[32m[I 2021-01-25 21:47:08,091]\u001b[0m Trial 10 finished with value: 0.3888888888888889 and parameters: {'n_neighbors': 9}. Best is trial 3 with value: 0.6111111111111112.\u001b[0m\n",
      "\u001b[32m[I 2021-01-25 21:47:08,097]\u001b[0m Trial 11 finished with value: 0.5555555555555556 and parameters: {'n_neighbors': 2}. Best is trial 3 with value: 0.6111111111111112.\u001b[0m\n",
      "\u001b[32m[I 2021-01-25 21:47:08,103]\u001b[0m Trial 12 finished with value: 0.5 and parameters: {'n_neighbors': 6}. Best is trial 3 with value: 0.6111111111111112.\u001b[0m\n",
      "\u001b[32m[I 2021-01-25 21:47:08,109]\u001b[0m Trial 13 finished with value: 0.5 and parameters: {'n_neighbors': 6}. Best is trial 3 with value: 0.6111111111111112.\u001b[0m\n",
      "\u001b[32m[I 2021-01-25 21:47:08,114]\u001b[0m Trial 14 finished with value: 0.4444444444444444 and parameters: {'n_neighbors': 10}. Best is trial 3 with value: 0.6111111111111112.\u001b[0m\n",
      "\u001b[32m[I 2021-01-25 21:47:08,120]\u001b[0m Trial 15 finished with value: 0.5555555555555556 and parameters: {'n_neighbors': 2}. Best is trial 3 with value: 0.6111111111111112.\u001b[0m\n",
      "\u001b[32m[I 2021-01-25 21:47:08,127]\u001b[0m Trial 16 finished with value: 0.3333333333333333 and parameters: {'n_neighbors': 25}. Best is trial 3 with value: 0.6111111111111112.\u001b[0m\n",
      "\u001b[32m[I 2021-01-25 21:47:08,133]\u001b[0m Trial 17 finished with value: 0.6111111111111112 and parameters: {'n_neighbors': 8}. Best is trial 3 with value: 0.6111111111111112.\u001b[0m\n",
      "\u001b[32m[I 2021-01-25 21:47:08,139]\u001b[0m Trial 18 finished with value: 0.4444444444444444 and parameters: {'n_neighbors': 12}. Best is trial 3 with value: 0.6111111111111112.\u001b[0m\n",
      "\u001b[32m[I 2021-01-25 21:47:08,145]\u001b[0m Trial 19 finished with value: 0.6111111111111112 and parameters: {'n_neighbors': 8}. Best is trial 3 with value: 0.6111111111111112.\u001b[0m\n",
      "\u001b[32m[I 2021-01-25 21:47:08,151]\u001b[0m Trial 20 finished with value: 0.6111111111111112 and parameters: {'n_neighbors': 8}. Best is trial 3 with value: 0.6111111111111112.\u001b[0m\n",
      "\u001b[32m[I 2021-01-25 21:47:08,157]\u001b[0m Trial 21 finished with value: 0.6111111111111112 and parameters: {'n_neighbors': 8}. Best is trial 3 with value: 0.6111111111111112.\u001b[0m\n",
      "\u001b[32m[I 2021-01-25 21:47:08,163]\u001b[0m Trial 22 finished with value: 0.5 and parameters: {'n_neighbors': 5}. Best is trial 3 with value: 0.6111111111111112.\u001b[0m\n",
      "\u001b[32m[I 2021-01-25 21:47:08,169]\u001b[0m Trial 23 finished with value: 0.4444444444444444 and parameters: {'n_neighbors': 12}. Best is trial 3 with value: 0.6111111111111112.\u001b[0m\n",
      "\u001b[32m[I 2021-01-25 21:47:08,175]\u001b[0m Trial 24 finished with value: 0.3888888888888889 and parameters: {'n_neighbors': 9}. Best is trial 3 with value: 0.6111111111111112.\u001b[0m\n",
      "\u001b[32m[I 2021-01-25 21:47:08,181]\u001b[0m Trial 25 finished with value: 0.6111111111111112 and parameters: {'n_neighbors': 8}. Best is trial 3 with value: 0.6111111111111112.\u001b[0m\n",
      "\u001b[32m[I 2021-01-25 21:47:08,188]\u001b[0m Trial 26 finished with value: 0.4444444444444444 and parameters: {'n_neighbors': 12}. Best is trial 3 with value: 0.6111111111111112.\u001b[0m\n",
      "\u001b[32m[I 2021-01-25 21:47:08,194]\u001b[0m Trial 27 finished with value: 0.3888888888888889 and parameters: {'n_neighbors': 7}. Best is trial 3 with value: 0.6111111111111112.\u001b[0m\n",
      "\u001b[32m[I 2021-01-25 21:47:08,200]\u001b[0m Trial 28 finished with value: 0.4444444444444444 and parameters: {'n_neighbors': 10}. Best is trial 3 with value: 0.6111111111111112.\u001b[0m\n",
      "\u001b[32m[I 2021-01-25 21:47:08,207]\u001b[0m Trial 29 finished with value: 0.3888888888888889 and parameters: {'n_neighbors': 13}. Best is trial 3 with value: 0.6111111111111112.\u001b[0m\n"
     ]
    },
    {
     "name": "stdout",
     "output_type": "stream",
     "text": [
      "KNN accuracy:  0.5\n",
      "Optimized KNN accuracy:  0.5\n",
      "Optimized on accuracy\n",
      "Optimized KNN accuracy:  0.6111111111111112\n"
     ]
    }
   ],
   "source": [
    "knn = KNeighborsClassifier()\n",
    "knn.fit(X, y)\n",
    "preds = knn.predict(X_val)\n",
    "\n",
    "print('KNN accuracy: ', accuracy_score(y_val, preds))\n",
    "\n",
    "\n",
    "sampler = TPESampler(seed=0)\n",
    "def create_model(trial):\n",
    "    n_neighbors = trial.suggest_int(\"n_neighbors\", 2, 25)\n",
    "    model = KNeighborsClassifier(n_neighbors=n_neighbors)\n",
    "    return model\n",
    "\n",
    "\n",
    "print('Optimized KNN accuracy: ', accuracy_score(y_val, preds))\n",
    "\n",
    "\n",
    "optimizer = Optimizer('acc')\n",
    "knn_acc_params = optimizer.optimize()\n",
    "knn_acc = KNeighborsClassifier(\n",
    "    **knn_acc_params\n",
    ")\n",
    "knn_acc.fit(X, y)\n",
    "preds = knn_acc.predict(X_val)\n",
    "\n",
    "print('Optimized on accuracy')\n",
    "print('Optimized KNN accuracy: ', accuracy_score(y_val, preds))"
   ]
  },
  {
   "cell_type": "code",
   "execution_count": 224,
   "metadata": {
    "scrolled": true
   },
   "outputs": [
    {
     "name": "stderr",
     "output_type": "stream",
     "text": [
      "\u001b[32m[I 2021-04-21 20:37:21,918]\u001b[0m A new study created in memory with name: no-name-1b7ad30d-a1ac-4c5e-b69b-bc1dd7dcace2\u001b[0m\n",
      "\u001b[32m[I 2021-04-21 20:37:22,091]\u001b[0m Trial 0 finished with value: 0.625 and parameters: {'n_estimators': 106, 'learning_rate': 0.8442645495290093}. Best is trial 0 with value: 0.625.\u001b[0m\n"
     ]
    },
    {
     "name": "stdout",
     "output_type": "stream",
     "text": [
      "AdaBoost accuracy:  0.6016949152542372\n",
      "Optimized AdaBoost accuracy:  0.6016949152542372\n"
     ]
    },
    {
     "name": "stderr",
     "output_type": "stream",
     "text": [
      "\u001b[32m[I 2021-04-21 20:37:22,259]\u001b[0m Trial 1 finished with value: 0.6292372881355932 and parameters: {'n_estimators': 102, 'learning_rate': 0.7279941282194508}. Best is trial 1 with value: 0.6292372881355932.\u001b[0m\n",
      "\u001b[32m[I 2021-04-21 20:37:22,477]\u001b[0m Trial 2 finished with value: 0.6398305084745762 and parameters: {'n_estimators': 143, 'learning_rate': 0.01319684543625025}. Best is trial 2 with value: 0.6398305084745762.\u001b[0m\n",
      "\u001b[32m[I 2021-04-21 20:37:22,578]\u001b[0m Trial 3 finished with value: 0.635593220338983 and parameters: {'n_estimators': 63, 'learning_rate': 0.049288387403100035}. Best is trial 2 with value: 0.6398305084745762.\u001b[0m\n",
      "\u001b[32m[I 2021-04-21 20:37:22,609]\u001b[0m Trial 4 finished with value: 0.625 and parameters: {'n_estimators': 16, 'learning_rate': 0.5083122726141229}. Best is trial 2 with value: 0.6398305084745762.\u001b[0m\n",
      "\u001b[32m[I 2021-04-21 20:37:22,666]\u001b[0m Trial 5 finished with value: 0.6101694915254238 and parameters: {'n_estimators': 31, 'learning_rate': 0.74428209172969}. Best is trial 2 with value: 0.6398305084745762.\u001b[0m\n",
      "\u001b[32m[I 2021-04-21 20:37:22,721]\u001b[0m Trial 6 finished with value: 0.6207627118644068 and parameters: {'n_estimators': 30, 'learning_rate': 0.7009943297898983}. Best is trial 2 with value: 0.6398305084745762.\u001b[0m\n",
      "\u001b[32m[I 2021-04-21 20:37:22,801]\u001b[0m Trial 7 finished with value: 0.6292372881355932 and parameters: {'n_estimators': 45, 'learning_rate': 0.7745922145414543}. Best is trial 2 with value: 0.6398305084745762.\u001b[0m\n",
      "\u001b[32m[I 2021-04-21 20:37:22,807]\u001b[0m Trial 8 finished with value: 0.6334745762711864 and parameters: {'n_estimators': 2, 'learning_rate': 0.11330122480489212}. Best is trial 2 with value: 0.6398305084745762.\u001b[0m\n",
      "\u001b[32m[I 2021-04-21 20:37:22,841]\u001b[0m Trial 9 finished with value: 0.6080508474576272 and parameters: {'n_estimators': 18, 'learning_rate': 0.24804439458068275}. Best is trial 2 with value: 0.6398305084745762.\u001b[0m\n",
      "\u001b[32m[I 2021-04-21 20:37:23,106]\u001b[0m Trial 10 finished with value: 0.614406779661017 and parameters: {'n_estimators': 147, 'learning_rate': 0.33547822909210473}. Best is trial 2 with value: 0.6398305084745762.\u001b[0m\n",
      "\u001b[32m[I 2021-04-21 20:37:23,231]\u001b[0m Trial 11 finished with value: 0.6398305084745762 and parameters: {'n_estimators': 67, 'learning_rate': 0.024331806530148194}. Best is trial 2 with value: 0.6398305084745762.\u001b[0m\n",
      "\u001b[32m[I 2021-04-21 20:37:23,474]\u001b[0m Trial 12 finished with value: 0.635593220338983 and parameters: {'n_estimators': 147, 'learning_rate': 0.03190792689236854}. Best is trial 2 with value: 0.6398305084745762.\u001b[0m\n",
      "\u001b[32m[I 2021-04-21 20:37:23,649]\u001b[0m Trial 13 finished with value: 0.6228813559322034 and parameters: {'n_estimators': 98, 'learning_rate': 0.19909136718321693}. Best is trial 2 with value: 0.6398305084745762.\u001b[0m\n",
      "\u001b[32m[I 2021-04-21 20:37:23,776]\u001b[0m Trial 14 finished with value: 0.635593220338983 and parameters: {'n_estimators': 70, 'learning_rate': 0.4433662333842333}. Best is trial 2 with value: 0.6398305084745762.\u001b[0m\n",
      "\u001b[32m[I 2021-04-21 20:37:23,990]\u001b[0m Trial 15 finished with value: 0.6419491525423728 and parameters: {'n_estimators': 117, 'learning_rate': 0.012194177354099445}. Best is trial 15 with value: 0.6419491525423728.\u001b[0m\n",
      "\u001b[32m[I 2021-04-21 20:37:24,199]\u001b[0m Trial 16 finished with value: 0.5783898305084746 and parameters: {'n_estimators': 126, 'learning_rate': 0.9984673274165472}. Best is trial 15 with value: 0.6419491525423728.\u001b[0m\n",
      "\u001b[32m[I 2021-04-21 20:37:24,418]\u001b[0m Trial 17 finished with value: 0.6186440677966102 and parameters: {'n_estimators': 124, 'learning_rate': 0.16876498465448772}. Best is trial 15 with value: 0.6419491525423728.\u001b[0m\n",
      "\u001b[32m[I 2021-04-21 20:37:24,634]\u001b[0m Trial 18 finished with value: 0.6207627118644068 and parameters: {'n_estimators': 131, 'learning_rate': 0.3613096285263557}. Best is trial 15 with value: 0.6419491525423728.\u001b[0m\n",
      "\u001b[32m[I 2021-04-21 20:37:24,791]\u001b[0m Trial 19 finished with value: 0.6228813559322034 and parameters: {'n_estimators': 88, 'learning_rate': 0.5877280162935219}. Best is trial 15 with value: 0.6419491525423728.\u001b[0m\n",
      "\u001b[32m[I 2021-04-21 20:37:25,056]\u001b[0m Trial 20 finished with value: 0.6313559322033898 and parameters: {'n_estimators': 150, 'learning_rate': 0.2792440822445663}. Best is trial 15 with value: 0.6419491525423728.\u001b[0m\n",
      "\u001b[32m[I 2021-04-21 20:37:25,152]\u001b[0m Trial 21 finished with value: 0.6419491525423728 and parameters: {'n_estimators': 54, 'learning_rate': 0.007674951921543155}. Best is trial 15 with value: 0.6419491525423728.\u001b[0m\n",
      "\u001b[32m[I 2021-04-21 20:37:25,241]\u001b[0m Trial 22 finished with value: 0.6207627118644068 and parameters: {'n_estimators': 52, 'learning_rate': 0.1070455352860482}. Best is trial 15 with value: 0.6419491525423728.\u001b[0m\n",
      "\u001b[32m[I 2021-04-21 20:37:25,387]\u001b[0m Trial 23 finished with value: 0.635593220338983 and parameters: {'n_estimators': 82, 'learning_rate': 0.027872210226212807}. Best is trial 15 with value: 0.6419491525423728.\u001b[0m\n",
      "\u001b[32m[I 2021-04-21 20:37:25,489]\u001b[0m Trial 24 finished with value: 0.625 and parameters: {'n_estimators': 55, 'learning_rate': 0.12263711299742862}. Best is trial 15 with value: 0.6419491525423728.\u001b[0m\n",
      "\u001b[32m[I 2021-04-21 20:37:25,677]\u001b[0m Trial 25 finished with value: 0.635593220338983 and parameters: {'n_estimators': 115, 'learning_rate': 0.2134508066594497}. Best is trial 15 with value: 0.6419491525423728.\u001b[0m\n",
      "\u001b[32m[I 2021-04-21 20:37:25,915]\u001b[0m Trial 26 finished with value: 0.6419491525423728 and parameters: {'n_estimators': 135, 'learning_rate': 0.0033746319838871656}. Best is trial 15 with value: 0.6419491525423728.\u001b[0m\n",
      "\u001b[32m[I 2021-04-21 20:37:26,097]\u001b[0m Trial 27 finished with value: 0.635593220338983 and parameters: {'n_estimators': 114, 'learning_rate': 0.10209593402544978}. Best is trial 15 with value: 0.6419491525423728.\u001b[0m\n",
      "\u001b[32m[I 2021-04-21 20:37:26,331]\u001b[0m Trial 28 finished with value: 0.6398305084745762 and parameters: {'n_estimators': 138, 'learning_rate': 0.00875349879613398}. Best is trial 15 with value: 0.6419491525423728.\u001b[0m\n",
      "\u001b[32m[I 2021-04-21 20:37:26,479]\u001b[0m Trial 29 finished with value: 0.5932203389830508 and parameters: {'n_estimators': 90, 'learning_rate': 0.9504709767198193}. Best is trial 15 with value: 0.6419491525423728.\u001b[0m\n"
     ]
    },
    {
     "name": "stdout",
     "output_type": "stream",
     "text": [
      "Optimized on accuracy\n",
      "Optimized AdaBoost accuracy:  0.6419491525423728\n"
     ]
    }
   ],
   "source": [
    "#Optimized KNN f1-score:  0.6306306306306305\n",
    "abc = AdaBoostClassifier(\n",
    "    random_state=66\n",
    ")\n",
    "abc.fit(X, y)\n",
    "preds = abc.predict(X_val)\n",
    "\n",
    "print('AdaBoost accuracy: ', accuracy_score(y_val, preds))\n",
    "\n",
    "def create_model(trial):\n",
    "    n_estimators = trial.suggest_int(\"n_estimators\", 2, 150)\n",
    "    learning_rate = trial.suggest_uniform('learning_rate', 0.0005, 1.0)\n",
    "    model = AdaBoostClassifier(\n",
    "        n_estimators=n_estimators, \n",
    "        learning_rate=learning_rate, \n",
    "        random_state=666\n",
    "    )\n",
    "    return model\n",
    "\n",
    "\n",
    "print('Optimized AdaBoost accuracy: ', accuracy_score(y_val, preds))\n",
    "\n",
    "optimizer = Optimizer('acc')\n",
    "abc_acc_params = optimizer.optimize()\n",
    "abc_acc_params['random_state'] = 666\n",
    "abc_acc = AdaBoostClassifier(\n",
    "    **abc_acc_params\n",
    ")\n",
    "abc_acc.fit(X, y)\n",
    "preds = abc_acc.predict(X_val)\n",
    "\n",
    "print('Optimized on accuracy')\n",
    "print('Optimized AdaBoost accuracy: ', accuracy_score(y_val, preds))"
   ]
  },
  {
   "cell_type": "code",
   "execution_count": 53,
   "metadata": {},
   "outputs": [],
   "source": [
    "## Serialize Optimized Random Forest \n",
    "import pickle \n",
    "pickle.dump(rf_acc, open('optimized-Adaboost', 'wb'))\n",
    "\n"
   ]
  },
  {
   "cell_type": "code",
   "execution_count": null,
   "metadata": {},
   "outputs": [],
   "source": []
  },
  {
   "cell_type": "code",
   "execution_count": null,
   "metadata": {},
   "outputs": [],
   "source": []
  },
  {
   "cell_type": "code",
   "execution_count": null,
   "metadata": {},
   "outputs": [],
   "source": []
  },
  {
   "cell_type": "code",
   "execution_count": null,
   "metadata": {},
   "outputs": [],
   "source": []
  },
  {
   "cell_type": "code",
   "execution_count": null,
   "metadata": {},
   "outputs": [],
   "source": []
  },
  {
   "cell_type": "code",
   "execution_count": 253,
   "metadata": {
    "scrolled": true
   },
   "outputs": [
    {
     "name": "stderr",
     "output_type": "stream",
     "text": [
      "\u001b[32m[I 2021-04-21 20:55:09,604]\u001b[0m A new study created in memory with name: no-name-5ab0c284-e38c-4cdb-bc80-5495a846fb9a\u001b[0m\n",
      "\u001b[32m[I 2021-04-21 20:55:09,706]\u001b[0m Trial 0 finished with value: 0.7203389830508474 and parameters: {'n_estimators': 106, 'max_depth': 6}. Best is trial 0 with value: 0.7203389830508474.\u001b[0m\n",
      "\u001b[32m[I 2021-04-21 20:55:09,800]\u001b[0m Trial 1 finished with value: 0.6779661016949152 and parameters: {'n_estimators': 102, 'max_depth': 5}. Best is trial 0 with value: 0.7203389830508474.\u001b[0m\n"
     ]
    },
    {
     "name": "stdout",
     "output_type": "stream",
     "text": [
      "ExtraTreesClassifier accuracy:  0.8898305084745762\n"
     ]
    },
    {
     "name": "stderr",
     "output_type": "stream",
     "text": [
      "\u001b[32m[I 2021-04-21 20:55:09,925]\u001b[0m Trial 2 finished with value: 0.6016949152542372 and parameters: {'n_estimators': 143, 'max_depth': 2}. Best is trial 0 with value: 0.7203389830508474.\u001b[0m\n",
      "\u001b[32m[I 2021-04-21 20:55:09,983]\u001b[0m Trial 3 finished with value: 0.6122881355932204 and parameters: {'n_estimators': 63, 'max_depth': 2}. Best is trial 0 with value: 0.7203389830508474.\u001b[0m\n",
      "\u001b[32m[I 2021-04-21 20:55:10,001]\u001b[0m Trial 4 finished with value: 0.6588983050847458 and parameters: {'n_estimators': 16, 'max_depth': 4}. Best is trial 0 with value: 0.7203389830508474.\u001b[0m\n",
      "\u001b[32m[I 2021-04-21 20:55:10,032]\u001b[0m Trial 5 finished with value: 0.673728813559322 and parameters: {'n_estimators': 31, 'max_depth': 5}. Best is trial 0 with value: 0.7203389830508474.\u001b[0m\n",
      "\u001b[32m[I 2021-04-21 20:55:10,063]\u001b[0m Trial 6 finished with value: 0.673728813559322 and parameters: {'n_estimators': 30, 'max_depth': 5}. Best is trial 0 with value: 0.7203389830508474.\u001b[0m\n",
      "\u001b[32m[I 2021-04-21 20:55:10,107]\u001b[0m Trial 7 finished with value: 0.6800847457627118 and parameters: {'n_estimators': 45, 'max_depth': 5}. Best is trial 0 with value: 0.7203389830508474.\u001b[0m\n",
      "\u001b[32m[I 2021-04-21 20:55:10,112]\u001b[0m Trial 8 finished with value: 0.6483050847457628 and parameters: {'n_estimators': 2, 'max_depth': 2}. Best is trial 0 with value: 0.7203389830508474.\u001b[0m\n",
      "\u001b[32m[I 2021-04-21 20:55:10,131]\u001b[0m Trial 9 finished with value: 0.6334745762711864 and parameters: {'n_estimators': 18, 'max_depth': 3}. Best is trial 0 with value: 0.7203389830508474.\u001b[0m\n",
      "\u001b[32m[I 2021-04-21 20:55:10,241]\u001b[0m Trial 10 finished with value: 0.7182203389830508 and parameters: {'n_estimators': 108, 'max_depth': 6}. Best is trial 0 with value: 0.7203389830508474.\u001b[0m\n",
      "\u001b[32m[I 2021-04-21 20:55:10,352]\u001b[0m Trial 11 finished with value: 0.7203389830508474 and parameters: {'n_estimators': 111, 'max_depth': 6}. Best is trial 0 with value: 0.7203389830508474.\u001b[0m\n",
      "\u001b[32m[I 2021-04-21 20:55:10,471]\u001b[0m Trial 12 finished with value: 0.7139830508474576 and parameters: {'n_estimators': 126, 'max_depth': 6}. Best is trial 0 with value: 0.7203389830508474.\u001b[0m\n",
      "\u001b[32m[I 2021-04-21 20:55:10,563]\u001b[0m Trial 13 finished with value: 0.7288135593220338 and parameters: {'n_estimators': 88, 'max_depth': 6}. Best is trial 13 with value: 0.7288135593220338.\u001b[0m\n",
      "\u001b[32m[I 2021-04-21 20:55:10,648]\u001b[0m Trial 14 finished with value: 0.7330508474576272 and parameters: {'n_estimators': 80, 'max_depth': 6}. Best is trial 14 with value: 0.7330508474576272.\u001b[0m\n",
      "\u001b[32m[I 2021-04-21 20:55:10,726]\u001b[0m Trial 15 finished with value: 0.6567796610169492 and parameters: {'n_estimators': 78, 'max_depth': 4}. Best is trial 14 with value: 0.7330508474576272.\u001b[0m\n",
      "\u001b[32m[I 2021-04-21 20:55:10,807]\u001b[0m Trial 16 finished with value: 0.7309322033898306 and parameters: {'n_estimators': 81, 'max_depth': 6}. Best is trial 14 with value: 0.7330508474576272.\u001b[0m\n",
      "\u001b[32m[I 2021-04-21 20:55:10,871]\u001b[0m Trial 17 finished with value: 0.684322033898305 and parameters: {'n_estimators': 60, 'max_depth': 5}. Best is trial 14 with value: 0.7330508474576272.\u001b[0m\n",
      "\u001b[32m[I 2021-04-21 20:55:10,948]\u001b[0m Trial 18 finished with value: 0.635593220338983 and parameters: {'n_estimators': 83, 'max_depth': 3}. Best is trial 14 with value: 0.7330508474576272.\u001b[0m\n",
      "\u001b[32m[I 2021-04-21 20:55:11,016]\u001b[0m Trial 19 finished with value: 0.7436440677966102 and parameters: {'n_estimators': 62, 'max_depth': 6}. Best is trial 19 with value: 0.7436440677966102.\u001b[0m\n",
      "\u001b[32m[I 2021-04-21 20:55:11,077]\u001b[0m Trial 20 finished with value: 0.6483050847457628 and parameters: {'n_estimators': 58, 'max_depth': 4}. Best is trial 19 with value: 0.7436440677966102.\u001b[0m\n",
      "\u001b[32m[I 2021-04-21 20:55:11,152]\u001b[0m Trial 21 finished with value: 0.7309322033898306 and parameters: {'n_estimators': 71, 'max_depth': 6}. Best is trial 19 with value: 0.7436440677966102.\u001b[0m\n",
      "\u001b[32m[I 2021-04-21 20:55:11,204]\u001b[0m Trial 22 finished with value: 0.7351694915254238 and parameters: {'n_estimators': 49, 'max_depth': 6}. Best is trial 19 with value: 0.7436440677966102.\u001b[0m\n",
      "\u001b[32m[I 2021-04-21 20:55:11,252]\u001b[0m Trial 23 finished with value: 0.673728813559322 and parameters: {'n_estimators': 43, 'max_depth': 5}. Best is trial 19 with value: 0.7436440677966102.\u001b[0m\n",
      "\u001b[32m[I 2021-04-21 20:55:11,306]\u001b[0m Trial 24 finished with value: 0.7330508474576272 and parameters: {'n_estimators': 46, 'max_depth': 6}. Best is trial 19 with value: 0.7436440677966102.\u001b[0m\n",
      "\u001b[32m[I 2021-04-21 20:55:11,360]\u001b[0m Trial 25 finished with value: 0.6779661016949152 and parameters: {'n_estimators': 49, 'max_depth': 5}. Best is trial 19 with value: 0.7436440677966102.\u001b[0m\n",
      "\u001b[32m[I 2021-04-21 20:55:11,435]\u001b[0m Trial 26 finished with value: 0.7309322033898306 and parameters: {'n_estimators': 70, 'max_depth': 6}. Best is trial 19 with value: 0.7436440677966102.\u001b[0m\n",
      "\u001b[32m[I 2021-04-21 20:55:11,477]\u001b[0m Trial 27 finished with value: 0.7182203389830508 and parameters: {'n_estimators': 35, 'max_depth': 6}. Best is trial 19 with value: 0.7436440677966102.\u001b[0m\n",
      "\u001b[32m[I 2021-04-21 20:55:11,506]\u001b[0m Trial 28 finished with value: 0.6673728813559322 and parameters: {'n_estimators': 21, 'max_depth': 5}. Best is trial 19 with value: 0.7436440677966102.\u001b[0m\n",
      "\u001b[32m[I 2021-04-21 20:55:11,599]\u001b[0m Trial 29 finished with value: 0.7288135593220338 and parameters: {'n_estimators': 88, 'max_depth': 6}. Best is trial 19 with value: 0.7436440677966102.\u001b[0m\n"
     ]
    },
    {
     "name": "stdout",
     "output_type": "stream",
     "text": [
      "Optimized on accuracy\n",
      "Optimized ExtraTreesClassifier accuracy:  0.722457627118644\n"
     ]
    }
   ],
   "source": [
    "etcs = ExtraTreesClassifier(\n",
    "    random_state=666\n",
    ")\n",
    "etcs.fit(X, y)\n",
    "preds = etcs.predict(X_val)\n",
    "\n",
    "print('ExtraTreesClassifier accuracy: ', accuracy_score(y_val, preds))\n",
    "\n",
    "def create_model(trial):\n",
    "    n_estimators = trial.suggest_int(\"n_estimators\", 2, 150)\n",
    "    max_depth = trial.suggest_int(\"max_depth\", 2, 6)\n",
    "    model = ExtraTreesClassifier(\n",
    "        n_estimators=n_estimators, \n",
    "        max_depth=max_depth, \n",
    "        random_state=10\n",
    "    )\n",
    "    return model\n",
    "\n",
    "\n",
    "# print('Optimized ExtraTreesClassifier accuracy: ', accuracy_score(y_val, preds))\n",
    "\n",
    "optimizer = Optimizer('acc')\n",
    "et_acc_params = optimizer.optimize()\n",
    "et_acc_params['random_state'] = 0\n",
    "et_acc = ExtraTreesClassifier(\n",
    "    **et_acc_params\n",
    ")\n",
    "et_acc.fit(X, y)\n",
    "preds = et_acc.predict(X_val)\n",
    "\n",
    "print('Optimized on accuracy')\n",
    "print('Optimized ExtraTreesClassifier accuracy: ', accuracy_score(y_val, preds))"
   ]
  },
  {
   "cell_type": "code",
   "execution_count": 254,
   "metadata": {},
   "outputs": [
    {
     "name": "stdout",
     "output_type": "stream",
     "text": [
      "Optimized ExtraTreesClassifier accuracy:  0.8898305084745762\n"
     ]
    }
   ],
   "source": [
    "preds = etcs.predict(X_val)\n",
    "print('Optimized ExtraTreesClassifier accuracy: ', accuracy_score(y_val, preds))\n"
   ]
  },
  {
   "cell_type": "code",
   "execution_count": 256,
   "metadata": {},
   "outputs": [],
   "source": [
    "## Serialize Optimized Extra Tree Classifier \n",
    "import pickle \n",
    "pickle.dump(et_acc, open('Optimized-Extra-Classifier-89', 'wb'))"
   ]
  },
  {
   "cell_type": "code",
   "execution_count": 392,
   "metadata": {},
   "outputs": [],
   "source": [
    "## Load in model \n",
    "import pickle\n",
    "with open('Optimized-Extra-Classifier-89', 'rb') as file:\n",
    "    oec = pickle.load(file)\n",
    "    \n",
    "    \n"
   ]
  },
  {
   "cell_type": "code",
   "execution_count": 396,
   "metadata": {},
   "outputs": [
    {
     "name": "stdout",
     "output_type": "stream",
     "text": [
      "Test score: 40.51 %\n"
     ]
    }
   ],
   "source": [
    "score = oec.score(X_test, y_test)\n",
    "print(\"Test score: {0:.2f} %\".format(100 * score))\n",
    "y_predict = oec.predict(X_test)\n"
   ]
  },
  {
   "cell_type": "markdown",
   "metadata": {},
   "source": [
    "## Algorithmic Performance "
   ]
  },
  {
   "cell_type": "code",
   "execution_count": 238,
   "metadata": {},
   "outputs": [
    {
     "data": {
      "text/plain": [
       "{'Extra Trees Classifier:': ExtraTreesClassifier(max_depth=6, n_estimators=62, random_state=0),\n",
       " 'AdaBoost Classifier:': AdaBoostClassifier(learning_rate=0.012194177354099445, n_estimators=117,\n",
       "                    random_state=666),\n",
       " 'Lgb classifier': LGBMClassifier(learning_rate=0.2747865242166644, max_depth=5,\n",
       "                min_child_samples=14, n_estimators=57, num_leaves=994,\n",
       "                random_state=666),\n",
       " 'XGB Classifier': XGBClassifier(base_score=0.5, booster='gbtree', colsample_bylevel=1,\n",
       "               colsample_bynode=1, colsample_bytree=1,\n",
       "               gamma=0.058153052911613476, gpu_id=-1, importance_type='gain',\n",
       "               interaction_constraints='', learning_rate=0.8324303901142126,\n",
       "               max_delta_step=0, max_depth=4, min_child_weight=1, missing=nan,\n",
       "               monotone_constraints='()', n_estimators=23, n_jobs=16,\n",
       "               num_parallel_tree=1, objective='multi:softprob', random_state=666,\n",
       "               reg_alpha=0, reg_lambda=1, scale_pos_weight=None,\n",
       "               subsample=0.7138384493818313, tree_method='exact',\n",
       "               validate_parameters=1, verbosity=None),\n",
       " 'Random Forest Classifier': RandomForestClassifier(max_depth=6, min_samples_leaf=4, n_estimators=86,\n",
       "                        random_state=666)}"
      ]
     },
     "execution_count": 238,
     "metadata": {},
     "output_type": "execute_result"
    }
   ],
   "source": [
    "# Put models in a dictionary\n",
    "models = {\n",
    "        \"Extra Trees Classifier:\":et_acc, \n",
    "         \"AdaBoost Classifier:\": abc_acc, \n",
    "#          \"KNN\": knn_acc, \n",
    "#          \"Logistic Regression\": lr,\n",
    "#          \"Decision Tree Classifier\": dt_acc,\n",
    "         \"Lgb classifier\": lgb_acc, \n",
    "         \"XGB Classifier\": xgb_acc, \n",
    "         \"Random Forest Classifier\": rf_acc}\n",
    "models"
   ]
  },
  {
   "cell_type": "code",
   "execution_count": 239,
   "metadata": {},
   "outputs": [],
   "source": [
    "# Create function to fit and score models\n",
    "def fit_and_score(models, X_train, X_test, y_train, y_test):\n",
    "    \"\"\"\n",
    "    Fits and evaluates given machine learning models.\n",
    "    models : a dict of different Scikit-Learn machine learning models\n",
    "    X_train : training data\n",
    "    X_test : testing data\n",
    "    y_train : labels assosciated with training data\n",
    "    y_test : labels assosciated with test data\n",
    "    \"\"\"\n",
    "    # Random seed for reproducible results\n",
    "    np.random.seed(42)\n",
    "    # Make a list to keep model scores\n",
    "    model_scores = {}\n",
    "    # Loop through models\n",
    "    for name, model in models.items():\n",
    "        # Fit the model to the data\n",
    "        model.fit(X_train, y_train)\n",
    "        # Evaluate the model and append its score to model_scores\n",
    "        model_scores[name] = model.score(X_test, y_test)\n",
    "    return model_scores"
   ]
  },
  {
   "cell_type": "code",
   "execution_count": 240,
   "metadata": {},
   "outputs": [
    {
     "name": "stdout",
     "output_type": "stream",
     "text": [
      "[20:44:25] WARNING: /Users/travis/build/dmlc/xgboost/src/learner.cc:1095: Starting in XGBoost 1.3.0, the default evaluation metric used with the objective 'multi:softprob' was changed from 'merror' to 'mlogloss'. Explicitly set eval_metric if you'd like to restore the old behavior.\n"
     ]
    },
    {
     "name": "stderr",
     "output_type": "stream",
     "text": [
      "/Users/andrewilliams/Documents/Dev/DS-2.9-Technical-Seminar/my_env/lib/python3.8/site-packages/xgboost/sklearn.py:1146: UserWarning: The use of label encoder in XGBClassifier is deprecated and will be removed in a future release. To remove this warning, do the following: 1) Pass option use_label_encoder=False when constructing XGBClassifier object; and 2) Encode your labels (y) as integers starting with 0, i.e. 0, 1, 2, ..., [num_class - 1].\n",
      "  warnings.warn(label_encoder_deprecation_msg, UserWarning)\n"
     ]
    },
    {
     "data": {
      "text/plain": [
       "{'Extra Trees Classifier:': 0.722457627118644,\n",
       " 'AdaBoost Classifier:': 0.6419491525423728,\n",
       " 'Lgb classifier': 0.8686440677966102,\n",
       " 'XGB Classifier': 0.8538135593220338,\n",
       " 'Random Forest Classifier': 0.7542372881355932}"
      ]
     },
     "execution_count": 240,
     "metadata": {},
     "output_type": "execute_result"
    }
   ],
   "source": [
    "model_scores = fit_and_score(models=models,\n",
    "                             X_train=X_train,\n",
    "                             X_test=X_test,\n",
    "                             y_train=y_train,\n",
    "                             y_test=y_test)\n",
    "model_scores"
   ]
  },
  {
   "cell_type": "code",
   "execution_count": 241,
   "metadata": {},
   "outputs": [
    {
     "data": {
      "image/png": "[encoded data removed]",
      "text/plain": [
       "<Figure size 432x288 with 1 Axes>"
      ]
     },
     "metadata": {
      "needs_background": "light"
     },
     "output_type": "display_data"
    }
   ],
   "source": [
    "model_compare = pd.DataFrame(model_scores, index=['accuracy'])\n",
    "model_compare.T.plot.bar();"
   ]
  },
  {
   "cell_type": "code",
   "execution_count": 257,
   "metadata": {},
   "outputs": [
    {
     "data": {
      "image/png": "[encoded data removed]",
      "text/plain": [
       "<Figure size 432x288 with 1 Axes>"
      ]
     },
     "metadata": {
      "needs_background": "light"
     },
     "output_type": "display_data"
    }
   ],
   "source": [
    "\n",
    "y_pred = rfc.predict(X_test)\n",
    "plt.hist(y_pred, bins=3);"
   ]
  },
  {
   "cell_type": "code",
   "execution_count": 259,
   "metadata": {},
   "outputs": [],
   "source": [
    "# y_test.hist(bins=3);"
   ]
  },
  {
   "cell_type": "code",
   "execution_count": 251,
   "metadata": {
    "scrolled": true
   },
   "outputs": [
    {
     "name": "stdout",
     "output_type": "stream",
     "text": [
      "Accuracy score of the model is:  0.8241525423728814\n"
     ]
    },
    {
     "data": {
      "image/png": "[encoded data removed]",
      "text/plain": [
       "<Figure size 432x288 with 2 Axes>"
      ]
     },
     "metadata": {
      "needs_background": "light"
     },
     "output_type": "display_data"
    }
   ],
   "source": [
    "print(\"Accuracy score of the model is: \", accuracy_score(y_test, y_pred))\n",
    "plot_confusion_matrix(rfc, X_test, y_test);"
   ]
  },
  {
   "cell_type": "markdown",
   "metadata": {},
   "source": [
    "## Conclusion"
   ]
  },
  {
   "cell_type": "markdown",
   "metadata": {},
   "source": [
    "Best Algorithm was the Random Forest Classifier "
   ]
  },
  {
   "cell_type": "code",
   "execution_count": null,
   "metadata": {},
   "outputs": [],
   "source": []
  },
  {
   "cell_type": "code",
   "execution_count": null,
   "metadata": {},
   "outputs": [],
   "source": []
  },
  {
   "cell_type": "markdown",
   "metadata": {},
   "source": [
    "## Super Learner Optimization "
   ]
  },
  {
   "cell_type": "code",
   "execution_count": 262,
   "metadata": {
    "scrolled": true
   },
   "outputs": [
    {
     "name": "stderr",
     "output_type": "stream",
     "text": [
      "/Users/andrewilliams/Documents/Dev/DS-2.9-Technical-Seminar/my_env/lib/python3.8/site-packages/xgboost/sklearn.py:1146: UserWarning: The use of label encoder in XGBClassifier is deprecated and will be removed in a future release. To remove this warning, do the following: 1) Pass option use_label_encoder=False when constructing XGBClassifier object; and 2) Encode your labels (y) as integers starting with 0, i.e. 0, 1, 2, ..., [num_class - 1].\n",
      "  warnings.warn(label_encoder_deprecation_msg, UserWarning)\n",
      "/Users/andrewilliams/Documents/Dev/DS-2.9-Technical-Seminar/my_env/lib/python3.8/site-packages/xgboost/sklearn.py:1146: UserWarning: The use of label encoder in XGBClassifier is deprecated and will be removed in a future release. To remove this warning, do the following: 1) Pass option use_label_encoder=False when constructing XGBClassifier object; and 2) Encode your labels (y) as integers starting with 0, i.e. 0, 1, 2, ..., [num_class - 1].\n",
      "  warnings.warn(label_encoder_deprecation_msg, UserWarning)\n",
      "/Users/andrewilliams/Documents/Dev/DS-2.9-Technical-Seminar/my_env/lib/python3.8/site-packages/xgboost/sklearn.py:1146: UserWarning: The use of label encoder in XGBClassifier is deprecated and will be removed in a future release. To remove this warning, do the following: 1) Pass option use_label_encoder=False when constructing XGBClassifier object; and 2) Encode your labels (y) as integers starting with 0, i.e. 0, 1, 2, ..., [num_class - 1].\n",
      "  warnings.warn(label_encoder_deprecation_msg, UserWarning)\n",
      "/Users/andrewilliams/Documents/Dev/DS-2.9-Technical-Seminar/my_env/lib/python3.8/site-packages/xgboost/sklearn.py:1146: UserWarning: The use of label encoder in XGBClassifier is deprecated and will be removed in a future release. To remove this warning, do the following: 1) Pass option use_label_encoder=False when constructing XGBClassifier object; and 2) Encode your labels (y) as integers starting with 0, i.e. 0, 1, 2, ..., [num_class - 1].\n",
      "  warnings.warn(label_encoder_deprecation_msg, UserWarning)\n",
      "/Users/andrewilliams/Documents/Dev/DS-2.9-Technical-Seminar/my_env/lib/python3.8/site-packages/xgboost/sklearn.py:1146: UserWarning: The use of label encoder in XGBClassifier is deprecated and will be removed in a future release. To remove this warning, do the following: 1) Pass option use_label_encoder=False when constructing XGBClassifier object; and 2) Encode your labels (y) as integers starting with 0, i.e. 0, 1, 2, ..., [num_class - 1].\n",
      "  warnings.warn(label_encoder_deprecation_msg, UserWarning)\n",
      "/Users/andrewilliams/Documents/Dev/DS-2.9-Technical-Seminar/my_env/lib/python3.8/site-packages/xgboost/sklearn.py:1146: UserWarning: The use of label encoder in XGBClassifier is deprecated and will be removed in a future release. To remove this warning, do the following: 1) Pass option use_label_encoder=False when constructing XGBClassifier object; and 2) Encode your labels (y) as integers starting with 0, i.e. 0, 1, 2, ..., [num_class - 1].\n",
      "  warnings.warn(label_encoder_deprecation_msg, UserWarning)\n"
     ]
    },
    {
     "name": "stdout",
     "output_type": "stream",
     "text": [
      "SuperLearner accuracy:  0.8516949152542372\n"
     ]
    }
   ],
   "source": [
    "model = SuperLearner(\n",
    "    folds=5, \n",
    "    random_state=666\n",
    ")\n",
    "\n",
    "model.add(\n",
    "    [\n",
    "        bc, \n",
    "        lgb, \n",
    "        xgb, \n",
    "        rf,  \n",
    "    ]\n",
    ")\n",
    "\n",
    "model.add_meta(\n",
    "    LogisticRegression()\n",
    ")\n",
    "\n",
    "model.fit(X, y)\n",
    "\n",
    "preds = model.predict(X_val)\n",
    "\n",
    "print('SuperLearner accuracy: ', accuracy_score(y_val, preds))"
   ]
  },
  {
   "cell_type": "code",
   "execution_count": 264,
   "metadata": {},
   "outputs": [
    {
     "ename": "NameError",
     "evalue": "name 'dt_acc_params' is not defined",
     "output_type": "error",
     "traceback": [
      "\u001b[0;31m---------------------------------------------------------------------------\u001b[0m",
      "\u001b[0;31mNameError\u001b[0m                                 Traceback (most recent call last)",
      "\u001b[0;32m<ipython-input-264-106b61651598>\u001b[0m in \u001b[0;36m<module>\u001b[0;34m\u001b[0m\n\u001b[1;32m      9\u001b[0m     \u001b[0;34m'OAXGB'\u001b[0m\u001b[0;34m:\u001b[0m \u001b[0mXGBClassifier\u001b[0m\u001b[0;34m(\u001b[0m\u001b[0;34m**\u001b[0m\u001b[0mxgb_acc_params\u001b[0m\u001b[0;34m)\u001b[0m\u001b[0;34m,\u001b[0m\u001b[0;34m\u001b[0m\u001b[0;34m\u001b[0m\u001b[0m\n\u001b[1;32m     10\u001b[0m     \u001b[0;34m'OALGBM'\u001b[0m\u001b[0;34m:\u001b[0m \u001b[0mLGBMClassifier\u001b[0m\u001b[0;34m(\u001b[0m\u001b[0;34m**\u001b[0m\u001b[0mlgb_acc_params\u001b[0m\u001b[0;34m)\u001b[0m\u001b[0;34m,\u001b[0m\u001b[0;34m\u001b[0m\u001b[0;34m\u001b[0m\u001b[0m\n\u001b[0;32m---> 11\u001b[0;31m     \u001b[0;34m'OADT'\u001b[0m\u001b[0;34m:\u001b[0m \u001b[0mDecisionTreeClassifier\u001b[0m\u001b[0;34m(\u001b[0m\u001b[0;34m**\u001b[0m\u001b[0mdt_acc_params\u001b[0m\u001b[0;34m)\u001b[0m\u001b[0;34m,\u001b[0m\u001b[0;34m\u001b[0m\u001b[0;34m\u001b[0m\u001b[0m\n\u001b[0m\u001b[1;32m     12\u001b[0m     \u001b[0;34m'OAKNN'\u001b[0m\u001b[0;34m:\u001b[0m \u001b[0mKNeighborsClassifier\u001b[0m\u001b[0;34m(\u001b[0m\u001b[0;34m**\u001b[0m\u001b[0mknn_acc_params\u001b[0m\u001b[0;34m)\u001b[0m\u001b[0;34m,\u001b[0m\u001b[0;34m\u001b[0m\u001b[0;34m\u001b[0m\u001b[0m\n\u001b[1;32m     13\u001b[0m     \u001b[0;34m'OABC'\u001b[0m\u001b[0;34m:\u001b[0m \u001b[0mBaggingClassifier\u001b[0m\u001b[0;34m(\u001b[0m\u001b[0;34m**\u001b[0m\u001b[0mbc_acc_params\u001b[0m\u001b[0;34m)\u001b[0m\u001b[0;34m,\u001b[0m\u001b[0;34m\u001b[0m\u001b[0;34m\u001b[0m\u001b[0m\n",
      "\u001b[0;31mNameError\u001b[0m: name 'dt_acc_params' is not defined"
     ]
    }
   ],
   "source": [
    "mdict = {\n",
    "    'RF': RandomForestClassifier(random_state=666),\n",
    "    'XGB': XGBClassifier(random_state=666),\n",
    "    'LGBM': LGBMClassifier(random_state=666),\n",
    "    'DT': DecisionTreeClassifier(random_state=666),\n",
    "    'KNN': KNeighborsClassifier(),\n",
    "    'BC': BaggingClassifier(random_state=666),\n",
    "    'OARF': RandomForestClassifier(**rf_acc_params),\n",
    "    'OAXGB': XGBClassifier(**xgb_acc_params),\n",
    "    'OALGBM': LGBMClassifier(**lgb_acc_params),\n",
    "    'OADT': DecisionTreeClassifier(**dt_acc_params),\n",
    "    'OAKNN': KNeighborsClassifier(**knn_acc_params),\n",
    "    'OABC': BaggingClassifier(**bc_acc_params),\n",
    "    'OAABC': AdaBoostClassifier(**abc_acc_params),\n",
    "    'OAET': ExtraTreesClassifier(**et_acc_params),\n",
    "    'LR': LogisticRegression(random_state=666),\n",
    "    'ABC': AdaBoostClassifier(random_state=666),\n",
    "    'SGD': SGDClassifier(random_state=666), \n",
    "    'ET': ExtraTreesClassifier(random_state=666),\n",
    "    'MLP': MLPClassifier(random_state=666),\n",
    "    'GB': GradientBoostingClassifier(random_state=666),\n",
    "    'RDG': RidgeClassifier(random_state=666),\n",
    "    'PCP': Perceptron(random_state=666),\n",
    "    'PAC': PassiveAggressiveClassifier(random_state=666)\n",
    "}"
   ]
  },
  {
   "cell_type": "code",
   "execution_count": 247,
   "metadata": {},
   "outputs": [],
   "source": [
    "# from sklearn.preprocessing import LabelEncoder\n",
    "# le = LabelEncoder()\n",
    "# yt = le.fit_transform(y_train)\n",
    "# yt"
   ]
  },
  {
   "cell_type": "code",
   "execution_count": null,
   "metadata": {},
   "outputs": [],
   "source": []
  },
  {
   "cell_type": "code",
   "execution_count": 248,
   "metadata": {},
   "outputs": [],
   "source": [
    "# def create_model(trial):\n",
    "#     model_names = list()\n",
    "#     models_list = [\n",
    "#         'RF', 'XGB', 'LGBM', 'DT', \n",
    "#         'KNN', 'BC', 'OARF', #'OFRF', \n",
    "#         'OAXGB', 'OFXGB', 'OALGBM', \n",
    "#         'OFLGBM', 'OADT', 'OFDT', \n",
    "#         'OAKNN', \n",
    "#         'OFBC', 'OAABC', 'OFABC', \n",
    "#         'OAET', 'OFET', 'LR', \n",
    "#         'ABC', 'SGD', 'ET', \n",
    "#         'MLP', 'GB', 'RDG', \n",
    "#         'PCP', 'PAC'\n",
    "#     ]\n",
    "    \n",
    "#     head_list = [\n",
    "#         'RF', \n",
    "#         'XGB', \n",
    "#         'LGBM', \n",
    "#         'DT', \n",
    "#         'KNN', \n",
    "# #       'BC', \n",
    "#         'LR', \n",
    "#         'ABC', \n",
    "#         'SGD', \n",
    "#         'ET', \n",
    "#         'MLP', \n",
    "#         'GB', \n",
    "#         'RDG', \n",
    "#         'PCP', \n",
    "#         'PAC'\n",
    "#     ]\n",
    "    \n",
    "#     n_models = trial.suggest_int(\"n_models\", 2, 6)\n",
    "#     for i in range(n_models):\n",
    "#         model_item = trial.suggest_categorical('model_{}'.format(i), models_list)\n",
    "#         if model_item not in model_names:\n",
    "#             model_names.append(model_item)\n",
    "    \n",
    "#     folds = trial.suggest_int(\"folds\", 2, 6)\n",
    "    \n",
    "#     model = SuperLearner(\n",
    "#         folds=folds, \n",
    "#         random_state=666\n",
    "#     )\n",
    "    \n",
    "#     models = [\n",
    "#         mdict[item] for item in model_names\n",
    "#     ]\n",
    "#     model.add(models)\n",
    "#     head = trial.suggest_categorical('head', head_list)\n",
    "#     model.add_meta(\n",
    "#         mdict[head]\n",
    "#     )\n",
    "        \n",
    "#     return model\n",
    "\n",
    "# def objective(trial):\n",
    "#     model = create_model(trial)\n",
    "#     model.fit(X, y_train)\n",
    "#     preds = model.predict(X_val)\n",
    "#     score = accuracy_score(y_val, preds)\n",
    "#     return score\n",
    "\n",
    "# study = optuna.create_study(\n",
    "#     direction=\"maximize\", \n",
    "#     sampler=sampler\n",
    "# )\n",
    "\n",
    "# study.optimize(\n",
    "#     objective, \n",
    "#     n_trials=50\n",
    "# )"
   ]
  },
  {
   "cell_type": "code",
   "execution_count": 249,
   "metadata": {},
   "outputs": [],
   "source": [
    "# params = study.best_params\n",
    "\n",
    "# head = params['head']\n",
    "# folds = params['folds']\n",
    "# del params['head'], params['n_models'], params['folds']\n",
    "# result = list()\n",
    "# for key, value in params.items():\n",
    "#     if value not in result:\n",
    "#         result.append(value)\n",
    "        \n",
    "# result"
   ]
  },
  {
   "cell_type": "code",
   "execution_count": 250,
   "metadata": {},
   "outputs": [],
   "source": [
    "# model = SuperLearner(\n",
    "#     folds=folds, \n",
    "#     random_state=666\n",
    "# )\n",
    "\n",
    "# models = [\n",
    "#     mdict[item] for item in result\n",
    "# ]\n",
    "# model.add(models)\n",
    "# model.add_meta(mdict[head])\n",
    "\n",
    "# model.fit(X, y)\n",
    "\n",
    "# preds = model.predict(X_val)\n",
    "\n",
    "# print('Optimized SuperLearner accuracy: ', accuracy_score(y_val, preds))\n",
    "# print('Optimized SuperLearner f1-score: ', f1_score(y_val, preds))"
   ]
  },
  {
   "cell_type": "code",
   "execution_count": null,
   "metadata": {},
   "outputs": [],
   "source": []
  }
 ],
 "metadata": {
  "kernelspec": {
   "display_name": "Python 3",
   "language": "python",
   "name": "python3"
  },
  "language_info": {
   "codemirror_mode": {
    "name": "ipython",
    "version": 3
   },
   "file_extension": ".py",
   "mimetype": "text/x-python",
   "name": "python",
   "nbconvert_exporter": "python",
   "pygments_lexer": "ipython3",
   "version": "3.8.3"
  }
 },
 "nbformat": 4,
 "nbformat_minor": 4
}
