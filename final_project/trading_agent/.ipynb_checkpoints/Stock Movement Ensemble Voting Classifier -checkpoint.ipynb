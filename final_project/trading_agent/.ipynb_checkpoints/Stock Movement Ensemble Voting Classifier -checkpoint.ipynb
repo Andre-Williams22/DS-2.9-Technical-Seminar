{
 "cells": [
  {
   "cell_type": "code",
   "execution_count": 2,
   "metadata": {
    "scrolled": true
   },
   "outputs": [
    {
     "name": "stdout",
     "output_type": "stream",
     "text": [
      "Requirement already satisfied: lazypredict in /Users/andrewilliams/Documents/Dev/DS-2.9-Technical-Seminar/my_env/lib/python3.8/site-packages (0.2.9)\n",
      "Requirement already satisfied: bayesian-optimization in /Users/andrewilliams/Documents/Dev/DS-2.9-Technical-Seminar/my_env/lib/python3.8/site-packages (1.2.0)\n",
      "Requirement already satisfied: hyperopt in /Users/andrewilliams/Documents/Dev/DS-2.9-Technical-Seminar/my_env/lib/python3.8/site-packages (0.2.5)\n",
      "Requirement already satisfied: scipy in /Users/andrewilliams/Documents/Dev/DS-2.9-Technical-Seminar/my_env/lib/python3.8/site-packages (1.5.4)\n",
      "Requirement already satisfied: scikit-learn>=0.18.0 in /Users/andrewilliams/Documents/Dev/DS-2.9-Technical-Seminar/my_env/lib/python3.8/site-packages (from bayesian-optimization) (0.23.1)\n",
      "Requirement already satisfied: numpy>=1.9.0 in /Users/andrewilliams/Documents/Dev/DS-2.9-Technical-Seminar/my_env/lib/python3.8/site-packages (from bayesian-optimization) (1.19.1)\n",
      "Requirement already satisfied: threadpoolctl>=2.0.0 in /Users/andrewilliams/Documents/Dev/DS-2.9-Technical-Seminar/my_env/lib/python3.8/site-packages (from scikit-learn>=0.18.0->bayesian-optimization) (2.1.0)\n",
      "Requirement already satisfied: joblib>=0.11 in /Users/andrewilliams/Documents/Dev/DS-2.9-Technical-Seminar/my_env/lib/python3.8/site-packages (from scikit-learn>=0.18.0->bayesian-optimization) (1.0.0)\n",
      "Requirement already satisfied: networkx>=2.2 in /Users/andrewilliams/Documents/Dev/DS-2.9-Technical-Seminar/my_env/lib/python3.8/site-packages (from hyperopt) (2.5.1)\n",
      "Requirement already satisfied: cloudpickle in /Users/andrewilliams/Documents/Dev/DS-2.9-Technical-Seminar/my_env/lib/python3.8/site-packages (from hyperopt) (1.6.0)\n",
      "Requirement already satisfied: future in /Users/andrewilliams/Documents/Dev/DS-2.9-Technical-Seminar/my_env/lib/python3.8/site-packages (from hyperopt) (0.18.2)\n",
      "Requirement already satisfied: tqdm in /Users/andrewilliams/Documents/Dev/DS-2.9-Technical-Seminar/my_env/lib/python3.8/site-packages (from hyperopt) (4.56.0)\n",
      "Requirement already satisfied: six in /Users/andrewilliams/Documents/Dev/DS-2.9-Technical-Seminar/my_env/lib/python3.8/site-packages (from hyperopt) (1.15.0)\n",
      "Requirement already satisfied: decorator<5,>=4.3 in /Users/andrewilliams/Documents/Dev/DS-2.9-Technical-Seminar/my_env/lib/python3.8/site-packages (from networkx>=2.2->hyperopt) (4.4.2)\n",
      "Requirement already satisfied: PyYAML==5.3.1 in /Users/andrewilliams/Documents/Dev/DS-2.9-Technical-Seminar/my_env/lib/python3.8/site-packages (from lazypredict) (5.3.1)\n",
      "Requirement already satisfied: pandas==1.0.5 in /Users/andrewilliams/Documents/Dev/DS-2.9-Technical-Seminar/my_env/lib/python3.8/site-packages (from lazypredict) (1.0.5)\n",
      "Requirement already satisfied: xgboost==1.1.1 in /Users/andrewilliams/Documents/Dev/DS-2.9-Technical-Seminar/my_env/lib/python3.8/site-packages (from lazypredict) (1.1.1)\n",
      "Requirement already satisfied: lightgbm==2.3.1 in /Users/andrewilliams/Documents/Dev/DS-2.9-Technical-Seminar/my_env/lib/python3.8/site-packages (from lazypredict) (2.3.1)\n",
      "Requirement already satisfied: pytest==5.4.3 in /Users/andrewilliams/Documents/Dev/DS-2.9-Technical-Seminar/my_env/lib/python3.8/site-packages (from lazypredict) (5.4.3)\n",
      "Requirement already satisfied: click==7.1.2 in /Users/andrewilliams/Documents/Dev/DS-2.9-Technical-Seminar/my_env/lib/python3.8/site-packages (from lazypredict) (7.1.2)\n",
      "Requirement already satisfied: pytz>=2017.2 in /Users/andrewilliams/Documents/Dev/DS-2.9-Technical-Seminar/my_env/lib/python3.8/site-packages (from pandas==1.0.5->lazypredict) (2021.1)\n",
      "Requirement already satisfied: python-dateutil>=2.6.1 in /Users/andrewilliams/Documents/Dev/DS-2.9-Technical-Seminar/my_env/lib/python3.8/site-packages (from pandas==1.0.5->lazypredict) (2.8.1)\n",
      "Requirement already satisfied: py>=1.5.0 in /Users/andrewilliams/Documents/Dev/DS-2.9-Technical-Seminar/my_env/lib/python3.8/site-packages (from pytest==5.4.3->lazypredict) (1.10.0)\n",
      "Requirement already satisfied: more-itertools>=4.0.0 in /Users/andrewilliams/Documents/Dev/DS-2.9-Technical-Seminar/my_env/lib/python3.8/site-packages (from pytest==5.4.3->lazypredict) (8.7.0)\n",
      "Requirement already satisfied: packaging in /Users/andrewilliams/Documents/Dev/DS-2.9-Technical-Seminar/my_env/lib/python3.8/site-packages (from pytest==5.4.3->lazypredict) (20.9)\n",
      "Requirement already satisfied: pluggy<1.0,>=0.12 in /Users/andrewilliams/Documents/Dev/DS-2.9-Technical-Seminar/my_env/lib/python3.8/site-packages (from pytest==5.4.3->lazypredict) (0.13.1)\n",
      "Requirement already satisfied: wcwidth in /Users/andrewilliams/Documents/Dev/DS-2.9-Technical-Seminar/my_env/lib/python3.8/site-packages (from pytest==5.4.3->lazypredict) (0.2.5)\n",
      "Requirement already satisfied: attrs>=17.4.0 in /Users/andrewilliams/Documents/Dev/DS-2.9-Technical-Seminar/my_env/lib/python3.8/site-packages (from pytest==5.4.3->lazypredict) (20.3.0)\n",
      "Requirement already satisfied: pyparsing>=2.0.2 in /Users/andrewilliams/Documents/Dev/DS-2.9-Technical-Seminar/my_env/lib/python3.8/site-packages (from packaging->pytest==5.4.3->lazypredict) (2.4.7)\n",
      "\u001b[33mWARNING: You are using pip version 21.0.1; however, version 21.1.1 is available.\n",
      "You should consider upgrading via the '/Users/andrewilliams/Documents/Dev/DS-2.9-Technical-Seminar/my_env/bin/python3 -m pip install --upgrade pip' command.\u001b[0m\n"
     ]
    }
   ],
   "source": [
    "# Install a pip package in the current Jupyter kernel\n",
    "import sys\n",
    "!{sys.executable} -m pip install lazypredict bayesian-optimization hyperopt scipy"
   ]
  },
  {
   "cell_type": "code",
   "execution_count": 12,
   "metadata": {},
   "outputs": [],
   "source": [
    "from lazypredict.Supervised import LazyClassifier\n",
    "from sklearn.model_selection import train_test_split\n",
    "import pandas as pd \n",
    "import numpy as np \n",
    "import matplotlib.pyplot as plt \n",
    "import seaborn as sns"
   ]
  },
  {
   "cell_type": "markdown",
   "metadata": {},
   "source": [
    "## Load Data "
   ]
  },
  {
   "cell_type": "code",
   "execution_count": 4,
   "metadata": {},
   "outputs": [],
   "source": [
    "from alpha_vantage.timeseries import TimeSeries\n",
    "import pandas as pd\n",
    "from functools import reduce\n",
    "\n",
    "def alpha_vantage_data(symbol, interval):\n",
    "    apiKey = 'IOLIXAXKGPI3A4QM'\n",
    "\n",
    "    ts = TimeSeries(key = apiKey, output_format = 'csv')\n",
    "\n",
    "    data_frames = []\n",
    "\n",
    "    #download the csv\n",
    "    month_one = ts.get_intraday_extended(symbol = symbol , interval = interval , slice ='year1month1')\n",
    "    one = pd.DataFrame(list(month_one[0]))\n",
    "    data_frames.append(one)\n",
    "\n",
    "    month_two = ts.get_intraday_extended(symbol = symbol, interval = interval, slice ='year1month2')\n",
    "    month_two = pd.DataFrame(list(month_two[0]))\n",
    "    data_frames.append(month_two)\n",
    "    \n",
    "    month_three = ts.get_intraday_extended(symbol = symbol, interval = interval, slice ='year1month3')\n",
    "    month_three = pd.DataFrame(list(month_three[0]))\n",
    "    data_frames.append(month_three)\n",
    "    \n",
    "    month_four = ts.get_intraday_extended(symbol = symbol, interval = interval, slice ='year1month4')\n",
    "    month_four = pd.DataFrame(list(month_four[0]))\n",
    "    data_frames.append(month_four)\n",
    "    \n",
    "    month_five = ts.get_intraday_extended(symbol = symbol, interval = interval, slice ='year1month5')\n",
    "    month_five = pd.DataFrame(list(month_five[0]))\n",
    "    data_frames.append(month_five)\n",
    "    \n",
    "#     month_six = ts.get_intraday_extended(symbol = symbol, interval = interval, slice ='year1month6')\n",
    "#     month_six = pd.DataFrame(list(month_six[0]))\n",
    "#     data_frames.append(month_six)\n",
    "    \n",
    "#     month_seven = ts.get_intraday_extended(symbol = symbol, interval = interval, slice ='year1month7')\n",
    "#     month_seven = pd.DataFrame(list(month_seven[0]))\n",
    "#     data_frames.append(month_seven)\n",
    "    \n",
    "    \n",
    "#     month_eight = ts.get_intraday_extended(symbol = symbol, interval = interval, slice ='year1month8')\n",
    "#     month_eight = pd.DataFrame(list(month_eight[0]))\n",
    "#     data_frames.append(month_eight)\n",
    "\n",
    "#     month_nine = ts.get_intraday_extended(symbol = symbol, interval = interval, slice ='year1month9')\n",
    "#     month_nine = pd.DataFrame(list(month_nine[0]))\n",
    "#     data_frames.append(month_nine)\n",
    "    \n",
    "#     month_ten = ts.get_intraday_extended(symbol = symbol, interval = interval, slice ='year1month10')\n",
    "#     month_ten = pd.DataFrame(list(month_ten[0]))\n",
    "#     data_frames.append(month_ten)\n",
    "    \n",
    "#     month_eleven = ts.get_intraday_extended(symbol = symbol, interval = interval, slice ='year1month11')\n",
    "#     month_eleven = pd.DataFrame(list(month_eleven[0]))\n",
    "#     data_frames.append(month_eleven) \n",
    "    \n",
    "#     month_twelve = ts.get_intraday_extended(symbol = symbol, interval = interval, slice ='year1month12')\n",
    "#     month_twelve = pd.DataFrame(list(month_twelve[0]))\n",
    "#     data_frames.append(month_twelve)\n",
    "    \n",
    "    df = pd.concat(data_frames)\n",
    "    \n",
    "#     #df_merged = reduce(lambda  left,right: pd.merge(left,right,on=['DATE'], how='outer'), data_frames).fillna('void')\n",
    "\n",
    "    #csv --> dataframe\n",
    "#     df = pd.DataFrame(list(df_merged[0]))\n",
    "\n",
    "    # print(df)\n",
    "\n",
    "    #setup of column and index\n",
    "    header_row=0\n",
    "    df.columns = df.iloc[header_row]\n",
    "    df = df.drop(header_row)\n",
    "    df['time'] = pd.to_datetime(df['time'])\n",
    "    df.set_index('time', inplace=True)\n",
    "    df = df.drop_duplicates()\n",
    "\n",
    "    #show output\n",
    "    return df "
   ]
  },
  {
   "cell_type": "code",
   "execution_count": 5,
   "metadata": {},
   "outputs": [
    {
     "data": {
      "text/html": [
       "<div>\n",
       "<style scoped>\n",
       "    .dataframe tbody tr th:only-of-type {\n",
       "        vertical-align: middle;\n",
       "    }\n",
       "\n",
       "    .dataframe tbody tr th {\n",
       "        vertical-align: top;\n",
       "    }\n",
       "\n",
       "    .dataframe thead th {\n",
       "        text-align: right;\n",
       "    }\n",
       "</style>\n",
       "<table border=\"1\" class=\"dataframe\">\n",
       "  <thead>\n",
       "    <tr style=\"text-align: right;\">\n",
       "      <th></th>\n",
       "      <th>open</th>\n",
       "      <th>high</th>\n",
       "      <th>low</th>\n",
       "      <th>close</th>\n",
       "      <th>volume</th>\n",
       "      <th>adjclose</th>\n",
       "    </tr>\n",
       "    <tr>\n",
       "      <th>time</th>\n",
       "      <th></th>\n",
       "      <th></th>\n",
       "      <th></th>\n",
       "      <th></th>\n",
       "      <th></th>\n",
       "      <th></th>\n",
       "    </tr>\n",
       "  </thead>\n",
       "  <tbody>\n",
       "    <tr>\n",
       "      <th>2020-12-18 05:15:00</th>\n",
       "      <td>26.35</td>\n",
       "      <td>26.35</td>\n",
       "      <td>26.25</td>\n",
       "      <td>26.25</td>\n",
       "      <td>14039</td>\n",
       "      <td>26.25</td>\n",
       "    </tr>\n",
       "    <tr>\n",
       "      <th>2020-12-18 05:00:00</th>\n",
       "      <td>26.32</td>\n",
       "      <td>26.35</td>\n",
       "      <td>26.25</td>\n",
       "      <td>26.35</td>\n",
       "      <td>11961</td>\n",
       "      <td>26.35</td>\n",
       "    </tr>\n",
       "    <tr>\n",
       "      <th>2020-12-18 04:45:00</th>\n",
       "      <td>26.42</td>\n",
       "      <td>26.45</td>\n",
       "      <td>26.26</td>\n",
       "      <td>26.35</td>\n",
       "      <td>21160</td>\n",
       "      <td>26.35</td>\n",
       "    </tr>\n",
       "    <tr>\n",
       "      <th>2020-12-18 04:30:00</th>\n",
       "      <td>26.44</td>\n",
       "      <td>26.49</td>\n",
       "      <td>26.40</td>\n",
       "      <td>26.40</td>\n",
       "      <td>23879</td>\n",
       "      <td>26.40</td>\n",
       "    </tr>\n",
       "    <tr>\n",
       "      <th>2020-12-18 04:15:00</th>\n",
       "      <td>26.60</td>\n",
       "      <td>26.65</td>\n",
       "      <td>26.08</td>\n",
       "      <td>26.41</td>\n",
       "      <td>109862</td>\n",
       "      <td>26.41</td>\n",
       "    </tr>\n",
       "  </tbody>\n",
       "</table>\n",
       "</div>"
      ],
      "text/plain": [
       "0                    open  high   low  close  volume  adjclose\n",
       "time                                                          \n",
       "2020-12-18 05:15:00 26.35 26.35 26.25  26.25   14039     26.25\n",
       "2020-12-18 05:00:00 26.32 26.35 26.25  26.35   11961     26.35\n",
       "2020-12-18 04:45:00 26.42 26.45 26.26  26.35   21160     26.35\n",
       "2020-12-18 04:30:00 26.44 26.49 26.40  26.40   23879     26.40\n",
       "2020-12-18 04:15:00 26.60 26.65 26.08  26.41  109862     26.41"
      ]
     },
     "execution_count": 5,
     "metadata": {},
     "output_type": "execute_result"
    }
   ],
   "source": [
    "df = alpha_vantage_data('PLTR', '15min')\n",
    "\n",
    "df = df.apply(pd.to_numeric)\n",
    "\n",
    "df['adjclose'] = df['close']\n",
    "\n",
    "df.tail()\n",
    "## combine dataframes "
   ]
  },
  {
   "cell_type": "markdown",
   "metadata": {},
   "source": [
    "## Exploratory Data Analysis (EDA)"
   ]
  },
  {
   "cell_type": "code",
   "execution_count": 13,
   "metadata": {},
   "outputs": [
    {
     "data": {
      "image/png": "[encoded data removed]",
      "text/plain": [
       "<Figure size 432x288 with 1 Axes>"
      ]
     },
     "metadata": {
      "needs_background": "light"
     },
     "output_type": "display_data"
    }
   ],
   "source": [
    "df['volume'].plot(label='Volume', color='r');\n",
    "plt.legend();"
   ]
  },
  {
   "cell_type": "code",
   "execution_count": 14,
   "metadata": {},
   "outputs": [
    {
     "data": {
      "image/png": "[encoded data removed]",
      "text/plain": [
       "<Figure size 432x288 with 1 Axes>"
      ]
     },
     "metadata": {
      "needs_background": "light"
     },
     "output_type": "display_data"
    }
   ],
   "source": [
    "df['adjclose'].plot(label='Closing Price', color='g');\n",
    "plt.legend();"
   ]
  },
  {
   "cell_type": "code",
   "execution_count": null,
   "metadata": {},
   "outputs": [],
   "source": []
  },
  {
   "cell_type": "markdown",
   "metadata": {},
   "source": [
    "## Feature Engineering "
   ]
  },
  {
   "cell_type": "markdown",
   "metadata": {},
   "source": [
    "\n",
    "We will now create certain features from the pricing data which would include:\n",
    "1. SMA_20 : Simple Moving Average of 20 day window\n",
    "2. Std_dev : Standard Deviation for 20 day window\n",
    "3. Band_1 : Bollinger band created using SMA_20 + Std_dev\n",
    "4. Band_2 : Bollinger band created using SMA_20 - Std_dev\n",
    "5. ON_returns : whether there was up or down move from prior day closing price to current day opening price\n",
    "6. dist_from_mean : How much distant stock prices are from the mean\n",
    "7. vix_data: CBOE Volatility index price from the prior day"
   ]
  },
  {
   "cell_type": "code",
   "execution_count": 16,
   "metadata": {},
   "outputs": [],
   "source": [
    "def BBANDS(data, n_lookback, n_std):\n",
    "    \"\"\"Bollinger bands indicator\"\"\"\n",
    "    hlc3 = (data.high + data.low + data.close) / 3\n",
    "    mean, std = hlc3.rolling(n_lookback).mean(), hlc3.rolling(n_lookback).std()\n",
    "    upper = mean + n_std*std\n",
    "    lower = mean - n_std*std\n",
    "    return upper, lower"
   ]
  },
  {
   "cell_type": "code",
   "execution_count": 17,
   "metadata": {},
   "outputs": [
    {
     "data": {
      "text/html": [
       "\n",
       "    <div class=\"bk-root\">\n",
       "        <a href=\"https://bokeh.org\" target=\"_blank\" class=\"bk-logo bk-logo-small bk-logo-notebook\"></a>\n",
       "        <span id=\"1002\">Loading BokehJS ...</span>\n",
       "    </div>"
      ]
     },
     "metadata": {},
     "output_type": "display_data"
    },
    {
     "data": {
      "application/javascript": [
       "\n",
       "(function(root) {\n",
       "  function now() {\n",
       "    return new Date();\n",
       "  }\n",
       "\n",
       "  var force = true;\n",
       "\n",
       "  if (typeof root._bokeh_onload_callbacks === \"undefined\" || force === true) {\n",
       "    root._bokeh_onload_callbacks = [];\n",
       "    root._bokeh_is_loading = undefined;\n",
       "  }\n",
       "\n",
       "  var JS_MIME_TYPE = 'application/javascript';\n",
       "  var HTML_MIME_TYPE = 'text/html';\n",
       "  var EXEC_MIME_TYPE = 'application/vnd.bokehjs_exec.v0+json';\n",
       "  var CLASS_NAME = 'output_bokeh rendered_html';\n",
       "\n",
       "  /**\n",
       "   * Render data to the DOM node\n",
       "   */\n",
       "  function render(props, node) {\n",
       "    var script = document.createElement(\"script\");\n",
       "    node.appendChild(script);\n",
       "  }\n",
       "\n",
       "  /**\n",
       "   * Handle when an output is cleared or removed\n",
       "   */\n",
       "  function handleClearOutput(event, handle) {\n",
       "    var cell = handle.cell;\n",
       "\n",
       "    var id = cell.output_area._bokeh_element_id;\n",
       "    var server_id = cell.output_area._bokeh_server_id;\n",
       "    // Clean up Bokeh references\n",
       "    if (id != null && id in Bokeh.index) {\n",
       "      Bokeh.index[id].model.document.clear();\n",
       "      delete Bokeh.index[id];\n",
       "    }\n",
       "\n",
       "    if (server_id !== undefined) {\n",
       "      // Clean up Bokeh references\n",
       "      var cmd = \"from bokeh.io.state import curstate; print(curstate().uuid_to_server['\" + server_id + \"'].get_sessions()[0].document.roots[0]._id)\";\n",
       "      cell.notebook.kernel.execute(cmd, {\n",
       "        iopub: {\n",
       "          output: function(msg) {\n",
       "            var id = msg.content.text.trim();\n",
       "            if (id in Bokeh.index) {\n",
       "              Bokeh.index[id].model.document.clear();\n",
       "              delete Bokeh.index[id];\n",
       "            }\n",
       "          }\n",
       "        }\n",
       "      });\n",
       "      // Destroy server and session\n",
       "      var cmd = \"import bokeh.io.notebook as ion; ion.destroy_server('\" + server_id + \"')\";\n",
       "      cell.notebook.kernel.execute(cmd);\n",
       "    }\n",
       "  }\n",
       "\n",
       "  /**\n",
       "   * Handle when a new output is added\n",
       "   */\n",
       "  function handleAddOutput(event, handle) {\n",
       "    var output_area = handle.output_area;\n",
       "    var output = handle.output;\n",
       "\n",
       "    // limit handleAddOutput to display_data with EXEC_MIME_TYPE content only\n",
       "    if ((output.output_type != \"display_data\") || (!Object.prototype.hasOwnProperty.call(output.data, EXEC_MIME_TYPE))) {\n",
       "      return\n",
       "    }\n",
       "\n",
       "    var toinsert = output_area.element.find(\".\" + CLASS_NAME.split(' ')[0]);\n",
       "\n",
       "    if (output.metadata[EXEC_MIME_TYPE][\"id\"] !== undefined) {\n",
       "      toinsert[toinsert.length - 1].firstChild.textContent = output.data[JS_MIME_TYPE];\n",
       "      // store reference to embed id on output_area\n",
       "      output_area._bokeh_element_id = output.metadata[EXEC_MIME_TYPE][\"id\"];\n",
       "    }\n",
       "    if (output.metadata[EXEC_MIME_TYPE][\"server_id\"] !== undefined) {\n",
       "      var bk_div = document.createElement(\"div\");\n",
       "      bk_div.innerHTML = output.data[HTML_MIME_TYPE];\n",
       "      var script_attrs = bk_div.children[0].attributes;\n",
       "      for (var i = 0; i < script_attrs.length; i++) {\n",
       "        toinsert[toinsert.length - 1].firstChild.setAttribute(script_attrs[i].name, script_attrs[i].value);\n",
       "        toinsert[toinsert.length - 1].firstChild.textContent = bk_div.children[0].textContent\n",
       "      }\n",
       "      // store reference to server id on output_area\n",
       "      output_area._bokeh_server_id = output.metadata[EXEC_MIME_TYPE][\"server_id\"];\n",
       "    }\n",
       "  }\n",
       "\n",
       "  function register_renderer(events, OutputArea) {\n",
       "\n",
       "    function append_mime(data, metadata, element) {\n",
       "      // create a DOM node to render to\n",
       "      var toinsert = this.create_output_subarea(\n",
       "        metadata,\n",
       "        CLASS_NAME,\n",
       "        EXEC_MIME_TYPE\n",
       "      );\n",
       "      this.keyboard_manager.register_events(toinsert);\n",
       "      // Render to node\n",
       "      var props = {data: data, metadata: metadata[EXEC_MIME_TYPE]};\n",
       "      render(props, toinsert[toinsert.length - 1]);\n",
       "      element.append(toinsert);\n",
       "      return toinsert\n",
       "    }\n",
       "\n",
       "    /* Handle when an output is cleared or removed */\n",
       "    events.on('clear_output.CodeCell', handleClearOutput);\n",
       "    events.on('delete.Cell', handleClearOutput);\n",
       "\n",
       "    /* Handle when a new output is added */\n",
       "    events.on('output_added.OutputArea', handleAddOutput);\n",
       "\n",
       "    /**\n",
       "     * Register the mime type and append_mime function with output_area\n",
       "     */\n",
       "    OutputArea.prototype.register_mime_type(EXEC_MIME_TYPE, append_mime, {\n",
       "      /* Is output safe? */\n",
       "      safe: true,\n",
       "      /* Index of renderer in `output_area.display_order` */\n",
       "      index: 0\n",
       "    });\n",
       "  }\n",
       "\n",
       "  // register the mime type if in Jupyter Notebook environment and previously unregistered\n",
       "  if (root.Jupyter !== undefined) {\n",
       "    var events = require('base/js/events');\n",
       "    var OutputArea = require('notebook/js/outputarea').OutputArea;\n",
       "\n",
       "    if (OutputArea.prototype.mime_types().indexOf(EXEC_MIME_TYPE) == -1) {\n",
       "      register_renderer(events, OutputArea);\n",
       "    }\n",
       "  }\n",
       "\n",
       "  \n",
       "  if (typeof (root._bokeh_timeout) === \"undefined\" || force === true) {\n",
       "    root._bokeh_timeout = Date.now() + 5000;\n",
       "    root._bokeh_failed_load = false;\n",
       "  }\n",
       "\n",
       "  var NB_LOAD_WARNING = {'data': {'text/html':\n",
       "     \"<div style='background-color: #fdd'>\\n\"+\n",
       "     \"<p>\\n\"+\n",
       "     \"BokehJS does not appear to have successfully loaded. If loading BokehJS from CDN, this \\n\"+\n",
       "     \"may be due to a slow or bad network connection. Possible fixes:\\n\"+\n",
       "     \"</p>\\n\"+\n",
       "     \"<ul>\\n\"+\n",
       "     \"<li>re-rerun `output_notebook()` to attempt to load from CDN again, or</li>\\n\"+\n",
       "     \"<li>use INLINE resources instead, as so:</li>\\n\"+\n",
       "     \"</ul>\\n\"+\n",
       "     \"<code>\\n\"+\n",
       "     \"from bokeh.resources import INLINE\\n\"+\n",
       "     \"output_notebook(resources=INLINE)\\n\"+\n",
       "     \"</code>\\n\"+\n",
       "     \"</div>\"}};\n",
       "\n",
       "  function display_loaded() {\n",
       "    var el = document.getElementById(\"1002\");\n",
       "    if (el != null) {\n",
       "      el.textContent = \"BokehJS is loading...\";\n",
       "    }\n",
       "    if (root.Bokeh !== undefined) {\n",
       "      if (el != null) {\n",
       "        el.textContent = \"BokehJS \" + root.Bokeh.version + \" successfully loaded.\";\n",
       "      }\n",
       "    } else if (Date.now() < root._bokeh_timeout) {\n",
       "      setTimeout(display_loaded, 100)\n",
       "    }\n",
       "  }\n",
       "\n",
       "\n",
       "  function run_callbacks() {\n",
       "    try {\n",
       "      root._bokeh_onload_callbacks.forEach(function(callback) {\n",
       "        if (callback != null)\n",
       "          callback();\n",
       "      });\n",
       "    } finally {\n",
       "      delete root._bokeh_onload_callbacks\n",
       "    }\n",
       "    console.debug(\"Bokeh: all callbacks have finished\");\n",
       "  }\n",
       "\n",
       "  function load_libs(css_urls, js_urls, callback) {\n",
       "    if (css_urls == null) css_urls = [];\n",
       "    if (js_urls == null) js_urls = [];\n",
       "\n",
       "    root._bokeh_onload_callbacks.push(callback);\n",
       "    if (root._bokeh_is_loading > 0) {\n",
       "      console.debug(\"Bokeh: BokehJS is being loaded, scheduling callback at\", now());\n",
       "      return null;\n",
       "    }\n",
       "    if (js_urls == null || js_urls.length === 0) {\n",
       "      run_callbacks();\n",
       "      return null;\n",
       "    }\n",
       "    console.debug(\"Bokeh: BokehJS not loaded, scheduling load and callback at\", now());\n",
       "    root._bokeh_is_loading = css_urls.length + js_urls.length;\n",
       "\n",
       "    function on_load() {\n",
       "      root._bokeh_is_loading--;\n",
       "      if (root._bokeh_is_loading === 0) {\n",
       "        console.debug(\"Bokeh: all BokehJS libraries/stylesheets loaded\");\n",
       "        run_callbacks()\n",
       "      }\n",
       "    }\n",
       "\n",
       "    function on_error(url) {\n",
       "      console.error(\"failed to load \" + url);\n",
       "    }\n",
       "\n",
       "    for (let i = 0; i < css_urls.length; i++) {\n",
       "      const url = css_urls[i];\n",
       "      const element = document.createElement(\"link\");\n",
       "      element.onload = on_load;\n",
       "      element.onerror = on_error.bind(null, url);\n",
       "      element.rel = \"stylesheet\";\n",
       "      element.type = \"text/css\";\n",
       "      element.href = url;\n",
       "      console.debug(\"Bokeh: injecting link tag for BokehJS stylesheet: \", url);\n",
       "      document.body.appendChild(element);\n",
       "    }\n",
       "\n",
       "    const hashes = {\"https://cdn.bokeh.org/bokeh/release/bokeh-2.3.1.min.js\": \"YF85VygJKMVnHE+lLv2AM93Vbstr0yo2TbIu5v8se5Rq3UQAUmcuh4aaJwNlpKwa\", \"https://cdn.bokeh.org/bokeh/release/bokeh-widgets-2.3.1.min.js\": \"KKuas3gevv3PvrlkyCMzffFeaMq5we/a2QsP5AUoS3mJ0jmaCL7jirFJN3GoE/lM\", \"https://cdn.bokeh.org/bokeh/release/bokeh-tables-2.3.1.min.js\": \"MK/uFc3YT18pkvvXRl66tTHjP0/dxoSH2e/eiNMFIguKlun2+WVqaPTWmUy/zvh4\"};\n",
       "\n",
       "    for (let i = 0; i < js_urls.length; i++) {\n",
       "      const url = js_urls[i];\n",
       "      const element = document.createElement('script');\n",
       "      element.onload = on_load;\n",
       "      element.onerror = on_error.bind(null, url);\n",
       "      element.async = false;\n",
       "      element.src = url;\n",
       "      if (url in hashes) {\n",
       "        element.crossOrigin = \"anonymous\";\n",
       "        element.integrity = \"sha384-\" + hashes[url];\n",
       "      }\n",
       "      console.debug(\"Bokeh: injecting script tag for BokehJS library: \", url);\n",
       "      document.head.appendChild(element);\n",
       "    }\n",
       "  };\n",
       "\n",
       "  function inject_raw_css(css) {\n",
       "    const element = document.createElement(\"style\");\n",
       "    element.appendChild(document.createTextNode(css));\n",
       "    document.body.appendChild(element);\n",
       "  }\n",
       "\n",
       "  \n",
       "  var js_urls = [\"https://cdn.bokeh.org/bokeh/release/bokeh-2.3.1.min.js\", \"https://cdn.bokeh.org/bokeh/release/bokeh-widgets-2.3.1.min.js\", \"https://cdn.bokeh.org/bokeh/release/bokeh-tables-2.3.1.min.js\"];\n",
       "  var css_urls = [];\n",
       "  \n",
       "\n",
       "  var inline_js = [\n",
       "    function(Bokeh) {\n",
       "      Bokeh.set_log_level(\"info\");\n",
       "    },\n",
       "    function(Bokeh) {\n",
       "    \n",
       "    \n",
       "    }\n",
       "  ];\n",
       "\n",
       "  function run_inline_js() {\n",
       "    \n",
       "    if (root.Bokeh !== undefined || force === true) {\n",
       "      \n",
       "    for (var i = 0; i < inline_js.length; i++) {\n",
       "      inline_js[i].call(root, root.Bokeh);\n",
       "    }\n",
       "    if (force === true) {\n",
       "        display_loaded();\n",
       "      }} else if (Date.now() < root._bokeh_timeout) {\n",
       "      setTimeout(run_inline_js, 100);\n",
       "    } else if (!root._bokeh_failed_load) {\n",
       "      console.log(\"Bokeh: BokehJS failed to load within specified timeout.\");\n",
       "      root._bokeh_failed_load = true;\n",
       "    } else if (force !== true) {\n",
       "      var cell = $(document.getElementById(\"1002\")).parents('.cell').data().cell;\n",
       "      cell.output_area.append_execute_result(NB_LOAD_WARNING)\n",
       "    }\n",
       "\n",
       "  }\n",
       "\n",
       "  if (root._bokeh_is_loading === 0) {\n",
       "    console.debug(\"Bokeh: BokehJS loaded, going straight to plotting\");\n",
       "    run_inline_js();\n",
       "  } else {\n",
       "    load_libs(css_urls, js_urls, function() {\n",
       "      console.debug(\"Bokeh: BokehJS plotting callback run at\", now());\n",
       "      run_inline_js();\n",
       "    });\n",
       "  }\n",
       "}(window));"
      ],
      "application/vnd.bokehjs_load.v0+json": "\n(function(root) {\n  function now() {\n    return new Date();\n  }\n\n  var force = true;\n\n  if (typeof root._bokeh_onload_callbacks === \"undefined\" || force === true) {\n    root._bokeh_onload_callbacks = [];\n    root._bokeh_is_loading = undefined;\n  }\n\n  \n\n  \n  if (typeof (root._bokeh_timeout) === \"undefined\" || force === true) {\n    root._bokeh_timeout = Date.now() + 5000;\n    root._bokeh_failed_load = false;\n  }\n\n  var NB_LOAD_WARNING = {'data': {'text/html':\n     \"<div style='background-color: #fdd'>\\n\"+\n     \"<p>\\n\"+\n     \"BokehJS does not appear to have successfully loaded. If loading BokehJS from CDN, this \\n\"+\n     \"may be due to a slow or bad network connection. Possible fixes:\\n\"+\n     \"</p>\\n\"+\n     \"<ul>\\n\"+\n     \"<li>re-rerun `output_notebook()` to attempt to load from CDN again, or</li>\\n\"+\n     \"<li>use INLINE resources instead, as so:</li>\\n\"+\n     \"</ul>\\n\"+\n     \"<code>\\n\"+\n     \"from bokeh.resources import INLINE\\n\"+\n     \"output_notebook(resources=INLINE)\\n\"+\n     \"</code>\\n\"+\n     \"</div>\"}};\n\n  function display_loaded() {\n    var el = document.getElementById(\"1002\");\n    if (el != null) {\n      el.textContent = \"BokehJS is loading...\";\n    }\n    if (root.Bokeh !== undefined) {\n      if (el != null) {\n        el.textContent = \"BokehJS \" + root.Bokeh.version + \" successfully loaded.\";\n      }\n    } else if (Date.now() < root._bokeh_timeout) {\n      setTimeout(display_loaded, 100)\n    }\n  }\n\n\n  function run_callbacks() {\n    try {\n      root._bokeh_onload_callbacks.forEach(function(callback) {\n        if (callback != null)\n          callback();\n      });\n    } finally {\n      delete root._bokeh_onload_callbacks\n    }\n    console.debug(\"Bokeh: all callbacks have finished\");\n  }\n\n  function load_libs(css_urls, js_urls, callback) {\n    if (css_urls == null) css_urls = [];\n    if (js_urls == null) js_urls = [];\n\n    root._bokeh_onload_callbacks.push(callback);\n    if (root._bokeh_is_loading > 0) {\n      console.debug(\"Bokeh: BokehJS is being loaded, scheduling callback at\", now());\n      return null;\n    }\n    if (js_urls == null || js_urls.length === 0) {\n      run_callbacks();\n      return null;\n    }\n    console.debug(\"Bokeh: BokehJS not loaded, scheduling load and callback at\", now());\n    root._bokeh_is_loading = css_urls.length + js_urls.length;\n\n    function on_load() {\n      root._bokeh_is_loading--;\n      if (root._bokeh_is_loading === 0) {\n        console.debug(\"Bokeh: all BokehJS libraries/stylesheets loaded\");\n        run_callbacks()\n      }\n    }\n\n    function on_error(url) {\n      console.error(\"failed to load \" + url);\n    }\n\n    for (let i = 0; i < css_urls.length; i++) {\n      const url = css_urls[i];\n      const element = document.createElement(\"link\");\n      element.onload = on_load;\n      element.onerror = on_error.bind(null, url);\n      element.rel = \"stylesheet\";\n      element.type = \"text/css\";\n      element.href = url;\n      console.debug(\"Bokeh: injecting link tag for BokehJS stylesheet: \", url);\n      document.body.appendChild(element);\n    }\n\n    const hashes = {\"https://cdn.bokeh.org/bokeh/release/bokeh-2.3.1.min.js\": \"YF85VygJKMVnHE+lLv2AM93Vbstr0yo2TbIu5v8se5Rq3UQAUmcuh4aaJwNlpKwa\", \"https://cdn.bokeh.org/bokeh/release/bokeh-widgets-2.3.1.min.js\": \"KKuas3gevv3PvrlkyCMzffFeaMq5we/a2QsP5AUoS3mJ0jmaCL7jirFJN3GoE/lM\", \"https://cdn.bokeh.org/bokeh/release/bokeh-tables-2.3.1.min.js\": \"MK/uFc3YT18pkvvXRl66tTHjP0/dxoSH2e/eiNMFIguKlun2+WVqaPTWmUy/zvh4\"};\n\n    for (let i = 0; i < js_urls.length; i++) {\n      const url = js_urls[i];\n      const element = document.createElement('script');\n      element.onload = on_load;\n      element.onerror = on_error.bind(null, url);\n      element.async = false;\n      element.src = url;\n      if (url in hashes) {\n        element.crossOrigin = \"anonymous\";\n        element.integrity = \"sha384-\" + hashes[url];\n      }\n      console.debug(\"Bokeh: injecting script tag for BokehJS library: \", url);\n      document.head.appendChild(element);\n    }\n  };\n\n  function inject_raw_css(css) {\n    const element = document.createElement(\"style\");\n    element.appendChild(document.createTextNode(css));\n    document.body.appendChild(element);\n  }\n\n  \n  var js_urls = [\"https://cdn.bokeh.org/bokeh/release/bokeh-2.3.1.min.js\", \"https://cdn.bokeh.org/bokeh/release/bokeh-widgets-2.3.1.min.js\", \"https://cdn.bokeh.org/bokeh/release/bokeh-tables-2.3.1.min.js\"];\n  var css_urls = [];\n  \n\n  var inline_js = [\n    function(Bokeh) {\n      Bokeh.set_log_level(\"info\");\n    },\n    function(Bokeh) {\n    \n    \n    }\n  ];\n\n  function run_inline_js() {\n    \n    if (root.Bokeh !== undefined || force === true) {\n      \n    for (var i = 0; i < inline_js.length; i++) {\n      inline_js[i].call(root, root.Bokeh);\n    }\n    if (force === true) {\n        display_loaded();\n      }} else if (Date.now() < root._bokeh_timeout) {\n      setTimeout(run_inline_js, 100);\n    } else if (!root._bokeh_failed_load) {\n      console.log(\"Bokeh: BokehJS failed to load within specified timeout.\");\n      root._bokeh_failed_load = true;\n    } else if (force !== true) {\n      var cell = $(document.getElementById(\"1002\")).parents('.cell').data().cell;\n      cell.output_area.append_execute_result(NB_LOAD_WARNING)\n    }\n\n  }\n\n  if (root._bokeh_is_loading === 0) {\n    console.debug(\"Bokeh: BokehJS loaded, going straight to plotting\");\n    run_inline_js();\n  } else {\n    load_libs(css_urls, js_urls, function() {\n      console.debug(\"Bokeh: BokehJS plotting callback run at\", now());\n      run_inline_js();\n    });\n  }\n}(window));"
     },
     "metadata": {},
     "output_type": "display_data"
    }
   ],
   "source": [
    "from backtesting.test import EURUSD, SMA\n",
    "\n",
    "def get_clean_data (df):\n",
    "    '''This function takes the historical OHLC data and return features as we defined above\n",
    "    \n",
    "    Parameters\n",
    "    ----------\n",
    "    df : DataFrame\n",
    "        Dataframe containing pricing data\n",
    "    start_date : str, optional\n",
    "        Takes start date of data for vix, format = 'yyyy-mm-dd'\n",
    "    end_date : str, optional\n",
    "        Takes ebd date of data for vix, format = 'yyyy-mm-dd'\n",
    "        \n",
    "    Returns\n",
    "    -------\n",
    "    pandas DataFrame containing scaled features except categorical features\n",
    "    '''\n",
    "    \n",
    "    features = df.copy()\n",
    "    # Some datetime features for good measure\n",
    "    features['X_day'] = features.index.dayofweek\n",
    "    features['X_hour'] = features.index.hour\n",
    "#     features = features.drop(['formatted_date'], axis=1)\n",
    "    #creating features as stated above\n",
    "    features['volume'] = features['volume'].shift(1)\n",
    "    close = features.close.values\n",
    "    sma10 = SMA(features.close, 10)\n",
    "    sma20 = SMA(features.close, 20)\n",
    "    sma50 = SMA(features.close, 50)\n",
    "    sma100 = SMA(features.close, 100)\n",
    "    upper, lower = BBANDS(features, 20, 2)\n",
    "#     upper, lower = BBANDS(features, 20, 2)\n",
    "\n",
    "    # Design matrix / independent features:\n",
    "\n",
    "    # Price-derived features\n",
    "    features['X_SMA10'] = (close - sma10) / close\n",
    "    features['X_SMA20'] = (close - sma20) / close\n",
    "    features['X_SMA50'] = (close - sma50) / close\n",
    "    features['X_SMA100'] = (close - sma100) / close\n",
    "\n",
    "    features['X_DELTA_SMA10'] = (sma10 - sma20) / close\n",
    "    features['X_DELTA_SMA20'] = (sma20 - sma50) / close\n",
    "    features['X_DELTA_SMA50'] = (sma50 - sma100) / close\n",
    "\n",
    "    # Indicator features\n",
    "    features['X_MOM'] = features.close.pct_change(periods=2)\n",
    "    features['X_BB_upper'] = (upper - close) / close\n",
    "    features['X_BB_lower'] = (lower - close) / close\n",
    "    features['X_BB_width'] = (upper - lower) / close\n",
    "    \n",
    "    \n",
    "    features['SMA'] = features['adjclose'].rolling(window=20).mean().shift(1)\n",
    "    features['Std_20'] = features['adjclose'].rolling(window=20).std().shift(1)\n",
    "    features['Band_1'] = features['SMA'] - features['Std_20']\n",
    "    features['Band_2'] = features['SMA'] + features['Std_20']\n",
    "    features['ON_returns'] = features['close'] - features['open'].shift(-1)\n",
    "    features['ON_returns'] = features['ON_returns'].shift(1)\n",
    "    features['ON_returns_signal'] = np.where(features['ON_returns']<0, 'up', 'down')\n",
    "    features['dist_from_mean'] = features['adjclose'].shift(1) - features['X_SMA10']\n",
    "    \n",
    "#     print('features\\n', features.head())\n",
    "    \n",
    "#     #Obtaining Vix Data and combining with existing features of stock\n",
    "#     ticker = ['^VIX']\n",
    "#     start_date = start_date\n",
    "#     end_date = end_date\n",
    "#     vix_data, ticker_not_found = get_stock_data(ticker, start_date, end_date)\n",
    "#     vix_data = pd.DataFrame(vix_data['adjclose'].shift(1))\n",
    "#     vix_data = vix_data.rename(columns = {'adjclose':'vix_data'})\n",
    "#     comb_features = pd.concat([features,vix_data], axis=1)\n",
    "#     comb_features = comb_features.dropna() #dropping NaN values\n",
    "    comb_features = pd.get_dummies(features, columns=['ON_returns_signal']) #for categorical variables\n",
    "    comb_features = comb_features.drop('ON_returns', axis=1) #dropping original categorical column\n",
    "    comb_features = comb_features.drop('close', axis=1) #not really needed this value since we have adj close now\n",
    "    ###Create return column to predict\n",
    "    comb_features['stock_move'] = np.where(comb_features['adjclose']-\n",
    "                                           comb_features['adjclose'].shift(-1)<0, \"Buy\", \"Sell\")\n",
    "    features_clean = comb_features.dropna() #Dropping Nan values\n",
    "    features_clean = features_clean[:-1] #Drop last row which do not have any stock signal\n",
    "    features_clean.tail()\n",
    "    return features_clean"
   ]
  },
  {
   "cell_type": "code",
   "execution_count": 18,
   "metadata": {},
   "outputs": [],
   "source": [
    "features = get_clean_data(df)\n",
    "\n"
   ]
  },
  {
   "cell_type": "code",
   "execution_count": 19,
   "metadata": {},
   "outputs": [],
   "source": [
    "## Drop Unnecessary Values\n",
    "features.drop(['ON_returns_signal_down','ON_returns_signal_up'], axis=1, inplace=True)"
   ]
  },
  {
   "cell_type": "code",
   "execution_count": 20,
   "metadata": {},
   "outputs": [
    {
     "data": {
      "text/html": [
       "<div>\n",
       "<style scoped>\n",
       "    .dataframe tbody tr th:only-of-type {\n",
       "        vertical-align: middle;\n",
       "    }\n",
       "\n",
       "    .dataframe tbody tr th {\n",
       "        vertical-align: top;\n",
       "    }\n",
       "\n",
       "    .dataframe thead th {\n",
       "        text-align: right;\n",
       "    }\n",
       "</style>\n",
       "<table border=\"1\" class=\"dataframe\">\n",
       "  <thead>\n",
       "    <tr style=\"text-align: right;\">\n",
       "      <th></th>\n",
       "      <th>open</th>\n",
       "      <th>high</th>\n",
       "      <th>low</th>\n",
       "      <th>volume</th>\n",
       "      <th>adjclose</th>\n",
       "      <th>X_day</th>\n",
       "      <th>X_hour</th>\n",
       "      <th>X_SMA10</th>\n",
       "      <th>X_SMA20</th>\n",
       "      <th>X_SMA50</th>\n",
       "      <th>...</th>\n",
       "      <th>X_MOM</th>\n",
       "      <th>X_BB_upper</th>\n",
       "      <th>X_BB_lower</th>\n",
       "      <th>X_BB_width</th>\n",
       "      <th>SMA</th>\n",
       "      <th>Std_20</th>\n",
       "      <th>Band_1</th>\n",
       "      <th>Band_2</th>\n",
       "      <th>dist_from_mean</th>\n",
       "      <th>stock_move</th>\n",
       "    </tr>\n",
       "    <tr>\n",
       "      <th>time</th>\n",
       "      <th></th>\n",
       "      <th></th>\n",
       "      <th></th>\n",
       "      <th></th>\n",
       "      <th></th>\n",
       "      <th></th>\n",
       "      <th></th>\n",
       "      <th></th>\n",
       "      <th></th>\n",
       "      <th></th>\n",
       "      <th></th>\n",
       "      <th></th>\n",
       "      <th></th>\n",
       "      <th></th>\n",
       "      <th></th>\n",
       "      <th></th>\n",
       "      <th></th>\n",
       "      <th></th>\n",
       "      <th></th>\n",
       "      <th></th>\n",
       "      <th></th>\n",
       "    </tr>\n",
       "  </thead>\n",
       "  <tbody>\n",
       "    <tr>\n",
       "      <th>2021-05-13 11:15:00</th>\n",
       "      <td>19.02</td>\n",
       "      <td>19.04</td>\n",
       "      <td>18.77</td>\n",
       "      <td>2599852.00</td>\n",
       "      <td>18.80</td>\n",
       "      <td>3</td>\n",
       "      <td>11</td>\n",
       "      <td>0.01</td>\n",
       "      <td>0.02</td>\n",
       "      <td>0.02</td>\n",
       "      <td>...</td>\n",
       "      <td>0.01</td>\n",
       "      <td>0.01</td>\n",
       "      <td>-0.04</td>\n",
       "      <td>0.05</td>\n",
       "      <td>18.38</td>\n",
       "      <td>0.19</td>\n",
       "      <td>18.20</td>\n",
       "      <td>18.57</td>\n",
       "      <td>18.67</td>\n",
       "      <td>Buy</td>\n",
       "    </tr>\n",
       "    <tr>\n",
       "      <th>2021-05-13 11:00:00</th>\n",
       "      <td>18.98</td>\n",
       "      <td>19.16</td>\n",
       "      <td>18.94</td>\n",
       "      <td>2361531.00</td>\n",
       "      <td>19.02</td>\n",
       "      <td>3</td>\n",
       "      <td>11</td>\n",
       "      <td>0.02</td>\n",
       "      <td>0.03</td>\n",
       "      <td>0.03</td>\n",
       "      <td>...</td>\n",
       "      <td>0.02</td>\n",
       "      <td>-0.00</td>\n",
       "      <td>-0.06</td>\n",
       "      <td>0.06</td>\n",
       "      <td>18.40</td>\n",
       "      <td>0.21</td>\n",
       "      <td>18.20</td>\n",
       "      <td>18.61</td>\n",
       "      <td>18.77</td>\n",
       "      <td>Sell</td>\n",
       "    </tr>\n",
       "    <tr>\n",
       "      <th>2021-05-13 10:45:00</th>\n",
       "      <td>19.25</td>\n",
       "      <td>19.30</td>\n",
       "      <td>18.98</td>\n",
       "      <td>2470272.00</td>\n",
       "      <td>18.99</td>\n",
       "      <td>3</td>\n",
       "      <td>10</td>\n",
       "      <td>0.02</td>\n",
       "      <td>0.03</td>\n",
       "      <td>0.03</td>\n",
       "      <td>...</td>\n",
       "      <td>0.01</td>\n",
       "      <td>0.01</td>\n",
       "      <td>-0.06</td>\n",
       "      <td>0.06</td>\n",
       "      <td>18.44</td>\n",
       "      <td>0.25</td>\n",
       "      <td>18.19</td>\n",
       "      <td>18.68</td>\n",
       "      <td>19.00</td>\n",
       "      <td>Buy</td>\n",
       "    </tr>\n",
       "    <tr>\n",
       "      <th>2021-05-13 10:30:00</th>\n",
       "      <td>19.40</td>\n",
       "      <td>19.46</td>\n",
       "      <td>19.16</td>\n",
       "      <td>2959161.00</td>\n",
       "      <td>19.24</td>\n",
       "      <td>3</td>\n",
       "      <td>10</td>\n",
       "      <td>0.03</td>\n",
       "      <td>0.04</td>\n",
       "      <td>0.04</td>\n",
       "      <td>...</td>\n",
       "      <td>0.01</td>\n",
       "      <td>-0.00</td>\n",
       "      <td>-0.07</td>\n",
       "      <td>0.07</td>\n",
       "      <td>18.46</td>\n",
       "      <td>0.28</td>\n",
       "      <td>18.19</td>\n",
       "      <td>18.74</td>\n",
       "      <td>18.96</td>\n",
       "      <td>Buy</td>\n",
       "    </tr>\n",
       "    <tr>\n",
       "      <th>2021-05-13 10:15:00</th>\n",
       "      <td>19.18</td>\n",
       "      <td>19.47</td>\n",
       "      <td>19.17</td>\n",
       "      <td>3456670.00</td>\n",
       "      <td>19.39</td>\n",
       "      <td>3</td>\n",
       "      <td>10</td>\n",
       "      <td>0.03</td>\n",
       "      <td>0.04</td>\n",
       "      <td>0.05</td>\n",
       "      <td>...</td>\n",
       "      <td>0.02</td>\n",
       "      <td>-0.00</td>\n",
       "      <td>-0.08</td>\n",
       "      <td>0.08</td>\n",
       "      <td>18.51</td>\n",
       "      <td>0.33</td>\n",
       "      <td>18.18</td>\n",
       "      <td>18.83</td>\n",
       "      <td>19.21</td>\n",
       "      <td>Sell</td>\n",
       "    </tr>\n",
       "  </tbody>\n",
       "</table>\n",
       "<p>5 rows × 24 columns</p>\n",
       "</div>"
      ],
      "text/plain": [
       "                     open  high   low     volume  adjclose  X_day  X_hour  \\\n",
       "time                                                                        \n",
       "2021-05-13 11:15:00 19.02 19.04 18.77 2599852.00     18.80      3      11   \n",
       "2021-05-13 11:00:00 18.98 19.16 18.94 2361531.00     19.02      3      11   \n",
       "2021-05-13 10:45:00 19.25 19.30 18.98 2470272.00     18.99      3      10   \n",
       "2021-05-13 10:30:00 19.40 19.46 19.16 2959161.00     19.24      3      10   \n",
       "2021-05-13 10:15:00 19.18 19.47 19.17 3456670.00     19.39      3      10   \n",
       "\n",
       "                     X_SMA10  X_SMA20  X_SMA50  ...  X_MOM  X_BB_upper  \\\n",
       "time                                            ...                      \n",
       "2021-05-13 11:15:00     0.01     0.02     0.02  ...   0.01        0.01   \n",
       "2021-05-13 11:00:00     0.02     0.03     0.03  ...   0.02       -0.00   \n",
       "2021-05-13 10:45:00     0.02     0.03     0.03  ...   0.01        0.01   \n",
       "2021-05-13 10:30:00     0.03     0.04     0.04  ...   0.01       -0.00   \n",
       "2021-05-13 10:15:00     0.03     0.04     0.05  ...   0.02       -0.00   \n",
       "\n",
       "                     X_BB_lower  X_BB_width   SMA  Std_20  Band_1  Band_2  \\\n",
       "time                                                                        \n",
       "2021-05-13 11:15:00       -0.04        0.05 18.38    0.19   18.20   18.57   \n",
       "2021-05-13 11:00:00       -0.06        0.06 18.40    0.21   18.20   18.61   \n",
       "2021-05-13 10:45:00       -0.06        0.06 18.44    0.25   18.19   18.68   \n",
       "2021-05-13 10:30:00       -0.07        0.07 18.46    0.28   18.19   18.74   \n",
       "2021-05-13 10:15:00       -0.08        0.08 18.51    0.33   18.18   18.83   \n",
       "\n",
       "                     dist_from_mean  stock_move  \n",
       "time                                             \n",
       "2021-05-13 11:15:00           18.67         Buy  \n",
       "2021-05-13 11:00:00           18.77        Sell  \n",
       "2021-05-13 10:45:00           19.00         Buy  \n",
       "2021-05-13 10:30:00           18.96         Buy  \n",
       "2021-05-13 10:15:00           19.21        Sell  \n",
       "\n",
       "[5 rows x 24 columns]"
      ]
     },
     "execution_count": 20,
     "metadata": {},
     "output_type": "execute_result"
    }
   ],
   "source": [
    "features.head()"
   ]
  },
  {
   "cell_type": "code",
   "execution_count": null,
   "metadata": {},
   "outputs": [],
   "source": []
  },
  {
   "cell_type": "markdown",
   "metadata": {},
   "source": [
    "## Correlation Heatmap "
   ]
  },
  {
   "cell_type": "code",
   "execution_count": 21,
   "metadata": {},
   "outputs": [
    {
     "data": {
      "image/png": "[encoded data removed]",
      "text/plain": [
       "<Figure size 1296x432 with 2 Axes>"
      ]
     },
     "metadata": {
      "needs_background": "light"
     },
     "output_type": "display_data"
    }
   ],
   "source": [
    "\n",
    "corr_table = features.drop(['high', 'low'], axis=1).corr()\n",
    "fig, ax = plt.subplots(figsize=(18,6))\n",
    "sns.heatmap(corr_table, annot = True, ax=ax, cmap=\"YlGnBu\")\n",
    "plt.show()"
   ]
  },
  {
   "cell_type": "code",
   "execution_count": null,
   "metadata": {},
   "outputs": [],
   "source": []
  },
  {
   "cell_type": "code",
   "execution_count": null,
   "metadata": {},
   "outputs": [],
   "source": []
  },
  {
   "cell_type": "code",
   "execution_count": null,
   "metadata": {},
   "outputs": [],
   "source": []
  },
  {
   "cell_type": "markdown",
   "metadata": {},
   "source": [
    "## Data Cleaning"
   ]
  },
  {
   "cell_type": "code",
   "execution_count": 10,
   "metadata": {},
   "outputs": [],
   "source": [
    "import numpy as np\n",
    "\n",
    "\n",
    "def get_X(data):\n",
    "    \"\"\"Return model design matrix X\"\"\"\n",
    "    return data.filter(like='X').values\n",
    "\n",
    "\n",
    "def get_y(data):\n",
    "    \"\"\"Return dependent variable y\"\"\"\n",
    "    y = data.adjclose.pct_change(48).shift(-48)  # Returns after roughly two days\n",
    "    y[y.between(-.004, .004)] = 0             # Devalue returns smaller than 0.4%\n",
    "    y[y > 0] = 1\n",
    "    y[y < 0] = -1\n",
    "    return y\n",
    "\n",
    "\n",
    "def get_clean_Xy(df):\n",
    "    \"\"\"Return (X, y) cleaned of NaN values\"\"\"\n",
    "    X = get_X(df)\n",
    "    y = get_y(df).values\n",
    "    isnan = np.isnan(y)\n",
    "    X = X[~isnan]\n",
    "    y = y[~isnan]\n",
    "    return X, y"
   ]
  },
  {
   "cell_type": "markdown",
   "metadata": {},
   "source": [
    "### Label Encoder"
   ]
  },
  {
   "cell_type": "code",
   "execution_count": 11,
   "metadata": {},
   "outputs": [],
   "source": [
    "from sklearn.preprocessing import LabelEncoder \n",
    "labelencoder= LabelEncoder() #initializing an object of class LabelEncoder\n",
    "features['stock_move'] = labelencoder.fit_transform(features['stock_move']) "
   ]
  },
  {
   "cell_type": "markdown",
   "metadata": {},
   "source": [
    "## Train Test Split "
   ]
  },
  {
   "cell_type": "code",
   "execution_count": 12,
   "metadata": {},
   "outputs": [],
   "source": [
    "from sklearn.model_selection import train_test_split\n",
    "\n",
    "np.random.seed(60)\n",
    "\n",
    "# X = features.drop(['stock_move'], axis=1)\n",
    "# y = features['stock_move']\n",
    "\n",
    "X, y = get_clean_Xy(features)\n",
    "X_train, X_test, y_train, y_test = train_test_split(X, y, test_size=.5, random_state=0)\n"
   ]
  },
  {
   "cell_type": "markdown",
   "metadata": {},
   "source": [
    "## Scale Data "
   ]
  },
  {
   "cell_type": "code",
   "execution_count": 13,
   "metadata": {},
   "outputs": [],
   "source": [
    "from sklearn.preprocessing import RobustScaler, MinMaxScaler, StandardScaler\n",
    "\n",
    "robust = RobustScaler()\n",
    "\n",
    "X_train = robust.fit_transform(X_train)\n",
    "X_test = robust.transform(X_test)\n",
    "#Scale the features\n",
    "# scaler = MinMaxScaler()\n",
    "# X_train = scaler.fit_transform(X_train)\n",
    "# X_test = scaler.transform(X_test)\n",
    "\n",
    "# scaler = StandardScaler()\n",
    "# X_train = scaler.fit_transform(X_train)\n",
    "# X_test = scaler.transform(X_test)\n",
    "\n"
   ]
  },
  {
   "cell_type": "code",
   "execution_count": null,
   "metadata": {},
   "outputs": [],
   "source": []
  },
  {
   "cell_type": "markdown",
   "metadata": {},
   "source": [
    "## Instantiate & Create A Series of Classifiers"
   ]
  },
  {
   "cell_type": "code",
   "execution_count": 14,
   "metadata": {
    "scrolled": true
   },
   "outputs": [
    {
     "name": "stderr",
     "output_type": "stream",
     "text": [
      "  3%|▎         | 1/29 [00:01<00:40,  1.46s/it]"
     ]
    },
    {
     "name": "stdout",
     "output_type": "stream",
     "text": [
      "ROC AUC couldn't be calculated for AdaBoostClassifier\n",
      "multi_class must be in ('ovo', 'ovr')\n"
     ]
    },
    {
     "name": "stderr",
     "output_type": "stream",
     "text": [
      "\r",
      "  7%|▋         | 2/29 [00:03<00:41,  1.53s/it]"
     ]
    },
    {
     "name": "stdout",
     "output_type": "stream",
     "text": [
      "ROC AUC couldn't be calculated for BaggingClassifier\n",
      "multi_class must be in ('ovo', 'ovr')\n",
      "ROC AUC couldn't be calculated for BernoulliNB\n",
      "multi_class must be in ('ovo', 'ovr')\n"
     ]
    },
    {
     "name": "stderr",
     "output_type": "stream",
     "text": [
      " 21%|██        | 6/29 [00:12<00:42,  1.85s/it]"
     ]
    },
    {
     "name": "stdout",
     "output_type": "stream",
     "text": [
      "ROC AUC couldn't be calculated for CalibratedClassifierCV\n",
      "multi_class must be in ('ovo', 'ovr')\n",
      "CategoricalNB model failed to execute\n",
      "Negative values in data passed to CategoricalNB (input X)\n",
      "ROC AUC couldn't be calculated for DecisionTreeClassifier\n",
      "multi_class must be in ('ovo', 'ovr')\n",
      "ROC AUC couldn't be calculated for DummyClassifier\n",
      "multi_class must be in ('ovo', 'ovr')\n"
     ]
    },
    {
     "name": "stderr",
     "output_type": "stream",
     "text": [
      "\r",
      " 28%|██▊       | 8/29 [00:12<00:23,  1.13s/it]"
     ]
    },
    {
     "name": "stdout",
     "output_type": "stream",
     "text": [
      "ROC AUC couldn't be calculated for ExtraTreeClassifier\n",
      "multi_class must be in ('ovo', 'ovr')\n"
     ]
    },
    {
     "name": "stderr",
     "output_type": "stream",
     "text": [
      "\r",
      " 31%|███       | 9/29 [00:13<00:22,  1.10s/it]"
     ]
    },
    {
     "name": "stdout",
     "output_type": "stream",
     "text": [
      "ROC AUC couldn't be calculated for ExtraTreesClassifier\n",
      "multi_class must be in ('ovo', 'ovr')\n",
      "ROC AUC couldn't be calculated for GaussianNB\n",
      "multi_class must be in ('ovo', 'ovr')\n"
     ]
    },
    {
     "name": "stderr",
     "output_type": "stream",
     "text": [
      "\r",
      " 38%|███▊      | 11/29 [00:14<00:14,  1.24it/s]"
     ]
    },
    {
     "name": "stdout",
     "output_type": "stream",
     "text": [
      "ROC AUC couldn't be calculated for KNeighborsClassifier\n",
      "multi_class must be in ('ovo', 'ovr')\n"
     ]
    },
    {
     "name": "stderr",
     "output_type": "stream",
     "text": [
      "\r",
      " 41%|████▏     | 12/29 [00:33<01:23,  4.93s/it]"
     ]
    },
    {
     "name": "stdout",
     "output_type": "stream",
     "text": [
      "ROC AUC couldn't be calculated for LabelPropagation\n",
      "multi_class must be in ('ovo', 'ovr')\n"
     ]
    },
    {
     "name": "stderr",
     "output_type": "stream",
     "text": [
      "\r",
      " 45%|████▍     | 13/29 [00:35<01:07,  4.22s/it]"
     ]
    },
    {
     "name": "stdout",
     "output_type": "stream",
     "text": [
      "ROC AUC couldn't be calculated for LabelSpreading\n",
      "multi_class must be in ('ovo', 'ovr')\n",
      "ROC AUC couldn't be calculated for LinearDiscriminantAnalysis\n",
      "multi_class must be in ('ovo', 'ovr')\n"
     ]
    },
    {
     "name": "stderr",
     "output_type": "stream",
     "text": [
      "\r",
      " 52%|█████▏    | 15/29 [00:38<00:44,  3.15s/it]"
     ]
    },
    {
     "name": "stdout",
     "output_type": "stream",
     "text": [
      "ROC AUC couldn't be calculated for LinearSVC\n",
      "multi_class must be in ('ovo', 'ovr')\n"
     ]
    },
    {
     "name": "stderr",
     "output_type": "stream",
     "text": [
      " 62%|██████▏   | 18/29 [00:39<00:17,  1.61s/it]"
     ]
    },
    {
     "name": "stdout",
     "output_type": "stream",
     "text": [
      "ROC AUC couldn't be calculated for LogisticRegression\n",
      "multi_class must be in ('ovo', 'ovr')\n",
      "ROC AUC couldn't be calculated for NearestCentroid\n",
      "multi_class must be in ('ovo', 'ovr')\n",
      "NuSVC model failed to execute\n",
      "specified nu is infeasible\n"
     ]
    },
    {
     "name": "stderr",
     "output_type": "stream",
     "text": [
      "\r",
      " 66%|██████▌   | 19/29 [00:39<00:12,  1.29s/it]"
     ]
    },
    {
     "name": "stdout",
     "output_type": "stream",
     "text": [
      "ROC AUC couldn't be calculated for PassiveAggressiveClassifier\n",
      "multi_class must be in ('ovo', 'ovr')\n"
     ]
    },
    {
     "name": "stderr",
     "output_type": "stream",
     "text": [
      "\r",
      " 69%|██████▉   | 20/29 [00:40<00:09,  1.04s/it]"
     ]
    },
    {
     "name": "stdout",
     "output_type": "stream",
     "text": [
      "ROC AUC couldn't be calculated for Perceptron\n",
      "multi_class must be in ('ovo', 'ovr')\n"
     ]
    },
    {
     "name": "stderr",
     "output_type": "stream",
     "text": [
      "\r",
      " 72%|███████▏  | 21/29 [00:40<00:06,  1.14it/s]"
     ]
    },
    {
     "name": "stdout",
     "output_type": "stream",
     "text": [
      "ROC AUC couldn't be calculated for QuadraticDiscriminantAnalysis\n",
      "multi_class must be in ('ovo', 'ovr')\n"
     ]
    },
    {
     "name": "stderr",
     "output_type": "stream",
     "text": [
      " 83%|████████▎ | 24/29 [00:43<00:04,  1.17it/s]"
     ]
    },
    {
     "name": "stdout",
     "output_type": "stream",
     "text": [
      "ROC AUC couldn't be calculated for RandomForestClassifier\n",
      "multi_class must be in ('ovo', 'ovr')\n",
      "ROC AUC couldn't be calculated for RidgeClassifier\n",
      "multi_class must be in ('ovo', 'ovr')\n",
      "ROC AUC couldn't be calculated for RidgeClassifierCV\n",
      "multi_class must be in ('ovo', 'ovr')\n"
     ]
    },
    {
     "name": "stderr",
     "output_type": "stream",
     "text": [
      "\r",
      " 86%|████████▌ | 25/29 [00:43<00:02,  1.46it/s]"
     ]
    },
    {
     "name": "stdout",
     "output_type": "stream",
     "text": [
      "ROC AUC couldn't be calculated for SGDClassifier\n",
      "multi_class must be in ('ovo', 'ovr')\n"
     ]
    },
    {
     "name": "stderr",
     "output_type": "stream",
     "text": [
      "\r",
      " 90%|████████▉ | 26/29 [00:46<00:03,  1.06s/it]"
     ]
    },
    {
     "name": "stdout",
     "output_type": "stream",
     "text": [
      "ROC AUC couldn't be calculated for SVC\n",
      "multi_class must be in ('ovo', 'ovr')\n",
      "StackingClassifier model failed to execute\n",
      "__init__() missing 1 required positional argument: 'estimators'\n"
     ]
    },
    {
     "name": "stderr",
     "output_type": "stream",
     "text": [
      "\r",
      " 97%|█████████▋| 28/29 [01:22<00:08,  8.18s/it]"
     ]
    },
    {
     "name": "stdout",
     "output_type": "stream",
     "text": [
      "ROC AUC couldn't be calculated for XGBClassifier\n",
      "multi_class must be in ('ovo', 'ovr')\n"
     ]
    },
    {
     "name": "stderr",
     "output_type": "stream",
     "text": [
      "100%|██████████| 29/29 [02:40<00:00,  5.54s/it]"
     ]
    },
    {
     "name": "stdout",
     "output_type": "stream",
     "text": [
      "ROC AUC couldn't be calculated for LGBMClassifier\n",
      "multi_class must be in ('ovo', 'ovr')\n"
     ]
    },
    {
     "name": "stderr",
     "output_type": "stream",
     "text": [
      "\n"
     ]
    }
   ],
   "source": [
    "# LazyClassifier Instance and fiting data\n",
    "cls= LazyClassifier(ignore_warnings=False, custom_metric=None)\n",
    "models = cls.fit(X_train, X_test, y_train, y_test)"
   ]
  },
  {
   "cell_type": "code",
   "execution_count": 15,
   "metadata": {
    "scrolled": true
   },
   "outputs": [
    {
     "ename": "NameError",
     "evalue": "name 'predictions' is not defined",
     "output_type": "error",
     "traceback": [
      "\u001b[0;31m---------------------------------------------------------------------------\u001b[0m",
      "\u001b[0;31mNameError\u001b[0m                                 Traceback (most recent call last)",
      "\u001b[0;32m<ipython-input-15-fd2951b82103>\u001b[0m in \u001b[0;36m<module>\u001b[0;34m\u001b[0m\n\u001b[0;32m----> 1\u001b[0;31m \u001b[0mpredictions\u001b[0m\u001b[0;34m\u001b[0m\u001b[0;34m\u001b[0m\u001b[0m\n\u001b[0m",
      "\u001b[0;31mNameError\u001b[0m: name 'predictions' is not defined"
     ]
    }
   ],
   "source": [
    "predictions"
   ]
  },
  {
   "cell_type": "code",
   "execution_count": null,
   "metadata": {},
   "outputs": [],
   "source": [
    "print(models)"
   ]
  },
  {
   "cell_type": "markdown",
   "metadata": {},
   "source": [
    "## KFold Cross Validation "
   ]
  },
  {
   "cell_type": "code",
   "execution_count": null,
   "metadata": {},
   "outputs": [],
   "source": [
    "from sklearn.model_selection import KFold, StratifiedKFold, train_test_split, cross_validate, cross_val_score"
   ]
  },
  {
   "cell_type": "code",
   "execution_count": null,
   "metadata": {},
   "outputs": [],
   "source": [
    "from sklearn.ensemble import RandomForestClassifier, ExtraTreesClassifier\n",
    "\n",
    "rfc = RandomForestClassifier()\n",
    "etc = ExtraTreesClassifier()\n",
    "\n",
    "kf5 = KFold(n_splits=5, shuffle=False)\n",
    "kf3 = KFold(n_splits=3, shuffle=False)"
   ]
  },
  {
   "cell_type": "code",
   "execution_count": null,
   "metadata": {},
   "outputs": [],
   "source": [
    "feats = features.drop('stock_move', axis=1)\n",
    "feats.head(1)"
   ]
  },
  {
   "cell_type": "code",
   "execution_count": null,
   "metadata": {},
   "outputs": [],
   "source": [
    "cv = KFold(n_splits=10, random_state=1, shuffle=True)\n",
    "\n",
    "scores = cross_val_score(etc, X_train, y_train, scoring='accuracy', cv=cv, n_jobs=-1)\n",
    "\n",
    "print(np.mean(scores), np.std(scores))"
   ]
  },
  {
   "cell_type": "markdown",
   "metadata": {},
   "source": [
    "## Hyperperamater Tuning "
   ]
  },
  {
   "cell_type": "code",
   "execution_count": null,
   "metadata": {},
   "outputs": [],
   "source": [
    "# !pip install bayes_opt"
   ]
  },
  {
   "cell_type": "code",
   "execution_count": null,
   "metadata": {},
   "outputs": [],
   "source": [
    "from sklearn.model_selection import RandomizedSearchCV, GridSearchCV\n",
    "from bayes_opt import BayesianOptimization\n",
    "\n",
    "# Different RandomForestClassifier hyperparameters\n",
    "rf_grid = {\"n_estimators\": np.arange(10, 1000, 50),\n",
    "           \"max_depth\": [None, 3, 5, 10],\n",
    "           \"min_samples_split\": np.arange(2, 20, 2),\n",
    "           \"min_samples_leaf\": np.arange(1, 20, 2)}\n",
    "\n",
    "# Different RandomForestClassifier hyperparameters\n",
    "etc_grid = {\"n_estimators\": np.arange(10, 1000, 50),\n",
    "           \"max_depth\": [None, 3, 5, 10],\n",
    "           \"min_samples_split\": np.arange(2, 20, 2),\n",
    "           \"min_samples_leaf\": np.arange(1, 20, 2)}\n",
    "\n",
    "\n"
   ]
  },
  {
   "cell_type": "markdown",
   "metadata": {},
   "source": [
    "### Randomized Search"
   ]
  },
  {
   "cell_type": "code",
   "execution_count": null,
   "metadata": {},
   "outputs": [],
   "source": [
    "etc = RandomizedSearchCV(ExtraTreesClassifier(),\n",
    "                           param_distributions=etc_grid,\n",
    "                           cv=5,\n",
    "                           n_iter=50,\n",
    "                           verbose=True,\n",
    "                           n_jobs=-1\n",
    "                        )\n",
    "\n",
    "# accuracy ={}\n",
    "# for i in range(1,300):\n",
    "#     classifier = RandomForestClassifier(n_estimators=i, random_state=15)\n",
    "#     classifier.fit(X_train, y_train)\n",
    "#     y_pred_ev = classifier.predict(X_test)\n",
    "#     accuracy[i] = accuracy_score(y_test, y_pred_ev)\n",
    "\n",
    "# Fit random hyperparameter search model\n",
    "etc.fit(X_train, y_train);"
   ]
  },
  {
   "cell_type": "code",
   "execution_count": null,
   "metadata": {
    "scrolled": true
   },
   "outputs": [],
   "source": [
    "# Setup random seed\n",
    "np.random.seed(42)\n",
    "\n",
    "# Setup random hyperparameter search for RandomForestClassifier\n",
    "rfc = RandomizedSearchCV(RandomForestClassifier(),\n",
    "                           param_distributions=rf_grid,\n",
    "                           cv=5,\n",
    "                           n_iter=50,\n",
    "                           verbose=True,\n",
    "                           n_jobs=-1)\n",
    "\n",
    "# accuracy ={}\n",
    "# for i in range(1,300):\n",
    "#     classifier = RandomForestClassifier(n_estimators=i, random_state=15)\n",
    "#     classifier.fit(X_train, y_train)\n",
    "#     y_pred_ev = classifier.predict(X_test)\n",
    "#     accuracy[i] = accuracy_score(y_test, y_pred_ev)\n",
    "\n",
    "# Fit random hyperparameter search model\n",
    "rfc.fit(X_train, y_train);"
   ]
  },
  {
   "cell_type": "code",
   "execution_count": null,
   "metadata": {},
   "outputs": [],
   "source": [
    "# check best params \n",
    "\n",
    "etc.best_params_"
   ]
  },
  {
   "cell_type": "code",
   "execution_count": null,
   "metadata": {},
   "outputs": [],
   "source": [
    "rfc.best_params_"
   ]
  },
  {
   "cell_type": "markdown",
   "metadata": {},
   "source": [
    "## Bayesian Optimization "
   ]
  },
  {
   "cell_type": "code",
   "execution_count": 250,
   "metadata": {},
   "outputs": [],
   "source": [
    "from hyperopt import hp, tpe, fmin, Trials, STATUS_OK\n",
    "from sklearn.ensemble.forest import RandomForestClassifier\n",
    "from sklearn.preprocessing import scale, normalize\n",
    "from sklearn.model_selection import cross_val_score"
   ]
  },
  {
   "cell_type": "markdown",
   "metadata": {},
   "source": [
    "## Create Trials "
   ]
  },
  {
   "cell_type": "code",
   "execution_count": 271,
   "metadata": {},
   "outputs": [],
   "source": [
    "from bayes_opt import BayesianOptimization\n",
    "from sklearn.model_selection import cross_val_score\n",
    "from sklearn.ensemble import RandomForestClassifier\n",
    "\n",
    "#General function for building a model\n",
    "def rf_cv(X, y, **kwargs):\n",
    "    estimator = RandomForestClassifier(**kwargs)\n",
    "    cval = cross_val_score(etc, X_train, y_train, scoring='accuracy', cv=cv, n_jobs=-1)\n",
    "    return cval.mean()\n",
    "\n",
    "\n",
    "def bayesian_optimise_rf(X, y, n_iter = 100):\n",
    "    def rf_crossval(n_estimators, max_features):\n",
    "        #Wrapper of RandomForest cross validation.\n",
    "        #Note the fixing of the inputs so they match the expected type\n",
    "        #(e.g n_estimators must be an integer)\n",
    "        return rf_cv(\n",
    "            X = X,\n",
    "            y = y,\n",
    "            n_estimators = int(n_estimators),\n",
    "            max_features = max(min(max_features, 0.999), 1e-3),\n",
    "            bootstrap = True\n",
    "        )\n",
    "    \n",
    "    optimizer = BayesianOptimization(\n",
    "        f = rf_crossval,\n",
    "        pbounds = {\n",
    "            \"n_estimators\" : (10, 400),\n",
    "            \"max_features\" : (0.1, 0.999),\n",
    "        }\n",
    "    )\n",
    "    optimizer.maximize(n_iter = n_iter)\n",
    "    print(\"Final result:\", optimizer.max)"
   ]
  },
  {
   "cell_type": "code",
   "execution_count": null,
   "metadata": {},
   "outputs": [
    {
     "name": "stdout",
     "output_type": "stream",
     "text": [
      "|   iter    |  target   | max_fe... | n_esti... |\n",
      "-------------------------------------------------\n",
      "| \u001b[0m 1       \u001b[0m | \u001b[0m 0.5334  \u001b[0m | \u001b[0m 0.9294  \u001b[0m | \u001b[0m 213.3   \u001b[0m |\n",
      "| \u001b[0m 2       \u001b[0m | \u001b[0m 0.5287  \u001b[0m | \u001b[0m 0.6275  \u001b[0m | \u001b[0m 181.0   \u001b[0m |\n",
      "| \u001b[0m 3       \u001b[0m | \u001b[0m 0.5325  \u001b[0m | \u001b[0m 0.1138  \u001b[0m | \u001b[0m 159.9   \u001b[0m |\n",
      "| \u001b[95m 4       \u001b[0m | \u001b[95m 0.5352  \u001b[0m | \u001b[95m 0.8867  \u001b[0m | \u001b[95m 302.8   \u001b[0m |\n",
      "| \u001b[0m 5       \u001b[0m | \u001b[0m 0.5303  \u001b[0m | \u001b[0m 0.9203  \u001b[0m | \u001b[0m 195.5   \u001b[0m |\n",
      "| \u001b[0m 6       \u001b[0m | \u001b[0m 0.5334  \u001b[0m | \u001b[0m 0.5779  \u001b[0m | \u001b[0m 303.9   \u001b[0m |\n",
      "| \u001b[0m 7       \u001b[0m | \u001b[0m 0.5309  \u001b[0m | \u001b[0m 0.7984  \u001b[0m | \u001b[0m 301.3   \u001b[0m |\n",
      "| \u001b[95m 8       \u001b[0m | \u001b[95m 0.5371  \u001b[0m | \u001b[95m 0.1829  \u001b[0m | \u001b[95m 302.9   \u001b[0m |\n",
      "| \u001b[0m 9       \u001b[0m | \u001b[0m 0.5278  \u001b[0m | \u001b[0m 0.2132  \u001b[0m | \u001b[0m 302.4   \u001b[0m |\n",
      "| \u001b[0m 10      \u001b[0m | \u001b[0m 0.5328  \u001b[0m | \u001b[0m 0.4009  \u001b[0m | \u001b[0m 106.9   \u001b[0m |\n",
      "| \u001b[0m 11      \u001b[0m | \u001b[0m 0.534   \u001b[0m | \u001b[0m 0.6586  \u001b[0m | \u001b[0m 242.0   \u001b[0m |\n",
      "| \u001b[0m 12      \u001b[0m | \u001b[0m 0.5334  \u001b[0m | \u001b[0m 0.6102  \u001b[0m | \u001b[0m 105.9   \u001b[0m |\n",
      "| \u001b[0m 13      \u001b[0m | \u001b[0m 0.5294  \u001b[0m | \u001b[0m 0.68    \u001b[0m | \u001b[0m 251.5   \u001b[0m |\n",
      "| \u001b[0m 14      \u001b[0m | \u001b[0m 0.5244  \u001b[0m | \u001b[0m 0.2598  \u001b[0m | \u001b[0m 220.7   \u001b[0m |\n",
      "| \u001b[0m 15      \u001b[0m | \u001b[0m 0.5284  \u001b[0m | \u001b[0m 0.4977  \u001b[0m | \u001b[0m 31.83   \u001b[0m |\n",
      "| \u001b[0m 16      \u001b[0m | \u001b[0m 0.5269  \u001b[0m | \u001b[0m 0.2882  \u001b[0m | \u001b[0m 117.0   \u001b[0m |\n",
      "| \u001b[0m 17      \u001b[0m | \u001b[0m 0.5337  \u001b[0m | \u001b[0m 0.2186  \u001b[0m | \u001b[0m 131.7   \u001b[0m |\n",
      "| \u001b[0m 18      \u001b[0m | \u001b[0m 0.5334  \u001b[0m | \u001b[0m 0.2591  \u001b[0m | \u001b[0m 96.28   \u001b[0m |\n",
      "| \u001b[0m 19      \u001b[0m | \u001b[0m 0.5235  \u001b[0m | \u001b[0m 0.8393  \u001b[0m | \u001b[0m 152.2   \u001b[0m |\n",
      "| \u001b[0m 20      \u001b[0m | \u001b[0m 0.5297  \u001b[0m | \u001b[0m 0.4353  \u001b[0m | \u001b[0m 311.3   \u001b[0m |\n",
      "| \u001b[0m 21      \u001b[0m | \u001b[0m 0.5306  \u001b[0m | \u001b[0m 0.5473  \u001b[0m | \u001b[0m 316.3   \u001b[0m |\n",
      "| \u001b[95m 22      \u001b[0m | \u001b[95m 0.5386  \u001b[0m | \u001b[95m 0.9501  \u001b[0m | \u001b[95m 289.3   \u001b[0m |\n",
      "| \u001b[0m 23      \u001b[0m | \u001b[0m 0.534   \u001b[0m | \u001b[0m 0.98    \u001b[0m | \u001b[0m 38.6    \u001b[0m |\n",
      "| \u001b[0m 24      \u001b[0m | \u001b[0m 0.5309  \u001b[0m | \u001b[0m 0.3977  \u001b[0m | \u001b[0m 14.28   \u001b[0m |\n",
      "| \u001b[0m 25      \u001b[0m | \u001b[0m 0.5287  \u001b[0m | \u001b[0m 0.684   \u001b[0m | \u001b[0m 280.1   \u001b[0m |\n",
      "| \u001b[0m 26      \u001b[0m | \u001b[0m 0.53    \u001b[0m | \u001b[0m 0.1725  \u001b[0m | \u001b[0m 256.2   \u001b[0m |\n",
      "| \u001b[0m 27      \u001b[0m | \u001b[0m 0.5362  \u001b[0m | \u001b[0m 0.1033  \u001b[0m | \u001b[0m 306.3   \u001b[0m |\n",
      "| \u001b[0m 28      \u001b[0m | \u001b[0m 0.5226  \u001b[0m | \u001b[0m 0.7959  \u001b[0m | \u001b[0m 176.1   \u001b[0m |\n",
      "| \u001b[0m 29      \u001b[0m | \u001b[0m 0.5263  \u001b[0m | \u001b[0m 0.6323  \u001b[0m | \u001b[0m 122.7   \u001b[0m |\n",
      "| \u001b[0m 30      \u001b[0m | \u001b[0m 0.5325  \u001b[0m | \u001b[0m 0.8089  \u001b[0m | \u001b[0m 197.8   \u001b[0m |\n",
      "| \u001b[0m 31      \u001b[0m | \u001b[0m 0.5284  \u001b[0m | \u001b[0m 0.8196  \u001b[0m | \u001b[0m 69.32   \u001b[0m |\n",
      "| \u001b[0m 32      \u001b[0m | \u001b[0m 0.526   \u001b[0m | \u001b[0m 0.7976  \u001b[0m | \u001b[0m 13.16   \u001b[0m |\n",
      "| \u001b[0m 33      \u001b[0m | \u001b[0m 0.5325  \u001b[0m | \u001b[0m 0.9951  \u001b[0m | \u001b[0m 247.4   \u001b[0m |\n",
      "| \u001b[0m 34      \u001b[0m | \u001b[0m 0.5337  \u001b[0m | \u001b[0m 0.4013  \u001b[0m | \u001b[0m 246.5   \u001b[0m |\n",
      "| \u001b[0m 35      \u001b[0m | \u001b[0m 0.5383  \u001b[0m | \u001b[0m 0.9832  \u001b[0m | \u001b[0m 341.5   \u001b[0m |\n",
      "| \u001b[0m 36      \u001b[0m | \u001b[0m 0.5315  \u001b[0m | \u001b[0m 0.777   \u001b[0m | \u001b[0m 246.2   \u001b[0m |\n",
      "| \u001b[0m 37      \u001b[0m | \u001b[0m 0.526   \u001b[0m | \u001b[0m 0.8091  \u001b[0m | \u001b[0m 181.8   \u001b[0m |\n",
      "| \u001b[0m 38      \u001b[0m | \u001b[0m 0.5321  \u001b[0m | \u001b[0m 0.7637  \u001b[0m | \u001b[0m 385.9   \u001b[0m |\n",
      "| \u001b[0m 39      \u001b[0m | \u001b[0m 0.5386  \u001b[0m | \u001b[0m 0.1157  \u001b[0m | \u001b[0m 25.02   \u001b[0m |\n",
      "| \u001b[0m 40      \u001b[0m | \u001b[0m 0.534   \u001b[0m | \u001b[0m 0.1691  \u001b[0m | \u001b[0m 20.49   \u001b[0m |\n",
      "| \u001b[0m 41      \u001b[0m | \u001b[0m 0.5334  \u001b[0m | \u001b[0m 0.6873  \u001b[0m | \u001b[0m 118.6   \u001b[0m |\n",
      "| \u001b[0m 42      \u001b[0m | \u001b[0m 0.5278  \u001b[0m | \u001b[0m 0.1855  \u001b[0m | \u001b[0m 292.3   \u001b[0m |\n",
      "| \u001b[0m 43      \u001b[0m | \u001b[0m 0.5294  \u001b[0m | \u001b[0m 0.709   \u001b[0m | \u001b[0m 358.9   \u001b[0m |\n",
      "| \u001b[0m 44      \u001b[0m | \u001b[0m 0.5309  \u001b[0m | \u001b[0m 0.868   \u001b[0m | \u001b[0m 285.2   \u001b[0m |\n",
      "| \u001b[0m 45      \u001b[0m | \u001b[0m 0.53    \u001b[0m | \u001b[0m 0.7901  \u001b[0m | \u001b[0m 333.2   \u001b[0m |\n",
      "| \u001b[0m 46      \u001b[0m | \u001b[0m 0.5321  \u001b[0m | \u001b[0m 0.4596  \u001b[0m | \u001b[0m 396.4   \u001b[0m |\n",
      "| \u001b[0m 47      \u001b[0m | \u001b[0m 0.5294  \u001b[0m | \u001b[0m 0.4373  \u001b[0m | \u001b[0m 215.7   \u001b[0m |\n",
      "| \u001b[0m 48      \u001b[0m | \u001b[0m 0.5315  \u001b[0m | \u001b[0m 0.6574  \u001b[0m | \u001b[0m 242.1   \u001b[0m |\n",
      "| \u001b[0m 49      \u001b[0m | \u001b[0m 0.5309  \u001b[0m | \u001b[0m 0.3477  \u001b[0m | \u001b[0m 149.8   \u001b[0m |\n",
      "| \u001b[0m 50      \u001b[0m | \u001b[0m 0.5297  \u001b[0m | \u001b[0m 0.1539  \u001b[0m | \u001b[0m 24.94   \u001b[0m |\n",
      "| \u001b[0m 51      \u001b[0m | \u001b[0m 0.5312  \u001b[0m | \u001b[0m 0.1588  \u001b[0m | \u001b[0m 20.5    \u001b[0m |\n",
      "| \u001b[0m 52      \u001b[0m | \u001b[0m 0.5204  \u001b[0m | \u001b[0m 0.1259  \u001b[0m | \u001b[0m 306.3   \u001b[0m |\n",
      "| \u001b[0m 53      \u001b[0m | \u001b[0m 0.5263  \u001b[0m | \u001b[0m 0.4056  \u001b[0m | \u001b[0m 382.8   \u001b[0m |\n",
      "| \u001b[0m 54      \u001b[0m | \u001b[0m 0.5288  \u001b[0m | \u001b[0m 0.2063  \u001b[0m | \u001b[0m 167.7   \u001b[0m |\n"
     ]
    }
   ],
   "source": [
    "%%time \n",
    "bo_rf = bayesian_optimise_rf(X_train, y_train)"
   ]
  },
  {
   "cell_type": "code",
   "execution_count": null,
   "metadata": {},
   "outputs": [],
   "source": [
    "## grab max value \n",
    "bo_rf.max()"
   ]
  },
  {
   "cell_type": "code",
   "execution_count": null,
   "metadata": {},
   "outputs": [],
   "source": [
    "## save results \n",
    "from bayes_opt.logger import JSONLogger\n",
    "from bayes_opt.event import Events\n",
    "\n",
    "\n",
    "logger = JSONLogger(path=\"./logs.json\")\n",
    "optimizer.subscribe(Events.OPTIMIZATION_STEP, logger)\n",
    "\n",
    "# Results will be saved in ./logs.json\n",
    "optimizer.maximize(\n",
    "    init_points=2,\n",
    "    n_iter=3,\n",
    ")\n"
   ]
  },
  {
   "cell_type": "code",
   "execution_count": null,
   "metadata": {},
   "outputs": [],
   "source": [
    "# load in data \n",
    "\n",
    "from bayes_opt.util import load_logs\n",
    "\n",
    "\n",
    "new_optimizer = BayesianOptimization(\n",
    "    f=black_box_function,\n",
    "    pbounds={\"x\": (-2, 2), \"y\": (-2, 2)},\n",
    "    verbose=2,\n",
    "    random_state=7,\n",
    ")\n",
    "\n",
    "# New optimizer is loaded with previously seen points\n",
    "load_logs(new_optimizer, logs=[\"./logs.json\"]);\n"
   ]
  },
  {
   "cell_type": "markdown",
   "metadata": {},
   "source": [
    "## Score tuned models "
   ]
  },
  {
   "cell_type": "code",
   "execution_count": 209,
   "metadata": {},
   "outputs": [
    {
     "data": {
      "text/plain": [
       "0.5523956723338486"
      ]
     },
     "execution_count": 209,
     "metadata": {},
     "output_type": "execute_result"
    }
   ],
   "source": [
    "# randomized search random forest model\n",
    "rfc.score(X_test, y_test)"
   ]
  },
  {
   "cell_type": "code",
   "execution_count": 210,
   "metadata": {},
   "outputs": [
    {
     "data": {
      "text/plain": [
       "0.5465224111282844"
      ]
     },
     "execution_count": 210,
     "metadata": {},
     "output_type": "execute_result"
    }
   ],
   "source": [
    "# randomized search random forest model\n",
    "etc.score(X_test, y_test)"
   ]
  },
  {
   "cell_type": "code",
   "execution_count": 211,
   "metadata": {},
   "outputs": [
    {
     "data": {
      "image/png": "[encoded data removed]",
      "text/plain": [
       "<Figure size 432x288 with 1 Axes>"
      ]
     },
     "metadata": {
      "needs_background": "light"
     },
     "output_type": "display_data"
    }
   ],
   "source": [
    "import matplotlib.pyplot as plt \n",
    "\n",
    "y_pred = rfc.predict(X_test)\n",
    "plt.hist(y_pred, bins=3);"
   ]
  },
  {
   "cell_type": "code",
   "execution_count": 212,
   "metadata": {},
   "outputs": [
    {
     "data": {
      "image/png": "[encoded data removed]",
      "text/plain": [
       "<Figure size 432x288 with 1 Axes>"
      ]
     },
     "metadata": {
      "needs_background": "light"
     },
     "output_type": "display_data"
    }
   ],
   "source": [
    "y_pred = etc.predict(X_test)\n",
    "plt.hist(y_pred, bins=3);"
   ]
  },
  {
   "cell_type": "code",
   "execution_count": 213,
   "metadata": {},
   "outputs": [
    {
     "name": "stdout",
     "output_type": "stream",
     "text": [
      "Accuracy score of the model is:  0.5465224111282844\n"
     ]
    },
    {
     "data": {
      "image/png": "[encoded data removed]",
      "text/plain": [
       "<Figure size 432x288 with 2 Axes>"
      ]
     },
     "metadata": {
      "needs_background": "light"
     },
     "output_type": "display_data"
    }
   ],
   "source": [
    "from sklearn.metrics import accuracy_score, plot_confusion_matrix\n",
    "\n",
    "\n",
    "print (\"Accuracy score of the model is: \", accuracy_score(y_test, y_pred))\n",
    "plot_confusion_matrix(etc, X_test, y_test);\n"
   ]
  },
  {
   "cell_type": "code",
   "execution_count": null,
   "metadata": {},
   "outputs": [],
   "source": []
  },
  {
   "cell_type": "markdown",
   "metadata": {},
   "source": [
    "### Save hyperparameter Models "
   ]
  },
  {
   "cell_type": "code",
   "execution_count": null,
   "metadata": {},
   "outputs": [],
   "source": [
    "# Serialize Optimized Random Forest \n",
    "import pickle \n",
    "pickle.dump(etc, open('optimized-etc-82', 'wb'))\n",
    "\n"
   ]
  },
  {
   "cell_type": "markdown",
   "metadata": {},
   "source": [
    "## Develop Voting Ensemble "
   ]
  },
  {
   "cell_type": "code",
   "execution_count": 49,
   "metadata": {},
   "outputs": [
    {
     "name": "stdout",
     "output_type": "stream",
     "text": [
      ">etc1 0.784 (0.016)\n",
      ">etc2 0.785 (0.017)\n",
      ">rfc1 0.751 (0.021)\n",
      ">rfc2 0.750 (0.018)\n",
      ">xgb 0.772 (0.018)\n",
      ">hard_voting 0.789 (0.019)\n"
     ]
    },
    {
     "data": {
      "image/png": "[encoded data removed]",
      "text/plain": [
       "<Figure size 432x288 with 1 Axes>"
      ]
     },
     "metadata": {
      "needs_background": "light"
     },
     "output_type": "display_data"
    },
    {
     "name": "stdout",
     "output_type": "stream",
     "text": [
      "CPU times: user 813 ms, sys: 374 ms, total: 1.19 s\n",
      "Wall time: 5min 32s\n"
     ]
    }
   ],
   "source": [
    "%%time \n",
    "# compare hard voting to standalone classifiers\n",
    "from numpy import mean\n",
    "from numpy import std\n",
    "from sklearn.datasets import make_classification\n",
    "from sklearn.model_selection import cross_val_score\n",
    "from sklearn.model_selection import RepeatedStratifiedKFold\n",
    "from sklearn.neighbors import KNeighborsClassifier\n",
    "from sklearn.ensemble import VotingClassifier, ExtraTreesClassifier, RandomForestClassifier\n",
    "from xgboost import XGBClassifier\n",
    "from matplotlib import pyplot\n",
    "\n",
    "# get a voting ensemble of models\n",
    "def get_voting():\n",
    "    # define the base models\n",
    "    models = list()\n",
    "    models.append(('etc1', ExtraTreesClassifier(n_estimators=710,min_samples_split=16,min_samples_leaf=1)))\n",
    "    models.append(('etc2', ExtraTreesClassifier()))\n",
    "    models.append(('rfc1', RandomForestClassifier(n_estimators=460,min_samples_split=2,min_samples_leaf=3)))\n",
    "    models.append(('rfc2', RandomForestClassifier()))\n",
    "    models.append(('xgb', XGBClassifier()))\n",
    "    # define the voting ensemble\n",
    "    ensemble = VotingClassifier(estimators=models, voting='hard')\n",
    "    return ensemble\n",
    "\n",
    "# get a list of models to evaluate\n",
    "def get_models():\n",
    "\tmodels = dict()\n",
    "\tmodels['etc1'] = ExtraTreesClassifier(n_estimators=710,min_samples_split=16,min_samples_leaf=1)\n",
    "\tmodels['etc2'] = ExtraTreesClassifier(n_estimators=710,min_samples_split=16,min_samples_leaf=1)\n",
    "\tmodels['rfc1'] = RandomForestClassifier(n_estimators=460,min_samples_split=2,min_samples_leaf=3)\n",
    "\tmodels['rfc2'] = RandomForestClassifier(n_estimators=460,min_samples_split=2,min_samples_leaf=3)\n",
    "\tmodels['xgb'] = XGBClassifier()\n",
    "\tmodels['hard_voting'] = get_voting()\n",
    "\treturn models\n",
    "\n",
    "# evaluate a give model using cross-validation\n",
    "def evaluate_model(model, X, y):\n",
    "\tcv = RepeatedStratifiedKFold(n_splits=10, n_repeats=3, random_state=1)\n",
    "\tscores = cross_val_score(model, X_train, y_train, scoring='accuracy', cv=cv, n_jobs=-1, error_score='raise')\n",
    "\treturn scores\n",
    "\n",
    "# define dataset\n",
    "\n",
    "# get the models to evaluate\n",
    "models = get_models()\n",
    "# evaluate the models and store results\n",
    "results, names = list(), list()\n",
    "for name, model in models.items():\n",
    "\tscores = evaluate_model(model, X_train, y_train)\n",
    "\tresults.append(scores)\n",
    "\tnames.append(name)\n",
    "\tprint('>%s %.3f (%.3f)' % (name, mean(scores), std(scores)))\n",
    "# plot model performance for comparison\n",
    "pyplot.boxplot(results, labels=names, showmeans=True)\n",
    "pyplot.show()"
   ]
  },
  {
   "cell_type": "code",
   "execution_count": 52,
   "metadata": {},
   "outputs": [
    {
     "name": "stdout",
     "output_type": "stream",
     "text": [
      "Predicted Class: 1\n"
     ]
    }
   ],
   "source": [
    "# make a prediction with a hard voting ensemble\n",
    "from sklearn.datasets import make_classification\n",
    "from sklearn.ensemble import VotingClassifier\n",
    "from sklearn.neighbors import KNeighborsClassifier\n",
    "# define the base models\n",
    "models = list()\n",
    "models.append(('etc1', ExtraTreesClassifier(n_estimators=710,min_samples_split=16,min_samples_leaf=1)))\n",
    "models.append(('etc2', ExtraTreesClassifier()))\n",
    "models.append(('rfc1', RandomForestClassifier(n_estimators=460,min_samples_split=2,min_samples_leaf=3)))\n",
    "models.append(('rfc2', RandomForestClassifier()))\n",
    "models.append(('xgb', XGBClassifier()))\n",
    "# define the hard voting ensemble\n",
    "ensemble = VotingClassifier(estimators=models, voting='hard')\n",
    "# fit the model on all available data\n",
    "ensemble.fit(X_train, y_train)\n",
    "# make a prediction for one example\n",
    "\n",
    "yhat = ensemble.predict(new_data)\n",
    "print('Predicted Class: %d' % (yhat))"
   ]
  },
  {
   "cell_type": "code",
   "execution_count": 53,
   "metadata": {},
   "outputs": [
    {
     "data": {
      "text/plain": [
       "VotingClassifier(estimators=[('etc1',\n",
       "                              ExtraTreesClassifier(min_samples_split=16,\n",
       "                                                   n_estimators=710)),\n",
       "                             ('etc2', ExtraTreesClassifier()),\n",
       "                             ('rfc1',\n",
       "                              RandomForestClassifier(min_samples_leaf=3,\n",
       "                                                     n_estimators=460)),\n",
       "                             ('rfc2', RandomForestClassifier()),\n",
       "                             ('xgb',\n",
       "                              XGBClassifier(base_score=None, booster=None,\n",
       "                                            colsample_bylevel=None,\n",
       "                                            colsample_bynode=None,\n",
       "                                            colsample_bytree=None,...\n",
       "                                            gpu_id=None, importance_type='gain',\n",
       "                                            interaction_constraints=None,\n",
       "                                            learning_rate=None,\n",
       "                                            max_delta_step=None, max_depth=None,\n",
       "                                            min_child_weight=None, missing=nan,\n",
       "                                            monotone_constraints=None,\n",
       "                                            n_estimators=100, n_jobs=None,\n",
       "                                            num_parallel_tree=None,\n",
       "                                            random_state=None, reg_alpha=None,\n",
       "                                            reg_lambda=None,\n",
       "                                            scale_pos_weight=None,\n",
       "                                            subsample=None, tree_method=None,\n",
       "                                            validate_parameters=None,\n",
       "                                            verbosity=None))])"
      ]
     },
     "execution_count": 53,
     "metadata": {},
     "output_type": "execute_result"
    }
   ],
   "source": [
    "ensemble"
   ]
  },
  {
   "cell_type": "markdown",
   "metadata": {},
   "source": [
    "## Save Ensemble Model "
   ]
  },
  {
   "cell_type": "code",
   "execution_count": 54,
   "metadata": {},
   "outputs": [],
   "source": [
    "import pickle \n",
    "pickle.dump(ensemble, open('5-model-ensemble', 'wb'))"
   ]
  },
  {
   "cell_type": "markdown",
   "metadata": {},
   "source": [
    "## Make Predictions on New Data "
   ]
  },
  {
   "cell_type": "code",
   "execution_count": 30,
   "metadata": {},
   "outputs": [],
   "source": [
    "def get_X(data):\n",
    "    \"\"\"Return model design matrix X\"\"\"\n",
    "    return data.filter(like='X').values\n",
    "\n",
    "\n",
    "# def get_y(data):\n",
    "#     \"\"\"Return dependent variable y\"\"\"\n",
    "#     y = data.adjclose.pct_change(48).shift(-48)  # Returns after roughly two days\n",
    "#     y[y.between(-.004, .004)] = 0             # Devalue returns smaller than 0.4%\n",
    "#     y[y > 0] = 1\n",
    "#     y[y < 0] = -1\n",
    "#     return y\n",
    "\n",
    "\n",
    "def get_clean_Xy(df):\n",
    "    \"\"\"Return (X, y) cleaned of NaN values\"\"\"\n",
    "    X = get_X(df)\n",
    "#     y = get_y(df).values\n",
    "#     isnan = np.isnan(y)\n",
    "    X = X[~np.isnan(X)]\n",
    "#     y = y[~isnan]\n",
    "    return X\n"
   ]
  },
  {
   "cell_type": "code",
   "execution_count": 57,
   "metadata": {},
   "outputs": [
    {
     "data": {
      "text/plain": [
       "array([1.])"
      ]
     },
     "execution_count": 57,
     "metadata": {},
     "output_type": "execute_result"
    }
   ],
   "source": [
    "## Load in model \n",
    "import pickle\n",
    "with open('5-model-ensemble', 'rb') as file:\n",
    "    ensemble = pickle.load(file)\n",
    "    \n",
    "\n",
    "features = features.tail(1)\n",
    "X = features.drop(['stock_move'], axis=1)\n",
    "nparray = get_clean_Xy(X)\n",
    "\n",
    "new_data = nparray.reshape(1,-1)\n",
    "\n",
    "# ensemble = VotingClassifier(estimators=models, voting='hard')\n",
    "\n",
    "\n",
    "yhat = ensemble.predict(new_data)\n",
    "yhat"
   ]
  },
  {
   "cell_type": "code",
   "execution_count": null,
   "metadata": {},
   "outputs": [],
   "source": []
  },
  {
   "cell_type": "code",
   "execution_count": null,
   "metadata": {},
   "outputs": [],
   "source": []
  },
  {
   "cell_type": "code",
   "execution_count": null,
   "metadata": {},
   "outputs": [],
   "source": []
  }
 ],
 "metadata": {
  "kernelspec": {
   "display_name": "Python 3",
   "language": "python",
   "name": "python3"
  },
  "language_info": {
   "codemirror_mode": {
    "name": "ipython",
    "version": 3
   },
   "file_extension": ".py",
   "mimetype": "text/x-python",
   "name": "python",
   "nbconvert_exporter": "python",
   "pygments_lexer": "ipython3",
   "version": "3.8.3"
  }
 },
 "nbformat": 4,
 "nbformat_minor": 4
}
